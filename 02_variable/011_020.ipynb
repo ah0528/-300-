{
 "cells": [
  {
   "cell_type": "markdown",
   "id": "7f8f07b0",
   "metadata": {},
   "source": [
    "**011 변수 사용하기**\n",
    "\n",
    "삼성전자라는 변수로 50,000원을 바인딩해보세요. 삼성전자 주식 10주를 보유하고 있을 때 총 평가금액을 출력하세요."
   ]
  },
  {
   "cell_type": "code",
   "execution_count": 1,
   "id": "49b4ac3d",
   "metadata": {},
   "outputs": [
    {
     "name": "stdout",
     "output_type": "stream",
     "text": [
      "총 평가금액 : 500000\n"
     ]
    }
   ],
   "source": [
    "samsung = 50000\n",
    "print('총 평가금액 :',samsung*10)"
   ]
  },
  {
   "cell_type": "markdown",
   "id": "7ef8ff47",
   "metadata": {},
   "source": [
    "**012 변수 사용하기**\n",
    "\n",
    "다음 표는 삼성전자의 일부 투자정보입니다. 변수를 사용해서 시가총액, 현재가, PER 등을 바인딩해보세요.\n",
    "\n",
    "|항목|값|\n",
    "|----|----|\n",
    "|시가총액|298조|\n",
    "|현재가|50,000원|\n",
    "|PER|15.79|"
   ]
  },
  {
   "cell_type": "code",
   "execution_count": 5,
   "id": "27caa766",
   "metadata": {},
   "outputs": [
    {
     "name": "stdout",
     "output_type": "stream",
     "text": [
      "시가총액 : 298조\n",
      "현재가 : 50000원\n",
      "PER : 15.79\n"
     ]
    }
   ],
   "source": [
    "marketCap = 298\n",
    "price = 50000\n",
    "per = 15.79\n",
    "\n",
    "print(f'시가총액 : {marketCap}조\\n현재가 : {price}원\\nPER : {per}')"
   ]
  },
  {
   "cell_type": "markdown",
   "id": "dc51ff17",
   "metadata": {},
   "source": [
    "**013 문자열 출력**\n",
    "\n",
    "변수 s와 t에는 각각 문자열이 바인딩 되어있습니다.\n",
    "\n",
    "s = \"hello\"\n",
    "\n",
    "t = \"python\"\n",
    "\n",
    "두 변수를 이용하여 아래와 같이 출력해보세요.\n",
    "\n",
    "실행 예:\n",
    "\n",
    "hello! python"
   ]
  },
  {
   "cell_type": "code",
   "execution_count": 7,
   "id": "48b6e399",
   "metadata": {},
   "outputs": [
    {
     "name": "stdout",
     "output_type": "stream",
     "text": [
      "hello! python\n"
     ]
    }
   ],
   "source": [
    "s = 'hello'\n",
    "t = 'python'\n",
    "\n",
    "print(f'{s}! {t}')"
   ]
  },
  {
   "cell_type": "markdown",
   "id": "6e7ee93f",
   "metadata": {},
   "source": [
    "**014 파이썬을 이용한 값 계산**\n",
    "\n",
    "아래 코드의 실행 결과를 예상해보세요.\n",
    "\n",
    " 2 + 2 * 3 "
   ]
  },
  {
   "cell_type": "markdown",
   "id": "408c3b57",
   "metadata": {},
   "source": [
    "8\n",
    "\n",
    "이유 : 연산자의 우선순위로 인해 *가 먼저 계산하고 +를 계산한다."
   ]
  },
  {
   "cell_type": "markdown",
   "id": "2e80a007",
   "metadata": {},
   "source": [
    "**015 type 함수**\n",
    "\n",
    "type() 함수는 데이터 타입을 판별합니다. 변수 a에는 128 숫자가 바인딩돼 있어 type 함수가 int (정수)형임을 알려줍니다.\n",
    "\n",
    "a = 128\n",
    " \n",
    " print (type(a))\n",
    " \n",
    "<class 'int'>\n",
    "\n",
    "아래 변수에 바인딩된 값의 타입을 판별해보세요.\n",
    "\n",
    " a = \"132\""
   ]
  },
  {
   "cell_type": "code",
   "execution_count": 19,
   "id": "4cf4dfca",
   "metadata": {},
   "outputs": [
    {
     "data": {
      "text/plain": [
       "('132', str)"
      ]
     },
     "execution_count": 19,
     "metadata": {},
     "output_type": "execute_result"
    }
   ],
   "source": [
    "a = '132'\n",
    "a, type(a)"
   ]
  },
  {
   "cell_type": "markdown",
   "id": "3a521fbe",
   "metadata": {},
   "source": [
    "**016 문자열을 정수로 변환**\n",
    "\n",
    "문자열 '720'를 정수형으로 변환해보세요.\n",
    "\n",
    " num_str = \"720\""
   ]
  },
  {
   "cell_type": "code",
   "execution_count": 17,
   "id": "f37cecb2",
   "metadata": {},
   "outputs": [
    {
     "data": {
      "text/plain": [
       "(720, int)"
      ]
     },
     "execution_count": 17,
     "metadata": {},
     "output_type": "execute_result"
    }
   ],
   "source": [
    "num_str='720'\n",
    "num_int = int(num_str)\n",
    "num_int, type(num_int)"
   ]
  },
  {
   "cell_type": "markdown",
   "id": "ee6ddde8",
   "metadata": {},
   "source": [
    "**017 정수를 문자열 100으로 변환**\n",
    "\n",
    "정수 100을 문자열 '100'으로 변환해보세요.\n",
    "\n",
    "num = 100"
   ]
  },
  {
   "cell_type": "code",
   "execution_count": 16,
   "id": "af40f704",
   "metadata": {},
   "outputs": [
    {
     "data": {
      "text/plain": [
       "(100, str)"
      ]
     },
     "execution_count": 16,
     "metadata": {},
     "output_type": "execute_result"
    }
   ],
   "source": [
    "num = 100\n",
    "str_num = str(num)\n",
    "num, type(str_num)"
   ]
  },
  {
   "cell_type": "markdown",
   "id": "92ab13c2",
   "metadata": {},
   "source": [
    "**018 문자열을 실수로 변환**\n",
    "\n",
    "문자열 \"15.79\"를 실수(float) 타입으로 변환해보세요."
   ]
  },
  {
   "cell_type": "code",
   "execution_count": 15,
   "id": "9421c155",
   "metadata": {},
   "outputs": [
    {
     "data": {
      "text/plain": [
       "(15.79, float)"
      ]
     },
     "execution_count": 15,
     "metadata": {},
     "output_type": "execute_result"
    }
   ],
   "source": [
    "f_str = float('15.79')\n",
    "f_str, type(f_str)"
   ]
  },
  {
   "cell_type": "markdown",
   "id": "006e6166",
   "metadata": {},
   "source": [
    "**019 문자열을 정수로 변환**\n",
    "\n",
    "year라는 변수가 문자열 타입의 연도를 바인딩하고 있습니다. 이를 정수로 변환한 후 최근 3년의 연도를 화면에 출력해보세요.\n",
    "\n",
    "year = \"2020\""
   ]
  },
  {
   "cell_type": "code",
   "execution_count": 21,
   "id": "6f91b9d7",
   "metadata": {},
   "outputs": [
    {
     "data": {
      "text/plain": [
       "(2017, 2018, 2019)"
      ]
     },
     "execution_count": 21,
     "metadata": {},
     "output_type": "execute_result"
    }
   ],
   "source": [
    "year = '2020'\n",
    "result = int(year)\n",
    "result-3, result-2, result-1"
   ]
  },
  {
   "cell_type": "markdown",
   "id": "31c3c83d",
   "metadata": {},
   "source": [
    "**020 파이썬 계산**\n",
    "\n",
    "에이컨이 월 48,584원에 무이자 36개월의 조건으로 홈쇼핑에서 판매되고 있습니다. 총 금액은 계산한 후 이를 화면에 출력해보세요. (변수사용하기)"
   ]
  },
  {
   "cell_type": "code",
   "execution_count": 25,
   "id": "4af9b8da",
   "metadata": {},
   "outputs": [
    {
     "name": "stdout",
     "output_type": "stream",
     "text": [
      "1,749,024원\n"
     ]
    }
   ],
   "source": [
    "air_month = 48584\n",
    "pay_month = 36\n",
    "total = air_month * pay_month\n",
    "print(format(total, ',')+'원')"
   ]
  }
 ],
 "metadata": {
  "kernelspec": {
   "display_name": "Python 3 (ipykernel)",
   "language": "python",
   "name": "python3"
  },
  "language_info": {
   "codemirror_mode": {
    "name": "ipython",
    "version": 3
   },
   "file_extension": ".py",
   "mimetype": "text/x-python",
   "name": "python",
   "nbconvert_exporter": "python",
   "pygments_lexer": "ipython3",
   "version": "3.9.7"
  }
 },
 "nbformat": 4,
 "nbformat_minor": 5
}
