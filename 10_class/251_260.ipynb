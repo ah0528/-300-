{
 "cells": [
  {
   "cell_type": "markdown",
   "id": "e88b9e63",
   "metadata": {},
   "source": [
    "**251 클래스, 객체, 인스턴스**\n",
    "\n",
    "클래스, 객체, 인스턴스에 대해 설명해봅시다."
   ]
  },
  {
   "cell_type": "raw",
   "id": "82890eaa",
   "metadata": {},
   "source": [
    "클래스 : 객체와 함수가 같이 있는 세트. 붕어빵의 틀\n",
    "객체 : 클래스에서 할당되는 값을 객체라고 한다. 붕어빵\n",
    "인스턴스 : 클래스의 객체를 인스턴스라고도 한다"
   ]
  },
  {
   "cell_type": "markdown",
   "id": "4b0261ba",
   "metadata": {},
   "source": [
    "**252 클래스 정의**\n",
    "\n",
    "비어있는 사람 (Human) 클래스를 \"정의\" 해보세요."
   ]
  },
  {
   "cell_type": "code",
   "execution_count": 1,
   "id": "c3230468",
   "metadata": {},
   "outputs": [],
   "source": [
    "class Human:\n",
    "    pass"
   ]
  },
  {
   "cell_type": "markdown",
   "id": "91a149c3",
   "metadata": {},
   "source": [
    "**253 인스턴스 생성**\n",
    "\n",
    "사람 (Human) 클래스의 인스턴스를 \"생성\" 하고 이를 areum 변수로 바인딩해보세요."
   ]
  },
  {
   "cell_type": "code",
   "execution_count": 2,
   "id": "a2f41ecf",
   "metadata": {},
   "outputs": [],
   "source": [
    "areum = Human()"
   ]
  },
  {
   "cell_type": "markdown",
   "id": "25a0bef8",
   "metadata": {},
   "source": [
    "**254 클래스 생성자-1**\n",
    "\n",
    "사람 (Human) 클래스에 \"응애응애\"를 출력하는 생성자를 추가하세요."
   ]
  },
  {
   "cell_type": "raw",
   "id": "1335641c",
   "metadata": {},
   "source": [
    ">>> areum = Human()\n",
    "응애응애"
   ]
  },
  {
   "cell_type": "code",
   "execution_count": 5,
   "id": "0e869d8c",
   "metadata": {},
   "outputs": [
    {
     "name": "stdout",
     "output_type": "stream",
     "text": [
      "응애응애\n"
     ]
    }
   ],
   "source": [
    "class Human:\n",
    "    def __init__(self):\n",
    "        print('응애응애')\n",
    "\n",
    "areum = Human()"
   ]
  },
  {
   "cell_type": "markdown",
   "id": "b86a065f",
   "metadata": {},
   "source": [
    "**255 클래스 생성자-2**\n",
    "\n",
    "사람 (Human) 클래스에 (이름, 나이, 성별)을 받는 생성자를 추가하세요."
   ]
  },
  {
   "cell_type": "raw",
   "id": "cefb801a",
   "metadata": {},
   "source": [
    ">>> areum = Human(\"아름\", 25, \"여자\")"
   ]
  },
  {
   "cell_type": "code",
   "execution_count": 6,
   "id": "662715ee",
   "metadata": {},
   "outputs": [],
   "source": [
    "class Human:\n",
    "    def __init__(self, name, age, sex):\n",
    "        self.name = name\n",
    "        self.age = age\n",
    "        self.sex =sex\n",
    "\n",
    "areum = Human(\"아름\", 25, \"여자\")"
   ]
  },
  {
   "cell_type": "markdown",
   "id": "303f3259",
   "metadata": {},
   "source": [
    "**256 인스턴스 속성에 접근**\n",
    "\n",
    "255에서 생성한 인스턴스의 이름, 나이, 성별을 출력하세요. 인스턴스 변수에 접근하여 값을 출력하면 됩니다.\n",
    "\n",
    "이름: 조아름, 나이: 25, 성별: 여자\n",
    "인스턴스 변수에 접근하여 값을 가져오는 예"
   ]
  },
  {
   "cell_type": "raw",
   "id": "1acd47af",
   "metadata": {},
   "source": [
    ">>> areum.age\n",
    "25"
   ]
  },
  {
   "cell_type": "code",
   "execution_count": 7,
   "id": "e81fcaaa",
   "metadata": {},
   "outputs": [
    {
     "data": {
      "text/plain": [
       "25"
      ]
     },
     "execution_count": 7,
     "metadata": {},
     "output_type": "execute_result"
    }
   ],
   "source": [
    "class Human:\n",
    "    def __init__(self, name, age, sex):\n",
    "        self.name = name\n",
    "        self.age = age\n",
    "        self.sex =sex\n",
    "\n",
    "areum = Human(\"아름\", 25, \"여자\")\n",
    "areum.age"
   ]
  },
  {
   "cell_type": "markdown",
   "id": "86016675",
   "metadata": {},
   "source": [
    "**257 클래스 메소드 - 1**\n",
    "\n",
    "사람 (Human) 클래스에서 이름, 나이, 성별을 출력하는 who() 메소드를 추가하세요."
   ]
  },
  {
   "cell_type": "raw",
   "id": "999a8c3a",
   "metadata": {},
   "source": [
    ">>> areum.who()\n",
    "이름: 조아름, 나이: 25, 성별: 여자"
   ]
  },
  {
   "cell_type": "code",
   "execution_count": 9,
   "id": "8a50aeef",
   "metadata": {},
   "outputs": [
    {
     "name": "stdout",
     "output_type": "stream",
     "text": [
      "아름 25 여자\n"
     ]
    }
   ],
   "source": [
    "class Human:\n",
    "    def __init__(self, name, age, sex):\n",
    "        self.name = name\n",
    "        self.age = age\n",
    "        self.sex =sex\n",
    "    \n",
    "    def who(self):\n",
    "        print(self.name, self.age, self.sex)\n",
    "\n",
    "areum = Human(\"아름\", 25, \"여자\")\n",
    "areum.who()"
   ]
  },
  {
   "cell_type": "markdown",
   "id": "001bc765",
   "metadata": {},
   "source": [
    "**258 클래스 메소드 - 2**\n",
    "\n",
    "사람 (Human) 클래스에 (이름, 나이, 성별)을 받는 setInfo 메소드를 추가하세요."
   ]
  },
  {
   "cell_type": "raw",
   "id": "c4e57f18",
   "metadata": {},
   "source": [
    ">>> areum = Human(\"모름\", 0, \"모름\")\n",
    ">>> areum.setInfo(\"아름\", 25, \"여자\")"
   ]
  },
  {
   "cell_type": "code",
   "execution_count": 13,
   "id": "0b483400",
   "metadata": {},
   "outputs": [
    {
     "name": "stdout",
     "output_type": "stream",
     "text": [
      "아름 25 여자\n"
     ]
    }
   ],
   "source": [
    "class Human:\n",
    "    def __init__(self, name, age, sex):\n",
    "        self.name = name\n",
    "        self.age = age\n",
    "        self.sex =sex\n",
    "\n",
    "    def who(self):\n",
    "        print(self.name, self.age, self.sex)\n",
    "        \n",
    "    def setInfo(self, name, age, sex):\n",
    "        self.name = name\n",
    "        self.age = age\n",
    "        self.sex = sex\n",
    "        \n",
    "    \n",
    "areum = Human(\"모름\", 0, \"모름\")\n",
    "areum.setInfo(\"아름\", 25, \"여자\")\n",
    "areum.who()"
   ]
  },
  {
   "cell_type": "markdown",
   "id": "5c6d5d9e",
   "metadata": {},
   "source": [
    "**259 클래스 소멸자**\n",
    "\n",
    "사람 (human) 클래스에 \"나의 죽음을 알리지 말라\"를 출력하는 소멸자를 추가하세요."
   ]
  },
  {
   "cell_type": "raw",
   "id": "4056c4b0",
   "metadata": {},
   "source": [
    ">>> areum = Human(\"아름\", 25, \"여자\")\n",
    ">>> del areum\n",
    "나의 죽음을 알리지 말라"
   ]
  },
  {
   "cell_type": "code",
   "execution_count": 14,
   "id": "b67831a6",
   "metadata": {},
   "outputs": [
    {
     "name": "stdout",
     "output_type": "stream",
     "text": [
      "나의 죽음을 알리지 말라\n"
     ]
    }
   ],
   "source": [
    "class Human:\n",
    "    def __init__(self, name, age, sex):\n",
    "        self.name = name\n",
    "        self.age = age\n",
    "        self.sex =sex\n",
    "        \n",
    "    def __del__(self):\n",
    "        print('나의 죽음을 알리지 말라')\n",
    "\n",
    "    def who(self):\n",
    "        print(self.name, self.age, self.sex)\n",
    "        \n",
    "    def setInfo(self, name, age, sex):\n",
    "        self.name = name\n",
    "        self.age = age\n",
    "        self.sex = sex\n",
    "        \n",
    "    \n",
    "areum = Human(\"아름\", 25, \"여자\")\n",
    "del(areum)"
   ]
  },
  {
   "cell_type": "markdown",
   "id": "a0952478",
   "metadata": {},
   "source": [
    "**260 에러의 원인**\n",
    "\n",
    "아래와 같은 에러가 발생한 원인에 대해 설명하세요."
   ]
  },
  {
   "cell_type": "raw",
   "id": "97a54713",
   "metadata": {},
   "source": [
    "class OMG : \n",
    "    def print() :\n",
    "        print(\"Oh my god\")\n",
    "\n",
    ">>> >>> myStock = OMG()\n",
    ">>> myStock.print()\n",
    "TypeError Traceback (most recent call last)\n",
    "<ipython-input-233-c85c04535b22> in <module>()\n",
    "----> myStock.print()\n",
    "\n",
    "TypeError: print() takes 0 positional arguments but 1 was given"
   ]
  },
  {
   "cell_type": "code",
   "execution_count": null,
   "id": "1aa2c8bd",
   "metadata": {},
   "outputs": [],
   "source": [
    "class OMG : \n",
    "    def print(self) :\n",
    "        print(\"Oh my god\")\n",
    "        \n",
    "이렇게 변경해야 한다."
   ]
  }
 ],
 "metadata": {
  "kernelspec": {
   "display_name": "Python 3 (ipykernel)",
   "language": "python",
   "name": "python3"
  },
  "language_info": {
   "codemirror_mode": {
    "name": "ipython",
    "version": 3
   },
   "file_extension": ".py",
   "mimetype": "text/x-python",
   "name": "python",
   "nbconvert_exporter": "python",
   "pygments_lexer": "ipython3",
   "version": "3.9.7"
  }
 },
 "nbformat": 4,
 "nbformat_minor": 5
}
