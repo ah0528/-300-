{
 "cells": [
  {
   "cell_type": "markdown",
   "id": "937b1010",
   "metadata": {},
   "source": [
    "**281 클래스 정의**\n",
    "\n",
    "다음 코드가 동작하도록 차 클래스를 정의하세요."
   ]
  },
  {
   "cell_type": "raw",
   "id": "65e94215",
   "metadata": {},
   "source": [
    ">> car = 차(2, 1000)\n",
    ">> car.바퀴\n",
    "2\n",
    ">> car.가격\n",
    "1000"
   ]
  },
  {
   "cell_type": "code",
   "execution_count": 1,
   "id": "77a44e4a",
   "metadata": {},
   "outputs": [
    {
     "name": "stdout",
     "output_type": "stream",
     "text": [
      "2\n",
      "1000\n"
     ]
    }
   ],
   "source": [
    "class Car:\n",
    "    def __init__(self,wheel,price):\n",
    "        self.wheel = wheel\n",
    "        self.price = price\n",
    "\n",
    "\n",
    "\n",
    "car = Car(2,1000)\n",
    "\n",
    "print(car.wheel)\n",
    "print(car.price)"
   ]
  },
  {
   "cell_type": "markdown",
   "id": "7043cd68",
   "metadata": {},
   "source": [
    "**282 클래스 상속**\n",
    "\n",
    "차 클래스를 상속받은 자전차 클래스를 정의하세요."
   ]
  },
  {
   "cell_type": "code",
   "execution_count": 2,
   "id": "0aa4c29f",
   "metadata": {},
   "outputs": [],
   "source": [
    "class Car:\n",
    "    def __init__(self,wheel,price):\n",
    "        self.wheel = wheel\n",
    "        self.price = price\n",
    "\n",
    "class Car2:\n",
    "    pass"
   ]
  },
  {
   "cell_type": "markdown",
   "id": "19f44a95",
   "metadata": {},
   "source": [
    "**283 클래스 상속**\n",
    "\n",
    "다음 코드가 동작하도록 자전차 클래스를 정의하세요. 단 자전차 클래스는 차 클래스를 상속받습니다."
   ]
  },
  {
   "cell_type": "raw",
   "id": "f7d2aa28",
   "metadata": {},
   "source": [
    ">> bicycle = 자전차(2, 100)\n",
    ">> bicycle.가격\n",
    "100"
   ]
  },
  {
   "cell_type": "code",
   "execution_count": 4,
   "id": "a461da99",
   "metadata": {},
   "outputs": [
    {
     "data": {
      "text/plain": [
       "100"
      ]
     },
     "execution_count": 4,
     "metadata": {},
     "output_type": "execute_result"
    }
   ],
   "source": [
    "class Car:\n",
    "    def __init__(self,wheel,price):\n",
    "        self.wheel = wheel\n",
    "        self.price = price\n",
    "\n",
    "class Car2(Car):\n",
    "    def __init__(self,wheel,price):\n",
    "        super().__init__(wheel,price)\n",
    "\n",
    "bicycle = Car2(2,100)\n",
    "bicycle.price"
   ]
  },
  {
   "cell_type": "markdown",
   "id": "a2127532",
   "metadata": {},
   "source": [
    "**284 클래스 상속**\n",
    "\n",
    "다음 코드가 동작하도록 자전차 클래스를 정의하세요. 단 자전차 클래스는 차 클래스를 상속받습니다."
   ]
  },
  {
   "cell_type": "raw",
   "id": "af7a2da2",
   "metadata": {},
   "source": [
    ">> bicycle = 자전차(2, 100, \"시마노\")\n",
    ">> bicycle.구동계\n",
    "시마노"
   ]
  },
  {
   "cell_type": "code",
   "execution_count": 5,
   "id": "ae59669d",
   "metadata": {},
   "outputs": [
    {
     "data": {
      "text/plain": [
       "'시마노'"
      ]
     },
     "execution_count": 5,
     "metadata": {},
     "output_type": "execute_result"
    }
   ],
   "source": [
    "class Car:\n",
    "    def __init__(self,wheel,price):\n",
    "        self.wheel = wheel\n",
    "        self.price = price\n",
    "\n",
    "class Car2(Car):\n",
    "    def __init__(self,wheel,price,groupset):\n",
    "        super().__init__(wheel,price)\n",
    "        self.groupset = groupset\n",
    "        \n",
    "bicycle = Car2(2, 100, \"시마노\")\n",
    "bicycle.groupset"
   ]
  },
  {
   "cell_type": "markdown",
   "id": "53cfb8f3",
   "metadata": {},
   "source": [
    "**285 클래스 상속**\n",
    "\n",
    "다음 코드가 동작하도록 차 클래스를 상속받는 자동차 클래스를 정의하세요."
   ]
  },
  {
   "cell_type": "raw",
   "id": "41b1981b",
   "metadata": {},
   "source": [
    ">> car = 자동차(4, 1000)\n",
    ">> car.정보()\n",
    "바퀴수 4\n",
    "가격 1000"
   ]
  },
  {
   "cell_type": "code",
   "execution_count": 7,
   "id": "e9f7dfcb",
   "metadata": {},
   "outputs": [
    {
     "name": "stdout",
     "output_type": "stream",
     "text": [
      "바퀴수 4\n",
      "가격 1000\n"
     ]
    }
   ],
   "source": [
    "class Car:\n",
    "    def __init__(self,wheel,price):\n",
    "        self.wheel = wheel\n",
    "        self.price = price\n",
    "        \n",
    "    def info(self):\n",
    "        print('바퀴수', self.wheel)\n",
    "        print('가격', self.price)\n",
    "\n",
    "class Car2(Car):\n",
    "    def __init__(self,wheel,price,groupset):\n",
    "        super().__init__(wheel,price)\n",
    "        self.groupset = groupset\n",
    "        \n",
    "car = Car(4, 1000)\n",
    "car.info()"
   ]
  },
  {
   "cell_type": "markdown",
   "id": "1263ea50",
   "metadata": {},
   "source": [
    "**286 부모 클래스 생성자 호출**\n",
    "\n",
    "다음 코드가 동작하도록 자전차 클래스를 수정하세요."
   ]
  },
  {
   "cell_type": "raw",
   "id": "4489e7b1",
   "metadata": {},
   "source": [
    ">> bicycle = 자전차(2, 100, \"시마노\")\n",
    ">> bicycle.정보()\n",
    "바퀴수 2\n",
    "가격 100"
   ]
  },
  {
   "cell_type": "code",
   "execution_count": 8,
   "id": "e75fc1be",
   "metadata": {},
   "outputs": [
    {
     "name": "stdout",
     "output_type": "stream",
     "text": [
      "바퀴수 2\n",
      "가격 100\n"
     ]
    }
   ],
   "source": [
    "class Car:\n",
    "    def __init__(self, wheel, price):\n",
    "        self.wheel = wheel\n",
    "        self.price = price\n",
    "\n",
    "    def info(self):\n",
    "        print('바퀴수', self.wheel)\n",
    "        print('가격', self.price)\n",
    "\n",
    "\n",
    "class Car2(Car):\n",
    "    def __init__(self, wheel, price, groupset):\n",
    "        super().__init__(wheel, price)\n",
    "        self.groupset = groupset\n",
    "\n",
    "    def info(self):\n",
    "        print('바퀴수', self.wheel)\n",
    "        print('가격', self.price)\n",
    "\n",
    "bicycle = Car2(2, 100, \"시마노\")\n",
    "bicycle.info()"
   ]
  },
  {
   "cell_type": "markdown",
   "id": "5a0b2dfb",
   "metadata": {},
   "source": [
    "**287 부모 클래스 메서드 호출**\n",
    "\n",
    "자전차의 정보() 메서드로 구동계 정보까지 출력하도록 수정해보세요."
   ]
  },
  {
   "cell_type": "raw",
   "id": "e6b38533",
   "metadata": {},
   "source": [
    ">> bicycle = 자전차(2, 100, \"시마노\")\n",
    ">> bicycle.정보()\n",
    "바퀴수 2\n",
    "가격 100\n",
    "구동계 시마노"
   ]
  },
  {
   "cell_type": "code",
   "execution_count": 9,
   "id": "5eb9767e",
   "metadata": {},
   "outputs": [
    {
     "name": "stdout",
     "output_type": "stream",
     "text": [
      "바퀴수 2\n",
      "가격 100\n",
      "구동계 시마노\n"
     ]
    }
   ],
   "source": [
    "class Car:\n",
    "    def __init__(self, wheel, price):\n",
    "        self.wheel = wheel\n",
    "        self.price = price\n",
    "\n",
    "    def info(self):\n",
    "        print('바퀴수', self.wheel)\n",
    "        print('가격', self.price)\n",
    "\n",
    "\n",
    "class Car2(Car):\n",
    "    def __init__(self, wheel, price, groupset):\n",
    "        super().__init__(wheel, price)\n",
    "        self.groupset = groupset\n",
    "\n",
    "    def info(self):\n",
    "        print('바퀴수', self.wheel)\n",
    "        print('가격', self.price)\n",
    "        print('구동계', self.groupset)\n",
    "\n",
    "bicycle = Car2(2, 100, \"시마노\")\n",
    "bicycle.info()"
   ]
  },
  {
   "cell_type": "markdown",
   "id": "e27fca30",
   "metadata": {},
   "source": [
    "**288 메서드 오버라이딩**\n",
    "\n",
    "다음 코드의 실행 결과를 예상해보세요."
   ]
  },
  {
   "cell_type": "raw",
   "id": "777f7340",
   "metadata": {},
   "source": [
    "class 부모:\n",
    "  def 호출(self):\n",
    "    print(\"부모호출\")\n",
    "\n",
    "class 자식(부모):\n",
    "  def 호출(self):\n",
    "    print(\"자식호출\")\n",
    "나 = 자식()\n",
    "나.호출()"
   ]
  },
  {
   "cell_type": "code",
   "execution_count": null,
   "id": "12e6ad64",
   "metadata": {},
   "outputs": [],
   "source": [
    "자식호출"
   ]
  },
  {
   "cell_type": "markdown",
   "id": "f90b4001",
   "metadata": {},
   "source": [
    "**289 생성자**\n",
    "\n",
    "다음 코드의 실행 결과를 예상해보세요."
   ]
  },
  {
   "cell_type": "raw",
   "id": "8769811d",
   "metadata": {},
   "source": [
    "class 부모:\n",
    "  def __init__(self):\n",
    "    print(\"부모생성\")\n",
    "\n",
    "class 자식(부모):\n",
    "  def __init__(self):\n",
    "    print(\"자식생성\")\n",
    "나 = 자식()"
   ]
  },
  {
   "cell_type": "code",
   "execution_count": null,
   "id": "db9e3281",
   "metadata": {},
   "outputs": [],
   "source": [
    "자식생성"
   ]
  },
  {
   "cell_type": "markdown",
   "id": "73c2b37a",
   "metadata": {},
   "source": [
    "**290 부모클래스 생성자 호출**\n",
    "\n",
    "다음 코드의 실행 결과를 예상해보세요."
   ]
  },
  {
   "cell_type": "raw",
   "id": "0b53346c",
   "metadata": {},
   "source": [
    "class 부모:\n",
    "  def __init__(self):\n",
    "    print(\"부모생성\")\n",
    "\n",
    "class 자식(부모):\n",
    "  def __init__(self):\n",
    "    print(\"자식생성\")\n",
    "    super().__init__()\n",
    "\n",
    "나 = 자식()"
   ]
  },
  {
   "cell_type": "code",
   "execution_count": null,
   "id": "2532f53f",
   "metadata": {},
   "outputs": [],
   "source": [
    "자식생성\n",
    "부모생성"
   ]
  }
 ],
 "metadata": {
  "kernelspec": {
   "display_name": "Python 3 (ipykernel)",
   "language": "python",
   "name": "python3"
  },
  "language_info": {
   "codemirror_mode": {
    "name": "ipython",
    "version": 3
   },
   "file_extension": ".py",
   "mimetype": "text/x-python",
   "name": "python",
   "nbconvert_exporter": "python",
   "pygments_lexer": "ipython3",
   "version": "3.9.7"
  }
 },
 "nbformat": 4,
 "nbformat_minor": 5
}
