{
 "cells": [
  {
   "cell_type": "markdown",
   "id": "330f9b03",
   "metadata": {},
   "source": [
    "**261 Stock 클래스 생성**\n",
    "\n",
    "주식 종목에 대한 정보를 저장하는 Stock 클래스를 정의해보세요. 클래스는 속성과 메서드를 갖고 있지 않습니다."
   ]
  },
  {
   "cell_type": "code",
   "execution_count": 1,
   "id": "b7aa732b",
   "metadata": {},
   "outputs": [],
   "source": [
    "class Stock:\n",
    "    pass"
   ]
  },
  {
   "cell_type": "markdown",
   "id": "2cc98133",
   "metadata": {},
   "source": [
    "**262 생성자**\n",
    "\n",
    "Stock 클래스의 객체가 생성될 때 종목명과 종목코드를 입력 받을 수 있도록 생성자를 정의해보세요.\n",
    "\n",
    "삼성 = Stock(\"삼성전자\", \"005930\")"
   ]
  },
  {
   "cell_type": "code",
   "execution_count": 2,
   "id": "104c56b4",
   "metadata": {},
   "outputs": [
    {
     "name": "stdout",
     "output_type": "stream",
     "text": [
      "삼성전자\n",
      "005930\n"
     ]
    }
   ],
   "source": [
    "class Stock:\n",
    "    def __init__(self,name,code):\n",
    "        self.name = name\n",
    "        self.code = code\n",
    "삼성 = Stock(\"삼성전자\", \"005930\")\n",
    "print(삼성.name)\n",
    "print(삼성.code)"
   ]
  },
  {
   "cell_type": "markdown",
   "id": "2b70328f",
   "metadata": {},
   "source": [
    "**263 메서드**\n",
    "\n",
    "객체에 종목명을 입력할 수 있는 set_name 메서드를 추가해보세요.\n",
    "\n",
    "a = Stock(None, None)\n",
    "\n",
    "a.set_name(\"삼성전자\")"
   ]
  },
  {
   "cell_type": "code",
   "execution_count": 6,
   "id": "74fb7ef3",
   "metadata": {},
   "outputs": [
    {
     "name": "stdout",
     "output_type": "stream",
     "text": [
      "삼성전자\n"
     ]
    }
   ],
   "source": [
    "class Stock:\n",
    "    def __init__(self,name,code):\n",
    "        self.name = name\n",
    "        self.code = code\n",
    "    \n",
    "    def set_name(self, name):\n",
    "        self.name = name\n",
    "        \n",
    "a = Stock(None, None)\n",
    "\n",
    "a.set_name(\"삼성전자\")\n",
    "print(a.name)"
   ]
  },
  {
   "cell_type": "markdown",
   "id": "b80b479d",
   "metadata": {},
   "source": [
    "**264 메서드**\n",
    "\n",
    "객체에 종목코드를 입력할 수 있는 set_code 메서드를 추가해보세요.\n",
    "\n",
    "a = Stock(None, None)\n",
    "\n",
    "a.set_code(\"005930\")"
   ]
  },
  {
   "cell_type": "code",
   "execution_count": 7,
   "id": "f30f25fe",
   "metadata": {},
   "outputs": [
    {
     "data": {
      "text/plain": [
       "'005930'"
      ]
     },
     "execution_count": 7,
     "metadata": {},
     "output_type": "execute_result"
    }
   ],
   "source": [
    "class Stock:\n",
    "    def __init__(self,name,code):\n",
    "        self.name = name\n",
    "        self.code = code\n",
    "    \n",
    "    def set_name(self, name):\n",
    "        self.name = name\n",
    "    \n",
    "    def set_code(self, code):\n",
    "        self.code = code\n",
    "\n",
    "a = Stock(None, None)\n",
    "\n",
    "a.set_code(\"005930\")\n",
    "\n",
    "a.code"
   ]
  },
  {
   "cell_type": "markdown",
   "id": "ea28f026",
   "metadata": {},
   "source": [
    "**265 메서드**\n",
    "\n",
    "종목명과 종목코드를 리턴하는 get_name, get_code 메서드를 추가하세요. 해당 메서드를 사용하여 종목명과 종목코드를 얻고 이를 출력해보세요.\n",
    "\n",
    "삼성 = Stock(\"삼성전자\", \"005930\")"
   ]
  },
  {
   "cell_type": "code",
   "execution_count": 8,
   "id": "7269bb38",
   "metadata": {},
   "outputs": [
    {
     "data": {
      "text/plain": [
       "'005930'"
      ]
     },
     "execution_count": 8,
     "metadata": {},
     "output_type": "execute_result"
    }
   ],
   "source": [
    "class Stock:\n",
    "    def __init__(self,name,code):\n",
    "        self.name = name\n",
    "        self.code = code\n",
    "    \n",
    "    def set_name(self, name):\n",
    "        self.name = name\n",
    "    \n",
    "    def set_code(self, code):\n",
    "        self.code = code\n",
    "        \n",
    "    def get_name(self):\n",
    "        return self.name\n",
    "    \n",
    "    def get_code(self):\n",
    "        return self.code\n",
    "\n",
    "삼성 = Stock(\"삼성전자\", \"005930\")\n",
    "삼성.name\n",
    "삼성.code\n",
    "삼성.get_name()\n",
    "삼성.get_code()"
   ]
  },
  {
   "cell_type": "markdown",
   "id": "340a4286",
   "metadata": {},
   "source": [
    "**266 객체의 속성값 업데이트**\n",
    "\n",
    "생성자에서 종목명, 종목코드, PER, PBR, 배당수익률을 입력 받을 수 있도록 생성자를 수정하세요. PER, PBR, 배당수익률은 float 타입입니다."
   ]
  },
  {
   "cell_type": "code",
   "execution_count": null,
   "id": "60c1be38",
   "metadata": {},
   "outputs": [],
   "source": [
    "class Stock:\n",
    "    def __init__(self,name,code,per,pbr,earning):\n",
    "        self.name = name\n",
    "        self.code = code\n",
    "        self.per = per\n",
    "        self.pbr = pbr\n",
    "        self.earning = earning\n",
    "    \n",
    "    def set_name(self, name):\n",
    "        self.name = name\n",
    "    \n",
    "    def set_code(self, code):\n",
    "        self.code = code\n",
    "        \n",
    "    def get_name(self):\n",
    "        return self.name\n",
    "    \n",
    "    def get_code(self):\n",
    "        return self.code"
   ]
  },
  {
   "cell_type": "markdown",
   "id": "996fabad",
   "metadata": {},
   "source": [
    "**267 객체 생성**\n",
    "\n",
    "266번에서 정의한 생성자를 통해 다음 정보를 갖는 객체를 생성해보세요."
   ]
  },
  {
   "cell_type": "code",
   "execution_count": 9,
   "id": "e3453a54",
   "metadata": {},
   "outputs": [
    {
     "data": {
      "text/plain": [
       "15.79"
      ]
     },
     "execution_count": 9,
     "metadata": {},
     "output_type": "execute_result"
    }
   ],
   "source": [
    "class Stock:\n",
    "    def __init__(self,name,code,per,pbr,earning):\n",
    "        self.name = name\n",
    "        self.code = code\n",
    "        self.per = per\n",
    "        self.pbr = pbr\n",
    "        self.earning = earning\n",
    "    \n",
    "    def set_name(self, name):\n",
    "        self.name = name\n",
    "    \n",
    "    def set_code(self, code):\n",
    "        self.code = code\n",
    "        \n",
    "    def get_name(self):\n",
    "        return self.name\n",
    "    \n",
    "    def get_code(self):\n",
    "        return self.code\n",
    "\n",
    "samsung = Stock('삼성전자', '005930', 15.79, 1.33, 2.83)\n",
    "samsung.per"
   ]
  },
  {
   "cell_type": "markdown",
   "id": "0ffd8202",
   "metadata": {},
   "source": [
    "**268 객체의 속성 수정**\n",
    "\n",
    "PER, PBR, 배당수익률은 변경될 수 있는 값입니다. 이 값을 변경할 때 사용하는 set_per, set_pbr, set_dividend 메서드를 추가하세요."
   ]
  },
  {
   "cell_type": "code",
   "execution_count": null,
   "id": "0a5c46d6",
   "metadata": {},
   "outputs": [],
   "source": [
    "class Stock:\n",
    "    def __init__(self,name,code,per,pbr,earning):\n",
    "        self.name = name\n",
    "        self.code = code\n",
    "        self.per = per\n",
    "        self.pbr = pbr\n",
    "        self.earning = earning\n",
    "    \n",
    "    def set_name(self, name):\n",
    "        self.name = name\n",
    "    \n",
    "    def set_code(self, code):\n",
    "        self.code = code\n",
    "        \n",
    "    def get_name(self):\n",
    "        return self.name\n",
    "    \n",
    "    def get_code(self):\n",
    "        return self.code\n",
    "    \n",
    "    def set_per(self, per):\n",
    "        self.per = per\n",
    "    \n",
    "    def set_pbr(self, pbr):\n",
    "        self.pbr = pbr\n",
    "    \n",
    "    def set_dividend(self,earning):\n",
    "        self.earning = earning"
   ]
  },
  {
   "cell_type": "markdown",
   "id": "332c1a0a",
   "metadata": {},
   "source": [
    "**269 객체의 속성 수정**\n",
    "\n",
    "267번에서 생성한 객체에 set_per 메서드를 호출하여 per 값을 12.75로 수정해보세요."
   ]
  },
  {
   "cell_type": "code",
   "execution_count": 10,
   "id": "6299853b",
   "metadata": {},
   "outputs": [
    {
     "data": {
      "text/plain": [
       "12.75"
      ]
     },
     "execution_count": 10,
     "metadata": {},
     "output_type": "execute_result"
    }
   ],
   "source": [
    "class Stock:\n",
    "    def __init__(self,name,code,per,pbr,earning):\n",
    "        self.name = name\n",
    "        self.code = code\n",
    "        self.per = per\n",
    "        self.pbr = pbr\n",
    "        self.earning = earning\n",
    "    \n",
    "    def set_name(self, name):\n",
    "        self.name = name\n",
    "    \n",
    "    def set_code(self, code):\n",
    "        self.code = code\n",
    "        \n",
    "    def get_name(self):\n",
    "        return self.name\n",
    "    \n",
    "    def get_code(self):\n",
    "        return self.code\n",
    "    \n",
    "    def set_per(self, per):\n",
    "        self.per = per\n",
    "    \n",
    "    def set_pbr(self, pbr):\n",
    "        self.pbr = pbr\n",
    "    \n",
    "    def set_dividend(self,earning):\n",
    "        self.earning = earning\n",
    "        \n",
    "samsung = Stock('삼성전자', '005930', 15.79, 1.33, 2.83)\n",
    "samsung.set_per(12.75)\n",
    "samsung.per"
   ]
  },
  {
   "cell_type": "markdown",
   "id": "fd2de327",
   "metadata": {},
   "source": [
    "**270 여러 종목의 객체 생성**\n",
    "\n",
    "아래의 표를 참조하여 3종목에 대해 객체를 생성하고 이를 파이썬 리스트에 저장하세요. 파이썬 리스트에 저장된 각 종목에 대해 for 루프를 통해 종목코드와 PER을 출력해보세요."
   ]
  },
  {
   "cell_type": "code",
   "execution_count": 12,
   "id": "5cec835e",
   "metadata": {},
   "outputs": [
    {
     "name": "stdout",
     "output_type": "stream",
     "text": [
      "005930 15.79\n",
      "005380 8.7\n",
      "066570 317.34\n"
     ]
    }
   ],
   "source": [
    "class Stock:\n",
    "    def __init__(self,name,code,per,pbr,earning):\n",
    "        self.name = name\n",
    "        self.code = code\n",
    "        self.per = per\n",
    "        self.pbr = pbr\n",
    "        self.earning = earning\n",
    "    \n",
    "    def set_name(self, name):\n",
    "        self.name = name\n",
    "    \n",
    "    def set_code(self, code):\n",
    "        self.code = code\n",
    "        \n",
    "    def get_name(self):\n",
    "        return self.name\n",
    "    \n",
    "    def get_code(self):\n",
    "        return self.code\n",
    "    \n",
    "    def set_per(self, per):\n",
    "        self.per = per\n",
    "    \n",
    "    def set_pbr(self, pbr):\n",
    "        self.pbr = pbr\n",
    "    \n",
    "    def set_dividend(self,earning):\n",
    "        self.earning = earning\n",
    "        \n",
    "samsung = Stock('삼성전자','005930',15.79,1.33,2.83)\n",
    "hyundae = Stock('현대차','005380',8.70,0.35,4.27)\n",
    "lg = Stock('LG전자','066570',317.34,0.69,1.37)\n",
    "\n",
    "a = []\n",
    "a.append(samsung)\n",
    "a.append(hyundae)\n",
    "a.append(lg)\n",
    "\n",
    "for i in a:\n",
    "    print(i.code, i.per)"
   ]
  }
 ],
 "metadata": {
  "kernelspec": {
   "display_name": "Python 3 (ipykernel)",
   "language": "python",
   "name": "python3"
  },
  "language_info": {
   "codemirror_mode": {
    "name": "ipython",
    "version": 3
   },
   "file_extension": ".py",
   "mimetype": "text/x-python",
   "name": "python",
   "nbconvert_exporter": "python",
   "pygments_lexer": "ipython3",
   "version": "3.9.7"
  }
 },
 "nbformat": 4,
 "nbformat_minor": 5
}
