{
 "cells": [
  {
   "cell_type": "markdown",
   "id": "68e9d067",
   "metadata": {},
   "source": [
    "**171**\n",
    "\n",
    "아래와 같이 리스트의 데이터를 출력하라. 단, for문과 range문을 사용하라.\n",
    "\n",
    "price_list = [32100, 32150, 32000, 32500]"
   ]
  },
  {
   "cell_type": "code",
   "execution_count": 2,
   "id": "0a63e30d",
   "metadata": {},
   "outputs": [
    {
     "name": "stdout",
     "output_type": "stream",
     "text": [
      "32100\n",
      "32150\n",
      "32000\n",
      "32500\n"
     ]
    }
   ],
   "source": [
    "price_list = [32100, 32150, 32000, 32500]\n",
    "for i in range(len(price_list)):\n",
    "    print(price_list[i])"
   ]
  },
  {
   "cell_type": "markdown",
   "id": "d0322c67",
   "metadata": {},
   "source": [
    "**172**\n",
    "\n",
    "아래와 같이 리스트의 데이터를 출력하라. 단, for문과 range문을 사용하라.\n",
    "\n",
    "price_list = [32100, 32150, 32000, 32500]"
   ]
  },
  {
   "cell_type": "code",
   "execution_count": 3,
   "id": "70c817e9",
   "metadata": {},
   "outputs": [
    {
     "name": "stdout",
     "output_type": "stream",
     "text": [
      "0 32100\n",
      "1 32150\n",
      "2 32000\n",
      "3 32500\n"
     ]
    }
   ],
   "source": [
    "price_list = [32100, 32150, 32000, 32500]\n",
    "for i in range(len(price_list)):\n",
    "    print(i, price_list[i])"
   ]
  },
  {
   "cell_type": "markdown",
   "id": "f2ed370d",
   "metadata": {},
   "source": [
    "**173**\n",
    "\n",
    "아래와 같이 리스트의 데이터를 출력하라. 단, for문과 range문을 사용하라.\n",
    "\n",
    "price_list = [32100, 32150, 32000, 32500]"
   ]
  },
  {
   "cell_type": "code",
   "execution_count": 5,
   "id": "6302ea2f",
   "metadata": {},
   "outputs": [
    {
     "name": "stdout",
     "output_type": "stream",
     "text": [
      "3 32100\n",
      "2 32150\n",
      "1 32000\n",
      "0 32500\n"
     ]
    }
   ],
   "source": [
    "price_list = [32100, 32150, 32000, 32500]\n",
    "for i in range(len(price_list)):\n",
    "    print((len(price_list)-1)-i, price_list[i])"
   ]
  },
  {
   "cell_type": "markdown",
   "id": "3af4ef5e",
   "metadata": {},
   "source": [
    "**174**\n",
    "\n",
    "아래와 같이 리스트의 데이터를 출력하라. 단, for문과 range문을 사용하라.\n",
    "\n",
    "price_list = [32100, 32150, 32000, 32500]"
   ]
  },
  {
   "cell_type": "code",
   "execution_count": 6,
   "id": "14af5212",
   "metadata": {},
   "outputs": [
    {
     "name": "stdout",
     "output_type": "stream",
     "text": [
      "100 32150\n",
      "200 32000\n",
      "300 32500\n"
     ]
    }
   ],
   "source": [
    "price_list = [32100, 32150, 32000, 32500]\n",
    "for i in range(1,len(price_list)):\n",
    "    print(i*100, price_list[i])"
   ]
  },
  {
   "cell_type": "markdown",
   "id": "67892c6b",
   "metadata": {},
   "source": [
    "**175**\n",
    "\n",
    "my_list를 아래와 같이 출력하라.\n",
    "\n",
    "my_list = [\"가\", \"나\", \"다\", \"라\"]"
   ]
  },
  {
   "cell_type": "code",
   "execution_count": 8,
   "id": "59a5809c",
   "metadata": {},
   "outputs": [
    {
     "name": "stdout",
     "output_type": "stream",
     "text": [
      "가 나\n",
      "나 다\n",
      "다 라\n"
     ]
    }
   ],
   "source": [
    "my_list = [\"가\", \"나\", \"다\", \"라\"]\n",
    "for i in range(1,len(my_list)):\n",
    "    print(my_list[i-1],my_list[i])"
   ]
  },
  {
   "cell_type": "markdown",
   "id": "b6354d1b",
   "metadata": {},
   "source": [
    "**176**\n",
    "\n",
    "리스트를 아래와 같이 출력하라.\n",
    "\n",
    "my_list = [\"가\", \"나\", \"다\", \"라\", \"마\"]"
   ]
  },
  {
   "cell_type": "code",
   "execution_count": 10,
   "id": "4172c75c",
   "metadata": {},
   "outputs": [
    {
     "name": "stdout",
     "output_type": "stream",
     "text": [
      "가 나 다\n",
      "나 다 라\n",
      "다 라 마\n"
     ]
    }
   ],
   "source": [
    "my_list = [\"가\", \"나\", \"다\", \"라\", \"마\"]\n",
    "for i in range(2,len(my_list)):\n",
    "    print(my_list[i-2], my_list[i-1], my_list[i])"
   ]
  },
  {
   "cell_type": "markdown",
   "id": "b68f250f",
   "metadata": {},
   "source": [
    "**177**\n",
    "\n",
    "반복문과 range 함수를 사용해서 my_list를 아래와 같이 출력하라.\n",
    "\n",
    "my_list = [\"가\", \"나\", \"다\", \"라\"]"
   ]
  },
  {
   "cell_type": "code",
   "execution_count": 13,
   "id": "828c13d3",
   "metadata": {},
   "outputs": [
    {
     "name": "stdout",
     "output_type": "stream",
     "text": [
      "라 다\n",
      "다 나\n",
      "나 가\n"
     ]
    }
   ],
   "source": [
    "my_list = [\"가\", \"나\", \"다\", \"라\"]\n",
    "for i in range(len(my_list),1,-1):\n",
    "    print(my_list[i-1], my_list[i-2])"
   ]
  },
  {
   "cell_type": "markdown",
   "id": "e201010c",
   "metadata": {},
   "source": [
    "**178**\n",
    "\n",
    "리스트에는 네 개의 정수가 저장되어 있다. 각각의 데이터에 대해서 자신과 우측값과의 차분값을 화면에 출력하라.\n",
    "\n",
    "my_list = [100, 200, 400, 800]\n",
    "\n",
    "예를들어 100을 기준으로 우측에 위치한 200과의 차분 값를 화면에 출력하고, 200을 기준으로 우측에 위치한 400과의 차분값을 화면에 출력한다. 이어서 400을 기준으로 우측에 위치한 800과의 차분값을 화면에 출력한다."
   ]
  },
  {
   "cell_type": "code",
   "execution_count": 15,
   "id": "c83d58c8",
   "metadata": {},
   "outputs": [
    {
     "name": "stdout",
     "output_type": "stream",
     "text": [
      "100\n",
      "200\n",
      "400\n"
     ]
    }
   ],
   "source": [
    "my_list = [100, 200, 400, 800]\n",
    "\n",
    "for i in range(len(my_list)-1):\n",
    "    print(my_list[i+1] - my_list[i])"
   ]
  },
  {
   "cell_type": "markdown",
   "id": "c3c6b6d7",
   "metadata": {},
   "source": [
    "**179**\n",
    "\n",
    "리스트에는 6일 간의 종가 데이터가 저장되어 있다. 종가 데이터의 3일 이동 평균을 계산하고 이를 화면에 출력하라.\n",
    "\n",
    "my_list = [100, 200, 400, 800, 1000, 1300]\n",
    "\n",
    "첫 번째 줄에는 100, 200, 400의 평균값이 출력된다. 두 번째 줄에는 200, 400, 800의 평균값이 출력된다. 같은 방식으로 나머지 데이터의 평균을 출력한다."
   ]
  },
  {
   "cell_type": "code",
   "execution_count": 17,
   "id": "b5db9618",
   "metadata": {},
   "outputs": [
    {
     "name": "stdout",
     "output_type": "stream",
     "text": [
      "233.33333333333334\n",
      "466.6666666666667\n",
      "733.3333333333334\n",
      "1033.3333333333333\n"
     ]
    }
   ],
   "source": [
    "my_list = [100, 200, 400, 800, 1000, 1300]\n",
    "for i in range(1, len(my_list)-1):\n",
    "    print((my_list[i-1]+my_list[i]+my_list[i+1])/3)"
   ]
  },
  {
   "cell_type": "markdown",
   "id": "c857d37f",
   "metadata": {},
   "source": [
    "**180**\n",
    "\n",
    "리스트에 5일간의 저가, 고가 정보가 저장돼 있다. 고가와 저가의 차를 변동폭이라고 정의할 때, low, high 두 개의 리스트를 사용해서 5일간의 변동폭을 volatility 리스트에 저장하라.\n",
    "\n",
    "low_prices  = [100, 200, 400, 800, 1000]\n",
    "\n",
    "high_prices = [150, 300, 430, 880, 1000]"
   ]
  },
  {
   "cell_type": "code",
   "execution_count": 18,
   "id": "a97ef40f",
   "metadata": {},
   "outputs": [
    {
     "name": "stdout",
     "output_type": "stream",
     "text": [
      "[50, 100, 30, 80, 0]\n"
     ]
    }
   ],
   "source": [
    "low_prices = [100, 200, 400, 800, 1000]\n",
    "high_prices = [150, 300, 430, 880, 1000]\n",
    "\n",
    "volatility = []\n",
    "\n",
    "for i in range(len(low_prices)):\n",
    "    volatility.append(high_prices[i]-low_prices[i])\n",
    "print(volatility)"
   ]
  }
 ],
 "metadata": {
  "kernelspec": {
   "display_name": "Python 3 (ipykernel)",
   "language": "python",
   "name": "python3"
  },
  "language_info": {
   "codemirror_mode": {
    "name": "ipython",
    "version": 3
   },
   "file_extension": ".py",
   "mimetype": "text/x-python",
   "name": "python",
   "nbconvert_exporter": "python",
   "pygments_lexer": "ipython3",
   "version": "3.9.7"
  }
 },
 "nbformat": 4,
 "nbformat_minor": 5
}
