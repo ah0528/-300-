{
 "cells": [
  {
   "cell_type": "markdown",
   "id": "c475ec3c",
   "metadata": {},
   "source": [
    "**141**\n",
    "\n",
    "다음과 같이 판매가가 저장된 리스트가 있을 때 부가세가 포함된 가격을 for 문을 사용해서 화면에 출력하라. 단 부가세는 10원으로 가정한다."
   ]
  },
  {
   "cell_type": "raw",
   "id": "3279aaf1",
   "metadata": {},
   "source": [
    "리스트 = [100, 200, 300]\n",
    "110\n",
    "210\n",
    "310"
   ]
  },
  {
   "cell_type": "code",
   "execution_count": 1,
   "id": "6aa13187",
   "metadata": {},
   "outputs": [
    {
     "name": "stdout",
     "output_type": "stream",
     "text": [
      "110\n",
      "210\n",
      "310\n"
     ]
    }
   ],
   "source": [
    "cost = [100, 200, 300]\n",
    "for i in cost:\n",
    "    print(i+10)"
   ]
  },
  {
   "cell_type": "markdown",
   "id": "b6395376",
   "metadata": {},
   "source": [
    "**142**\n",
    "\n",
    "for 문을 사용해서 리스트에 저장된 값을 다음과 같이 출력하라.\n",
    "\n",
    "리스트 = [\"김밥\", \"라면\", \"튀김\"]"
   ]
  },
  {
   "cell_type": "raw",
   "id": "0fa179e1",
   "metadata": {},
   "source": [
    "오늘의 메뉴: 김밥\n",
    "오늘의 메뉴: 라면\n",
    "오늘의 메뉴: 튀김"
   ]
  },
  {
   "cell_type": "code",
   "execution_count": 3,
   "id": "ffa63c06",
   "metadata": {},
   "outputs": [
    {
     "name": "stdout",
     "output_type": "stream",
     "text": [
      "오늘의 메뉴: 김밥\n",
      "오늘의 메뉴: 라면\n",
      "오늘의 메뉴: 튀김\n"
     ]
    }
   ],
   "source": [
    "menu = [\"김밥\", \"라면\", \"튀김\"]\n",
    "for i in menu:\n",
    "    print('오늘의 메뉴:',i)"
   ]
  },
  {
   "cell_type": "markdown",
   "id": "0badf330",
   "metadata": {},
   "source": [
    "**143**\n",
    "\n",
    "리스트에 주식 종목이름이 저장돼 있다.\n",
    "\n",
    "리스트 = [\"SK하이닉스\", \"삼성전자\", \"LG전자\"]\n",
    "저장된 문자열의 길이를 다음과 같이 출력하라."
   ]
  },
  {
   "cell_type": "raw",
   "id": "c7f0e391",
   "metadata": {},
   "source": [
    "6\n",
    "4\n",
    "4"
   ]
  },
  {
   "cell_type": "code",
   "execution_count": 4,
   "id": "48a49853",
   "metadata": {},
   "outputs": [
    {
     "name": "stdout",
     "output_type": "stream",
     "text": [
      "6\n",
      "4\n",
      "4\n"
     ]
    }
   ],
   "source": [
    "interest = [\"SK하이닉스\", \"삼성전자\", \"LG전자\"]\n",
    "for i in interest:\n",
    "    print(len(i))"
   ]
  },
  {
   "cell_type": "markdown",
   "id": "e89b2b98",
   "metadata": {},
   "source": [
    "**144**\n",
    "\n",
    "리스트에는 동물이름이 문자열로 저장돼 있다.\n",
    "\n",
    "리스트 = ['dog', 'cat', 'parrot']\n",
    "\n",
    "동물 이름과 글자수를 다음과 같이 출력하라."
   ]
  },
  {
   "cell_type": "raw",
   "id": "fcac5c3f",
   "metadata": {},
   "source": [
    "dog 3\n",
    "cat 3\n",
    "parrot 6"
   ]
  },
  {
   "cell_type": "code",
   "execution_count": 5,
   "id": "a6e88566",
   "metadata": {},
   "outputs": [
    {
     "name": "stdout",
     "output_type": "stream",
     "text": [
      "dog 3\n",
      "cat 3\n",
      "parrot 6\n"
     ]
    }
   ],
   "source": [
    "animals = ['dog', 'cat', 'parrot']\n",
    "for i in animals:\n",
    "    print(i, len(i))"
   ]
  },
  {
   "cell_type": "markdown",
   "id": "0a3b0551",
   "metadata": {},
   "source": [
    "**145**\n",
    "\n",
    "리스트에 동물 이름 저장돼 있다.\n",
    "\n",
    "리스트 = ['dog', 'cat', 'parrot']\n",
    "\n",
    "for문을 사용해서 동물 이름의 첫 글자만 출력하라."
   ]
  },
  {
   "cell_type": "raw",
   "id": "6029d39a",
   "metadata": {},
   "source": [
    "d\n",
    "c\n",
    "p"
   ]
  },
  {
   "cell_type": "code",
   "execution_count": 6,
   "id": "be1afc77",
   "metadata": {},
   "outputs": [
    {
     "name": "stdout",
     "output_type": "stream",
     "text": [
      "d\n",
      "c\n",
      "p\n"
     ]
    }
   ],
   "source": [
    "animals = ['dog', 'cat', 'parrot']\n",
    "for i in animals:\n",
    "    print(i[0])"
   ]
  },
  {
   "cell_type": "markdown",
   "id": "25454efc",
   "metadata": {},
   "source": [
    "**146**\n",
    "\n",
    "리스트에는 세 개의 숫자가 바인딩돼 있다.\n",
    "\n",
    "리스트 = [1, 2, 3]\n",
    "\n",
    "for문을 사용해서 다음과 같이 출력하라."
   ]
  },
  {
   "cell_type": "raw",
   "id": "79535ba9",
   "metadata": {},
   "source": [
    "3 x 1\n",
    "3 x 2\n",
    "3 x 3"
   ]
  },
  {
   "cell_type": "code",
   "execution_count": 7,
   "id": "8a94f9e9",
   "metadata": {},
   "outputs": [
    {
     "name": "stdout",
     "output_type": "stream",
     "text": [
      "3 x 1\n",
      "3 x 2\n",
      "3 x 3\n"
     ]
    }
   ],
   "source": [
    "num = [1, 2, 3]\n",
    "for i in num:\n",
    "    print(f'3 x {i}')"
   ]
  },
  {
   "cell_type": "markdown",
   "id": "6fdc6351",
   "metadata": {},
   "source": [
    "**147**\n",
    "\n",
    "리스트에는 세 개의 숫자가 바인딩돼 있다.\n",
    "\n",
    "리스트 = [1, 2, 3]\n",
    "\n",
    "for문을 사용해서 다음과 같이 출력하라."
   ]
  },
  {
   "cell_type": "raw",
   "id": "e2646519",
   "metadata": {},
   "source": [
    "3 x 1 = 3\n",
    "3 x 2 = 6\n",
    "3 x 3 = 9"
   ]
  },
  {
   "cell_type": "code",
   "execution_count": 8,
   "id": "659df1ed",
   "metadata": {},
   "outputs": [
    {
     "name": "stdout",
     "output_type": "stream",
     "text": [
      "3 x 1 = 3\n",
      "3 x 2 = 6\n",
      "3 x 3 = 9\n"
     ]
    }
   ],
   "source": [
    "num = [1, 2, 3]\n",
    "for i in num:\n",
    "    print(f'3 x {i} = {3*i}')"
   ]
  },
  {
   "cell_type": "markdown",
   "id": "14bc3b74",
   "metadata": {},
   "source": [
    "**148**\n",
    "\n",
    "리스트에는 네 개의 문자열이 바인딩돼 있다.\n",
    "\n",
    "리스트 = [\"가\", \"나\", \"다\", \"라\"]\n",
    "\n",
    "for문을 사용해서 다음과 같이 출력하라."
   ]
  },
  {
   "cell_type": "raw",
   "id": "dfb1633d",
   "metadata": {},
   "source": [
    "나\n",
    "다\n",
    "라"
   ]
  },
  {
   "cell_type": "code",
   "execution_count": 9,
   "id": "4bb1175a",
   "metadata": {},
   "outputs": [
    {
     "name": "stdout",
     "output_type": "stream",
     "text": [
      "나\n",
      "다\n",
      "라\n"
     ]
    }
   ],
   "source": [
    "s = [\"가\", \"나\", \"다\", \"라\"]\n",
    "for i in s[1:]:\n",
    "    print(i)"
   ]
  },
  {
   "cell_type": "markdown",
   "id": "bf868df4",
   "metadata": {},
   "source": [
    "**149**\n",
    "\n",
    "리스트에는 네 개의 문자열이 바인딩돼 있다.\n",
    "\n",
    "리스트 = [\"가\", \"나\", \"다\", \"라\"]\n",
    "\n",
    "for문을 사용해서 다음과 같이 출력하라."
   ]
  },
  {
   "cell_type": "raw",
   "id": "cb20c3c9",
   "metadata": {},
   "source": [
    "가\n",
    "다"
   ]
  },
  {
   "cell_type": "code",
   "execution_count": 10,
   "id": "cb4fc411",
   "metadata": {},
   "outputs": [
    {
     "name": "stdout",
     "output_type": "stream",
     "text": [
      "가\n",
      "다\n"
     ]
    }
   ],
   "source": [
    "s = [\"가\", \"나\", \"다\", \"라\"]\n",
    "for i in range(len(s)):\n",
    "    if i % 2 == 0:\n",
    "        print(s[i])"
   ]
  },
  {
   "cell_type": "markdown",
   "id": "b8abc0a1",
   "metadata": {},
   "source": [
    "**150**\n",
    "리스트에는 네 개의 문자열이 바인딩돼 있다.\n",
    "\n",
    "리스트 = [\"가\", \"나\", \"다\", \"라\"]\n",
    "\n",
    "for문을 사용해서 다음과 같이 출력하라."
   ]
  },
  {
   "cell_type": "raw",
   "id": "67c5a26c",
   "metadata": {},
   "source": [
    "라\n",
    "다\n",
    "나\n",
    "가"
   ]
  },
  {
   "cell_type": "code",
   "execution_count": 11,
   "id": "e8cb5901",
   "metadata": {},
   "outputs": [
    {
     "name": "stdout",
     "output_type": "stream",
     "text": [
      "라\n",
      "다\n",
      "나\n",
      "가\n"
     ]
    }
   ],
   "source": [
    "s = [\"가\", \"나\", \"다\", \"라\"]\n",
    "for i in s[::-1]:\n",
    "    print(i)"
   ]
  }
 ],
 "metadata": {
  "kernelspec": {
   "display_name": "Python 3 (ipykernel)",
   "language": "python",
   "name": "python3"
  },
  "language_info": {
   "codemirror_mode": {
    "name": "ipython",
    "version": 3
   },
   "file_extension": ".py",
   "mimetype": "text/x-python",
   "name": "python",
   "nbconvert_exporter": "python",
   "pygments_lexer": "ipython3",
   "version": "3.9.7"
  }
 },
 "nbformat": 4,
 "nbformat_minor": 5
}
