{
 "cells": [
  {
   "cell_type": "markdown",
   "id": "8fa59758",
   "metadata": {},
   "source": [
    "**131**\n",
    "\n",
    "for문의 실행결과를 예측하라.\n",
    "\n",
    "과일 = [\"사과\", \"귤\", \"수박\"]\n",
    "\n",
    "for 변수 in 과일:\n",
    "\n",
    "    print(변수)"
   ]
  },
  {
   "cell_type": "raw",
   "id": "04bf3e04",
   "metadata": {},
   "source": [
    "사과\n",
    "귤\n",
    "수박"
   ]
  },
  {
   "cell_type": "markdown",
   "id": "ab8121b7",
   "metadata": {},
   "source": [
    "**132**\n",
    "\n",
    "for문의 실행결과를 예측하라.\n",
    "\n",
    "과일 = [\"사과\", \"귤\", \"수박\"]\n",
    "\n",
    "for 변수 in 과일:\n",
    "\n",
    "  print(\"#####\")"
   ]
  },
  {
   "cell_type": "raw",
   "id": "1ae27e53",
   "metadata": {},
   "source": [
    "#####\n",
    "#####\n",
    "#####"
   ]
  },
  {
   "cell_type": "markdown",
   "id": "6a3a9148",
   "metadata": {},
   "source": [
    "**133**\n",
    "\n",
    "다음 for 문과 동일한 기능을 수행하는 코드를 작성하세요.\n",
    "\n",
    "for 변수 in [\"A\", \"B\", \"C\"]:\n",
    "\n",
    "  print(변수)"
   ]
  },
  {
   "cell_type": "raw",
   "id": "0d672f73",
   "metadata": {},
   "source": [
    "print('A')\n",
    "print('B')\n",
    "print('C')"
   ]
  },
  {
   "cell_type": "markdown",
   "id": "32564476",
   "metadata": {},
   "source": [
    "**134**\n",
    "\n",
    "for문을 풀어서 동일한 동작을하는 코드를 작성하라.\n",
    "\n",
    "for 변수 in [\"A\", \"B\", \"C\"]:\n",
    "\n",
    "  print(\"출력:\", 변수)"
   ]
  },
  {
   "cell_type": "raw",
   "id": "e3768242",
   "metadata": {},
   "source": [
    "print(\"출력:\", \"A\")\n",
    "print(\"출력:\", \"B\")\n",
    "print(\"출력:\", \"C\")"
   ]
  },
  {
   "cell_type": "markdown",
   "id": "d59a9b04",
   "metadata": {},
   "source": [
    "**135**\n",
    "\n",
    "for문을 풀어서 동일한 동작을 하는 코드를 작성하라.\n",
    "\n",
    "for 변수 in [\"A\", \"B\", \"C\"]:\n",
    "\n",
    "  b = 변수.lower()\n",
    "  \n",
    "  print(\"변환:\", b)"
   ]
  },
  {
   "cell_type": "raw",
   "id": "983b3c75",
   "metadata": {},
   "source": [
    "print(\"변환:\", a)\n",
    "print(\"변환:\", b)\n",
    "print(\"변환:\", c)"
   ]
  },
  {
   "cell_type": "markdown",
   "id": "aa3e0de0",
   "metadata": {},
   "source": [
    "**136**\n",
    "\n",
    "다음 코드를 for문으로 작성하라.\n",
    "\n",
    "변수 = 10\n",
    "\n",
    "print(변수)\n",
    "\n",
    "변수 = 20\n",
    "\n",
    "print(변수)\n",
    "\n",
    "변수 = 30\n",
    "\n",
    "print(변수)"
   ]
  },
  {
   "cell_type": "code",
   "execution_count": 1,
   "id": "f366bb4f",
   "metadata": {},
   "outputs": [
    {
     "name": "stdout",
     "output_type": "stream",
     "text": [
      "10\n",
      "20\n",
      "30\n"
     ]
    }
   ],
   "source": [
    "for i in range(10,31,10):\n",
    "    print(i)"
   ]
  },
  {
   "cell_type": "markdown",
   "id": "38baa60e",
   "metadata": {},
   "source": [
    "**137**\n",
    "\n",
    "다음 코드를 for문으로 작성하라.\n",
    "\n",
    "print(10)\n",
    "\n",
    "print(20)\n",
    "\n",
    "print(30)"
   ]
  },
  {
   "cell_type": "code",
   "execution_count": 2,
   "id": "cb1d9308",
   "metadata": {},
   "outputs": [
    {
     "name": "stdout",
     "output_type": "stream",
     "text": [
      "10\n",
      "20\n",
      "30\n"
     ]
    }
   ],
   "source": [
    "for i in range(10,31,10):\n",
    "    print(i)"
   ]
  },
  {
   "cell_type": "markdown",
   "id": "b9bd2033",
   "metadata": {},
   "source": [
    "**138**\n",
    "\n",
    "다음 코드를 for문으로 작성하라.\n",
    "\n",
    "print(10)\n",
    "\n",
    "print(\"-------\")\n",
    "\n",
    "print(20)\n",
    "\n",
    "print(\"-------\")\n",
    "\n",
    "print(30)\n",
    "\n",
    "print(\"-------\")"
   ]
  },
  {
   "cell_type": "code",
   "execution_count": 3,
   "id": "22237b43",
   "metadata": {},
   "outputs": [
    {
     "name": "stdout",
     "output_type": "stream",
     "text": [
      "10\n",
      "-------\n",
      "20\n",
      "-------\n",
      "30\n",
      "-------\n"
     ]
    }
   ],
   "source": [
    "for i in range(10,31,10):\n",
    "    print(i)\n",
    "    print('-------')"
   ]
  },
  {
   "cell_type": "markdown",
   "id": "4074a91b",
   "metadata": {},
   "source": [
    "**139**\n",
    "\n",
    "다음 코드를 for문으로 작성하라.\n",
    "\n",
    "print(\"++++\")\n",
    "\n",
    "print(10)\n",
    "\n",
    "print(20)\n",
    "\n",
    "print(30)"
   ]
  },
  {
   "cell_type": "code",
   "execution_count": 4,
   "id": "79e7263c",
   "metadata": {},
   "outputs": [
    {
     "name": "stdout",
     "output_type": "stream",
     "text": [
      "++++\n",
      "10\n",
      "20\n",
      "30\n"
     ]
    }
   ],
   "source": [
    "print(\"++++\")\n",
    "for i in range(10,31,10):\n",
    "    print(i)"
   ]
  },
  {
   "cell_type": "markdown",
   "id": "119189ac",
   "metadata": {},
   "source": [
    "**140**\n",
    "\n",
    "다음 코드를 for문으로 작성하라.\n",
    "\n",
    "print(\"-------\")\n",
    "\n",
    "print(\"-------\")\n",
    "\n",
    "print(\"-------\")\n",
    "\n",
    "print(\"-------\")"
   ]
  },
  {
   "cell_type": "code",
   "execution_count": 5,
   "id": "5d42d410",
   "metadata": {},
   "outputs": [
    {
     "name": "stdout",
     "output_type": "stream",
     "text": [
      "-------\n",
      "-------\n",
      "-------\n"
     ]
    }
   ],
   "source": [
    "for _ in range(3):\n",
    "    print('-------')"
   ]
  }
 ],
 "metadata": {
  "kernelspec": {
   "display_name": "Python 3 (ipykernel)",
   "language": "python",
   "name": "python3"
  },
  "language_info": {
   "codemirror_mode": {
    "name": "ipython",
    "version": 3
   },
   "file_extension": ".py",
   "mimetype": "text/x-python",
   "name": "python",
   "nbconvert_exporter": "python",
   "pygments_lexer": "ipython3",
   "version": "3.9.7"
  }
 },
 "nbformat": 4,
 "nbformat_minor": 5
}
