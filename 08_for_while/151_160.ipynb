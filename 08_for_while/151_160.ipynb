{
 "cells": [
  {
   "cell_type": "markdown",
   "id": "78e92348",
   "metadata": {},
   "source": [
    "**151**\n",
    "\n",
    "리스트에는 네 개의 정수가 저장돼 있다.\n",
    "\n",
    "리스트 = [3, -20, -3, 44]\n",
    "\n",
    "for문을 사용해서 리스트의 음수를 출력하라."
   ]
  },
  {
   "cell_type": "code",
   "execution_count": 1,
   "id": "c28c7096",
   "metadata": {},
   "outputs": [
    {
     "name": "stdout",
     "output_type": "stream",
     "text": [
      "-20\n",
      "-3\n"
     ]
    }
   ],
   "source": [
    "num = [3, -20, -3, 44]\n",
    "for i in num:\n",
    "    if i < 0:\n",
    "        print(i)"
   ]
  },
  {
   "cell_type": "markdown",
   "id": "d91d41cb",
   "metadata": {},
   "source": [
    "**152**\n",
    "\n",
    "for문을 사용해서 3의 배수만을 출력하라.\n",
    "\n",
    "리스트 = [3, 100, 23, 44]"
   ]
  },
  {
   "cell_type": "code",
   "execution_count": 2,
   "id": "3138e165",
   "metadata": {},
   "outputs": [
    {
     "name": "stdout",
     "output_type": "stream",
     "text": [
      "3\n"
     ]
    }
   ],
   "source": [
    "num = [3, 100, 23, 44]\n",
    "for i in num:\n",
    "    if i % 3 == 0:\n",
    "        print(i)"
   ]
  },
  {
   "cell_type": "markdown",
   "id": "ac0c66e7",
   "metadata": {},
   "source": [
    "**153**\n",
    "\n",
    "리스트에서 20 보다 작은 3의 배수를 출력하라\n",
    "\n",
    "리스트 = [13, 21, 12, 14, 30, 18]"
   ]
  },
  {
   "cell_type": "code",
   "execution_count": 3,
   "id": "8096ad4f",
   "metadata": {},
   "outputs": [
    {
     "name": "stdout",
     "output_type": "stream",
     "text": [
      "12\n",
      "18\n"
     ]
    }
   ],
   "source": [
    "num = [13, 21, 12, 14, 30, 18]\n",
    "for i in num:\n",
    "    if i < 20:\n",
    "        if i % 3 == 0:\n",
    "            print(i)"
   ]
  },
  {
   "cell_type": "markdown",
   "id": "165c859c",
   "metadata": {},
   "source": [
    "**154**\n",
    "\n",
    "리스트에서 세 글자 이상의 문자를 화면에 출력하라\n",
    "\n",
    "리스트 = [\"I\", \"study\", \"python\", \"language\", \"!\"]"
   ]
  },
  {
   "cell_type": "code",
   "execution_count": 4,
   "id": "f4f18468",
   "metadata": {},
   "outputs": [
    {
     "name": "stdout",
     "output_type": "stream",
     "text": [
      "study\n",
      "python\n",
      "language\n"
     ]
    }
   ],
   "source": [
    "strList = [\"I\", \"study\", \"python\", \"language\", \"!\"]\n",
    "for i in strList:\n",
    "    if len(i) >= 3:\n",
    "        print(i)"
   ]
  },
  {
   "cell_type": "markdown",
   "id": "98a8f0cf",
   "metadata": {},
   "source": [
    "**155**\n",
    "\n",
    "리스트에서 대문자만 화면에 출력하라.\n",
    "\n",
    "리스트 = [\"A\", \"b\", \"c\", \"D\"]"
   ]
  },
  {
   "cell_type": "code",
   "execution_count": 5,
   "id": "77e406a9",
   "metadata": {},
   "outputs": [
    {
     "name": "stdout",
     "output_type": "stream",
     "text": [
      "A\n",
      "D\n"
     ]
    }
   ],
   "source": [
    "strList = [\"A\", \"b\", \"c\", \"D\"]\n",
    "for i in strList:\n",
    "    if i.isupper():\n",
    "        print(i)"
   ]
  },
  {
   "cell_type": "markdown",
   "id": "71f5ab78",
   "metadata": {},
   "source": [
    "**156**\n",
    "\n",
    "리스트에서 소문자만 화면에 출력하라.\n",
    "\n",
    "리스트 = [\"A\", \"b\", \"c\", \"D\"]"
   ]
  },
  {
   "cell_type": "code",
   "execution_count": 6,
   "id": "dbbc4dce",
   "metadata": {},
   "outputs": [
    {
     "name": "stdout",
     "output_type": "stream",
     "text": [
      "b\n",
      "c\n"
     ]
    }
   ],
   "source": [
    "strList = [\"A\", \"b\", \"c\", \"D\"]\n",
    "for i in strList:\n",
    "    if i.islower():\n",
    "        print(i)"
   ]
  },
  {
   "cell_type": "markdown",
   "id": "e81e5c36",
   "metadata": {},
   "source": [
    "**157**\n",
    "\n",
    "이름의 첫 글자를 대문자로 변경해서 출력하라.\n",
    "\n",
    "리스트 = ['dog', 'cat', 'parrot']"
   ]
  },
  {
   "cell_type": "code",
   "execution_count": 7,
   "id": "e0f16039",
   "metadata": {},
   "outputs": [
    {
     "name": "stdout",
     "output_type": "stream",
     "text": [
      "DOG\n",
      "CAT\n",
      "PARROT\n"
     ]
    }
   ],
   "source": [
    "animals =  ['dog', 'cat', 'parrot']\n",
    "for i in animals:\n",
    "    print(i.upper())"
   ]
  },
  {
   "cell_type": "markdown",
   "id": "49ff7333",
   "metadata": {},
   "source": [
    "**158**\n",
    "\n",
    "파일 이름이 저장된 리스트에서 확장자를 제거하고 파일 이름만 화면에 출력하라. (힌트: split() 메서드)\n",
    "\n",
    "리스트 = ['hello.py', 'ex01.py', 'intro.hwp']"
   ]
  },
  {
   "cell_type": "code",
   "execution_count": 8,
   "id": "55135caa",
   "metadata": {},
   "outputs": [
    {
     "name": "stdout",
     "output_type": "stream",
     "text": [
      "hello\n",
      "ex01\n",
      "intro\n"
     ]
    }
   ],
   "source": [
    "file = ['hello.py', 'ex01.py', 'intro.hwp']\n",
    "for i in file:\n",
    "    print(i.split('.')[0])"
   ]
  },
  {
   "cell_type": "markdown",
   "id": "4caa4b30",
   "metadata": {},
   "source": [
    "**159**\n",
    "\n",
    "파일 이름이 저장된 리스트에서 확장자가 .h인 파일 이름을 출력하라.\n",
    "\n",
    "리스트 = ['intra.h', 'intra.c', 'define.h', 'run.py']"
   ]
  },
  {
   "cell_type": "code",
   "execution_count": 9,
   "id": "46af1e63",
   "metadata": {},
   "outputs": [
    {
     "name": "stdout",
     "output_type": "stream",
     "text": [
      "intra.h\n",
      "define.h\n"
     ]
    }
   ],
   "source": [
    "file = ['intra.h', 'intra.c', 'define.h', 'run.py']\n",
    "for i in file:\n",
    "    if i.split('.')[1]=='h':\n",
    "        print(i)"
   ]
  },
  {
   "cell_type": "markdown",
   "id": "9cf052ce",
   "metadata": {},
   "source": [
    "**160**\n",
    "\n",
    "파일 이름이 저장된 리스트에서 확장자가 .h나 .c인 파일을 화면에 출력하라.\n",
    "\n",
    "리스트 = ['intra.h', 'intra.c', 'define.h', 'run.py']"
   ]
  },
  {
   "cell_type": "code",
   "execution_count": 14,
   "id": "06aa2dea",
   "metadata": {},
   "outputs": [
    {
     "name": "stdout",
     "output_type": "stream",
     "text": [
      "intra.h\n",
      "intra.c\n",
      "define.h\n"
     ]
    }
   ],
   "source": [
    "file = ['intra.h', 'intra.c', 'define.h', 'run.py']\n",
    "for i in file:\n",
    "    if (i.split('.')[1]=='h') or (i.split('.')[1]=='c'):\n",
    "        print(i)"
   ]
  }
 ],
 "metadata": {
  "kernelspec": {
   "display_name": "Python 3 (ipykernel)",
   "language": "python",
   "name": "python3"
  },
  "language_info": {
   "codemirror_mode": {
    "name": "ipython",
    "version": 3
   },
   "file_extension": ".py",
   "mimetype": "text/x-python",
   "name": "python",
   "nbconvert_exporter": "python",
   "pygments_lexer": "ipython3",
   "version": "3.9.7"
  }
 },
 "nbformat": 4,
 "nbformat_minor": 5
}
