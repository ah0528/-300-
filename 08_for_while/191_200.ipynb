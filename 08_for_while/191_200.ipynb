{
 "cells": [
  {
   "cell_type": "markdown",
   "id": "bc794376",
   "metadata": {},
   "source": [
    "**191**\n",
    "\n",
    "data에는 매수한 종목들의 OHLC (open/high/low/close) 가격 정보가 바인딩 되어있다.\n",
    "\n",
    "data = [\n",
    "    [ 2000,  3050,  2050,  1980],\n",
    "    [ 7500,  2050,  2050,  1980],\n",
    "    [15450, 15050, 15550, 14900]\n",
    "]\n",
    "\n",
    "수수료를 0.014 %로 가정할 때, 각 가격에 수수료를 포함한 가격을 한라인에 하나씩 출력하라."
   ]
  },
  {
   "cell_type": "code",
   "execution_count": 3,
   "id": "114eeda4",
   "metadata": {},
   "outputs": [
    {
     "name": "stdout",
     "output_type": "stream",
     "text": [
      "2000.28\n",
      "3050.427\n",
      "2050.2870000000003\n",
      "1980.2772\n",
      "7501.05\n",
      "2050.2870000000003\n",
      "2050.2870000000003\n",
      "1980.2772\n",
      "15452.163\n",
      "15052.107\n",
      "15552.177\n",
      "14902.086000000001\n"
     ]
    }
   ],
   "source": [
    "data = [ [ 2000, 3050, 2050, 1980], [ 7500, 2050, 2050, 1980], [15450, 15050, 15550, 14900] ]\n",
    "for row in data:\n",
    "    for col in row:\n",
    "        print(col*1.00014)"
   ]
  },
  {
   "cell_type": "markdown",
   "id": "f7209251",
   "metadata": {},
   "source": [
    "**192**\n",
    "\n",
    "191번의 출력 결과에 행단위로 \"----\" 구분자를 추가하라."
   ]
  },
  {
   "cell_type": "code",
   "execution_count": 4,
   "id": "f801f98e",
   "metadata": {},
   "outputs": [
    {
     "name": "stdout",
     "output_type": "stream",
     "text": [
      "2000.28\n",
      "3050.427\n",
      "2050.2870000000003\n",
      "1980.2772\n",
      "----\n",
      "7501.05\n",
      "2050.2870000000003\n",
      "2050.2870000000003\n",
      "1980.2772\n",
      "----\n",
      "15452.163\n",
      "15052.107\n",
      "15552.177\n",
      "14902.086000000001\n",
      "----\n"
     ]
    }
   ],
   "source": [
    "data = [ [ 2000, 3050, 2050, 1980], [ 7500, 2050, 2050, 1980], [15450, 15050, 15550, 14900] ]\n",
    "for row in data:\n",
    "    for col in row:\n",
    "        print(col*1.00014)\n",
    "    print('----')"
   ]
  },
  {
   "cell_type": "markdown",
   "id": "6ed87a46",
   "metadata": {},
   "source": [
    "**193**\n",
    "\n",
    "192 번 문제의 결괏값을 result 이름의 리스트에 1차원 배열로 저장하라."
   ]
  },
  {
   "cell_type": "code",
   "execution_count": 5,
   "id": "b1681567",
   "metadata": {},
   "outputs": [
    {
     "name": "stdout",
     "output_type": "stream",
     "text": [
      "[2000.28, 3050.427, 2050.2870000000003, 1980.2772, 7501.05, 2050.2870000000003, 2050.2870000000003, 1980.2772, 15452.163, 15052.107, 15552.177, 14902.086000000001]\n"
     ]
    }
   ],
   "source": [
    "result = []\n",
    "for row in data:\n",
    "    for col in row:\n",
    "        result.append(col*1.00014)\n",
    "\n",
    "print(result)"
   ]
  },
  {
   "cell_type": "markdown",
   "id": "4b80aa0f",
   "metadata": {},
   "source": [
    "**194**\n",
    "\n",
    "191번 문제의 결괏값을 result 이름의 리스트에 2차원 배열로 저장하라. 저장 포맷은 아래와 같다. 각 행에 대한 데이터끼리 리스트에 저장되어야 한다."
   ]
  },
  {
   "cell_type": "code",
   "execution_count": 7,
   "id": "5a6a7d3e",
   "metadata": {},
   "outputs": [
    {
     "name": "stdout",
     "output_type": "stream",
     "text": [
      "[[2000.28, 3050.427, 2050.2870000000003, 1980.2772], [7501.05, 2050.2870000000003, 2050.2870000000003, 1980.2772], [15452.163, 15052.107, 15552.177, 14902.086000000001]]\n"
     ]
    }
   ],
   "source": [
    "result = []\n",
    "\n",
    "for row in data:\n",
    "    sub = []\n",
    "    for col in row:\n",
    "        sub.append(col*1.00014)\n",
    "    result.append(sub)\n",
    "print(result)"
   ]
  },
  {
   "cell_type": "markdown",
   "id": "cab542c4",
   "metadata": {},
   "source": [
    "**195**\n",
    "\n",
    "ohlc 리스트에는 시가(open), 고가 (high), 저가 (low) , 종가(close)가 날짜별로 저장돼 있다. 화면에 종가데이터를 출력하라.\n",
    "\n",
    "ohlc = [[\"open\", \"high\", \"low\", \"close\"],\n",
    "        [100, 110, 70, 100],\n",
    "        [200, 210, 180, 190],\n",
    "        [300, 310, 300, 310]]"
   ]
  },
  {
   "cell_type": "code",
   "execution_count": 10,
   "id": "456e14eb",
   "metadata": {},
   "outputs": [
    {
     "name": "stdout",
     "output_type": "stream",
     "text": [
      "100\n",
      "190\n",
      "310\n"
     ]
    }
   ],
   "source": [
    "ohlc = [[\"open\", \"high\", \"low\", \"close\"], [100, 110, 70, 100], [200, 210, 180, 190], [300, 310, 300, 310]]\n",
    "for i in range(1,len(ohlc)):\n",
    "               print(ohlc[i][3])"
   ]
  },
  {
   "cell_type": "markdown",
   "id": "83ef3782",
   "metadata": {},
   "source": [
    "**196**\n",
    "\n",
    "ohlc 리스트에는 시가(open), 고가 (high), 저가 (low) , 종가(close)가 날짜별로 저장돼 있다. 종가가 150원보다 큰경우에만 종가를 출력하라."
   ]
  },
  {
   "cell_type": "code",
   "execution_count": 11,
   "id": "e24f2fcd",
   "metadata": {},
   "outputs": [
    {
     "name": "stdout",
     "output_type": "stream",
     "text": [
      "190\n",
      "310\n"
     ]
    }
   ],
   "source": [
    "for i in range(1,len(ohlc)):\n",
    "               if ohlc[i][3] > 150:\n",
    "                   print(ohlc[i][3])"
   ]
  },
  {
   "cell_type": "markdown",
   "id": "35f95587",
   "metadata": {},
   "source": [
    "**197**\n",
    "\n",
    "ohlc 리스트에는 시가(open), 고가 (high), 저가 (low) , 종가(close)가 날짜별로 저장돼 있다. 종가가 시가 보다 크거나 같은 경우에만 종가를 출력하라."
   ]
  },
  {
   "cell_type": "code",
   "execution_count": 12,
   "id": "c1853418",
   "metadata": {},
   "outputs": [
    {
     "name": "stdout",
     "output_type": "stream",
     "text": [
      "100\n",
      "310\n"
     ]
    }
   ],
   "source": [
    "for i in range(1,len(ohlc)):\n",
    "               if ohlc[i][3] >= ohlc[i][0]:\n",
    "                   print(ohlc[i][3])"
   ]
  },
  {
   "cell_type": "markdown",
   "id": "9e1a14b5",
   "metadata": {},
   "source": [
    "**198**\n",
    "\n",
    "ohlc 리스트에는 시가(open), 고가 (high), 저가 (low) , 종가(close)가 날짜별로 저장돼 있다. 고가와 저가의 차이를 변동폭으로 정의할 때 변동폭을 volatility 이름의 리스트에 저장하라."
   ]
  },
  {
   "cell_type": "code",
   "execution_count": 13,
   "id": "88c1b8d3",
   "metadata": {},
   "outputs": [
    {
     "name": "stdout",
     "output_type": "stream",
     "text": [
      "[40, 30, 10]\n"
     ]
    }
   ],
   "source": [
    "volatility = []\n",
    "for i in range(1,len(ohlc)):\n",
    "               volatility.append(ohlc[i][1] - ohlc[i][2])\n",
    "print(volatility)"
   ]
  },
  {
   "cell_type": "markdown",
   "id": "aa3b3bf9",
   "metadata": {},
   "source": [
    "**199**\n",
    "\n",
    "리스트에는 3일 간의 ohlc 데이터가 저장돼 있다. 종가가 시가보다 높은 날의 변동성 (고가 - 저가)을 화면에 출력하라."
   ]
  },
  {
   "cell_type": "code",
   "execution_count": 15,
   "id": "036322bd",
   "metadata": {},
   "outputs": [
    {
     "name": "stdout",
     "output_type": "stream",
     "text": [
      "10\n"
     ]
    }
   ],
   "source": [
    "for i in range(1,len(ohlc)):\n",
    "               if ohlc[i][3] > ohlc[i][0]:\n",
    "                   print(ohlc[i][1] - ohlc[i][2])"
   ]
  },
  {
   "cell_type": "markdown",
   "id": "e7f70cc5",
   "metadata": {},
   "source": [
    "**200**\n",
    "\n",
    "리스트에는 3일 간의 ohlc 데이터가 저장돼 있다. 시가에 매수해서 종가에 매도 했을 경우 총 수익금을 계산하라."
   ]
  },
  {
   "cell_type": "code",
   "execution_count": 16,
   "id": "169f6480",
   "metadata": {},
   "outputs": [
    {
     "name": "stdout",
     "output_type": "stream",
     "text": [
      "0\n"
     ]
    }
   ],
   "source": [
    "earnings = 0\n",
    "for i in range(1,len(ohlc)):\n",
    "    earnings += ohlc[i][3]-ohlc[i][0]\n",
    "print(earnings)"
   ]
  }
 ],
 "metadata": {
  "kernelspec": {
   "display_name": "Python 3 (ipykernel)",
   "language": "python",
   "name": "python3"
  },
  "language_info": {
   "codemirror_mode": {
    "name": "ipython",
    "version": 3
   },
   "file_extension": ".py",
   "mimetype": "text/x-python",
   "name": "python",
   "nbconvert_exporter": "python",
   "pygments_lexer": "ipython3",
   "version": "3.9.7"
  }
 },
 "nbformat": 4,
 "nbformat_minor": 5
}
