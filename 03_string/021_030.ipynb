{
 "cells": [
  {
   "cell_type": "markdown",
   "id": "b7a08323",
   "metadata": {},
   "source": [
    "**021 문자열 인덱싱**\n",
    "\n",
    "letters가 바인딩하는 문자열에서 첫번째와 세번째 문자를 출력하세요.\n",
    "\n",
    "`>> letters = 'python'\n",
    "실행 예\n",
    "p t`"
   ]
  },
  {
   "cell_type": "code",
   "execution_count": 2,
   "id": "5e3ac17e",
   "metadata": {},
   "outputs": [
    {
     "data": {
      "text/plain": [
       "'y'"
      ]
     },
     "execution_count": 2,
     "metadata": {},
     "output_type": "execute_result"
    }
   ],
   "source": [
    "letters = 'python'\n",
    "letters[0], letters[2]"
   ]
  },
  {
   "cell_type": "markdown",
   "id": "e146cab6",
   "metadata": {},
   "source": [
    "**022 문자열 슬라이싱**\n",
    "\n",
    "자동차 번호가 다음과 같을 때 뒤에 4자리만 출력하세요.\n",
    "\n",
    "`>>>license_plate = \"24가 2210\"\n",
    "실행 예: 2210`"
   ]
  },
  {
   "cell_type": "code",
   "execution_count": 4,
   "id": "34fe0109",
   "metadata": {},
   "outputs": [
    {
     "data": {
      "text/plain": [
       "'2210'"
      ]
     },
     "execution_count": 4,
     "metadata": {},
     "output_type": "execute_result"
    }
   ],
   "source": [
    "license_plate = \"24가 2210\"\n",
    "license_plate[-4:]"
   ]
  },
  {
   "cell_type": "markdown",
   "id": "1e1e7a29",
   "metadata": {},
   "source": [
    "**023 문자열 인덱싱**\n",
    "\n",
    "아래의 문자열에서 '홀' 만 출력하세요.\n",
    "\n",
    "`>> string = \"홀짝홀짝홀짝\"\n",
    "실행 예:\n",
    "홀홀홀`"
   ]
  },
  {
   "cell_type": "code",
   "execution_count": 6,
   "id": "d6cd946b",
   "metadata": {},
   "outputs": [
    {
     "data": {
      "text/plain": [
       "'홀홀홀'"
      ]
     },
     "execution_count": 6,
     "metadata": {},
     "output_type": "execute_result"
    }
   ],
   "source": [
    "string = \"홀짝홀짝홀짝\"\n",
    "string[::2]"
   ]
  },
  {
   "cell_type": "markdown",
   "id": "035b4b8c",
   "metadata": {},
   "source": [
    "**024 문자열 슬라이싱**\n",
    "\n",
    "문자열을 거꾸로 뒤집어 출력하세요.\n",
    "\n",
    "`>> string = \"PYTHON\"\n",
    "실행 예:\n",
    "NOHTYP`"
   ]
  },
  {
   "cell_type": "code",
   "execution_count": 7,
   "id": "7458533e",
   "metadata": {},
   "outputs": [
    {
     "data": {
      "text/plain": [
       "'NOHTYP'"
      ]
     },
     "execution_count": 7,
     "metadata": {},
     "output_type": "execute_result"
    }
   ],
   "source": [
    "string = \"PYTHON\"\n",
    "string[::-1]"
   ]
  },
  {
   "cell_type": "markdown",
   "id": "70cf7221",
   "metadata": {},
   "source": [
    "**025 문자열 치환**\n",
    "\n",
    "아래의 전화번호에서 하이푼 ('-')을 제거하고 출력하세요.\n",
    "\n",
    "`>> phone_number = \"010-1111-2222\"\n",
    "실행 예\n",
    "010 1111 2222`"
   ]
  },
  {
   "cell_type": "code",
   "execution_count": 12,
   "id": "a41eb2e1",
   "metadata": {},
   "outputs": [
    {
     "data": {
      "text/plain": [
       "'010 1111 2222'"
      ]
     },
     "execution_count": 12,
     "metadata": {},
     "output_type": "execute_result"
    }
   ],
   "source": [
    "phone_number = \"010-1111-2222\"\n",
    "result = phone_number.replace('-',' ')\n",
    "result"
   ]
  },
  {
   "cell_type": "markdown",
   "id": "a25d4477",
   "metadata": {},
   "source": [
    "**026 문자열 다루기**\n",
    "\n",
    "25번 문제의 전화번호를 아래와 같이 모두 붙여 출력하세요.\n",
    "\n",
    "`실행 예\n",
    "01011112222`"
   ]
  },
  {
   "cell_type": "code",
   "execution_count": 18,
   "id": "c4017394",
   "metadata": {},
   "outputs": [
    {
     "data": {
      "text/plain": [
       "'01011112222'"
      ]
     },
     "execution_count": 18,
     "metadata": {},
     "output_type": "execute_result"
    }
   ],
   "source": [
    "phone_number = \"010-1111-2222\"\n",
    "result = phone_number.replace('-','')\n",
    "result"
   ]
  },
  {
   "cell_type": "markdown",
   "id": "5b4f2973",
   "metadata": {},
   "source": [
    "**027 문자열 다루기**\n",
    "\n",
    "url 에 저장된 웹 페이지 주소에서 도메인을 출력하세요.\n",
    "\n",
    "`>> url = \"http://sharebook.kr\"\n",
    "실행 예:\n",
    "kr`"
   ]
  },
  {
   "cell_type": "code",
   "execution_count": 14,
   "id": "212cfee3",
   "metadata": {},
   "outputs": [
    {
     "data": {
      "text/plain": [
       "'kr'"
      ]
     },
     "execution_count": 14,
     "metadata": {},
     "output_type": "execute_result"
    }
   ],
   "source": [
    "url = \"http://sharebook.kr\"\n",
    "url_split = url.split('.')\n",
    "url_split[-1]"
   ]
  },
  {
   "cell_type": "markdown",
   "id": "8338df5c",
   "metadata": {},
   "source": [
    "**028 문자열은 immutable**\n",
    "\n",
    "아래 코드의 실행 결과를 예상해보세요.\n",
    "\n",
    "`>> lang = 'python'`\n",
    "\n",
    "`>> lang[0] = 'P'`\n",
    "\n",
    "`>> print(lang)`"
   ]
  },
  {
   "cell_type": "markdown",
   "id": "c2059780",
   "metadata": {},
   "source": [
    "타입 에러, 문자열은 수정할 수 없다."
   ]
  },
  {
   "cell_type": "markdown",
   "id": "e392012f",
   "metadata": {},
   "source": [
    "**029 replace 메서드**\n",
    "\n",
    "아래 문자열에서 소문자 'a'를 대문자 'A'로 변경하세요.\n",
    "\n",
    "`>> string = 'abcdfe2a354a32a'\n",
    "실행 예:\n",
    "Abcdfe2A354A32A`"
   ]
  },
  {
   "cell_type": "code",
   "execution_count": 19,
   "id": "c910eab2",
   "metadata": {},
   "outputs": [
    {
     "data": {
      "text/plain": [
       "'Abcdfe2A354A32A'"
      ]
     },
     "execution_count": 19,
     "metadata": {},
     "output_type": "execute_result"
    }
   ],
   "source": [
    "string = 'abcdfe2a354a32a'\n",
    "result = string.replace('a','A')\n",
    "result"
   ]
  },
  {
   "cell_type": "markdown",
   "id": "dc76d815",
   "metadata": {},
   "source": [
    "**030 replace 메서드**\n",
    "\n",
    "아래 코드의 실행 결과를 예상해보세요.\n",
    "\n",
    "`>> string = 'abcd'`\n",
    "\n",
    "`>> string.replace('b', 'B')`\n",
    "\n",
    "`>> print(string)`"
   ]
  },
  {
   "cell_type": "markdown",
   "id": "9cd23530",
   "metadata": {},
   "source": [
    "abcd, 문자열은 immutable이기 때문에 replace를 써도 원본이 변경된 것이 아니라 새로운 주소에 만든다. 그렇기 때문에 aBcd로 출력하고 싶다면 replace한 값을 새로운 변수에 할당하고 그 변수를 출력하면 된다."
   ]
  }
 ],
 "metadata": {
  "kernelspec": {
   "display_name": "Python 3 (ipykernel)",
   "language": "python",
   "name": "python3"
  },
  "language_info": {
   "codemirror_mode": {
    "name": "ipython",
    "version": 3
   },
   "file_extension": ".py",
   "mimetype": "text/x-python",
   "name": "python",
   "nbconvert_exporter": "python",
   "pygments_lexer": "ipython3",
   "version": "3.9.7"
  }
 },
 "nbformat": 4,
 "nbformat_minor": 5
}
