{
 "cells": [
  {
   "cell_type": "markdown",
   "id": "44f9783e",
   "metadata": {},
   "source": [
    "**041 upper 메서드**\n",
    "\n",
    "다음과 같은 문자열이 있을 때 이를 대문자 BTC_KRW로 변경하세요.\n",
    "\n",
    "ticker = \"btc_krw\""
   ]
  },
  {
   "cell_type": "code",
   "execution_count": 2,
   "id": "5b36cf69",
   "metadata": {},
   "outputs": [
    {
     "data": {
      "text/plain": [
       "'BTC_KRW'"
      ]
     },
     "execution_count": 2,
     "metadata": {},
     "output_type": "execute_result"
    }
   ],
   "source": [
    "ticker = \"btc_krw\"\n",
    "ticker.upper()"
   ]
  },
  {
   "cell_type": "markdown",
   "id": "16ee6eb3",
   "metadata": {},
   "source": [
    "**042 lower 메서드**\n",
    "\n",
    "다음과 같은 문자열이 있을 때 이를 소문자 btc_krw로 변경하세요.\n",
    "\n",
    "ticker = \"BTC_KRW\""
   ]
  },
  {
   "cell_type": "code",
   "execution_count": 4,
   "id": "9a346a41",
   "metadata": {},
   "outputs": [
    {
     "data": {
      "text/plain": [
       "'btc_krw'"
      ]
     },
     "execution_count": 4,
     "metadata": {},
     "output_type": "execute_result"
    }
   ],
   "source": [
    "ticker = \"BTC_KRW\"\n",
    "ticker.lower()"
   ]
  },
  {
   "cell_type": "markdown",
   "id": "6bb1d1a5",
   "metadata": {},
   "source": [
    "**043 capitalize 메서드**\n",
    "\n",
    "문자열 'hello'가 있을 때 이를 'Hello'로 변경해보세요."
   ]
  },
  {
   "cell_type": "code",
   "execution_count": 5,
   "id": "f3661822",
   "metadata": {},
   "outputs": [
    {
     "data": {
      "text/plain": [
       "'Hello'"
      ]
     },
     "execution_count": 5,
     "metadata": {},
     "output_type": "execute_result"
    }
   ],
   "source": [
    "str = 'hello'\n",
    "str.capitalize()"
   ]
  },
  {
   "cell_type": "markdown",
   "id": "b1ec1262",
   "metadata": {},
   "source": [
    "**044 endswith 메서드**\n",
    "\n",
    "파일 이름이 문자열로 저장되어 있을 때 endswith 메서드를 사용해서 파일 이름이 'xlsx'로 끝나는지 확인해보세요.\n",
    "\n",
    "file_name = \"보고서.xlsx\""
   ]
  },
  {
   "cell_type": "code",
   "execution_count": 8,
   "id": "f7b02d82",
   "metadata": {},
   "outputs": [
    {
     "data": {
      "text/plain": [
       "True"
      ]
     },
     "execution_count": 8,
     "metadata": {},
     "output_type": "execute_result"
    }
   ],
   "source": [
    "file_name = \"보고서.xlsx\"\n",
    "file_name.endswith('xlsx')"
   ]
  },
  {
   "cell_type": "markdown",
   "id": "bef9533b",
   "metadata": {},
   "source": [
    "**045 endswith 메서드**\n",
    "\n",
    "파일 이름이 문자열로 저장되어 있을 때 endswith 메서드를 사용해서 파일 이름이 'xlsx' 또는 'xls'로 끝나는지 확인해보세요.\n",
    "\n",
    "file_name = \"보고서.xlsx\""
   ]
  },
  {
   "cell_type": "code",
   "execution_count": 10,
   "id": "41e2ebb7",
   "metadata": {},
   "outputs": [
    {
     "data": {
      "text/plain": [
       "True"
      ]
     },
     "execution_count": 10,
     "metadata": {},
     "output_type": "execute_result"
    }
   ],
   "source": [
    "file_name = \"보고서.xlsx\"\n",
    "file_name.endswith(('xlsx','xls'))"
   ]
  },
  {
   "cell_type": "markdown",
   "id": "ef6bc2a6",
   "metadata": {},
   "source": [
    "**046 startswith 메서드**\n",
    "\n",
    "파일 이름이 문자열로 저장되어 있을 때 startswith 메서드를 사용해서 파일 이름이 '2020'로 시작하는지 확인해보세요.\n",
    "\n",
    "file_name = \"2020_보고서.xlsx\""
   ]
  },
  {
   "cell_type": "code",
   "execution_count": 11,
   "id": "65bac25e",
   "metadata": {},
   "outputs": [
    {
     "data": {
      "text/plain": [
       "True"
      ]
     },
     "execution_count": 11,
     "metadata": {},
     "output_type": "execute_result"
    }
   ],
   "source": [
    "file_name = \"2020_보고서.xlsx\"\n",
    "file_name.startswith('2020')"
   ]
  },
  {
   "cell_type": "markdown",
   "id": "0722ffbf",
   "metadata": {},
   "source": [
    "**047 split 메서드**\n",
    "\n",
    "다음과 같은 문자열이 있을 때 공백을 기준으로 문자열을 나눠보세요.\n",
    "\n",
    "a = \"hello world\""
   ]
  },
  {
   "cell_type": "code",
   "execution_count": 12,
   "id": "1f24a477",
   "metadata": {},
   "outputs": [
    {
     "data": {
      "text/plain": [
       "['hello', 'world']"
      ]
     },
     "execution_count": 12,
     "metadata": {},
     "output_type": "execute_result"
    }
   ],
   "source": [
    "a = \"hello world\"\n",
    "a.split(' ')"
   ]
  },
  {
   "cell_type": "markdown",
   "id": "a865b77d",
   "metadata": {},
   "source": [
    "**048 split 메서드**\n",
    "\n",
    "다음과 같이 문자열이 있을 때 btc와 krw로 나눠보세요.\n",
    "\n",
    "ticker = \"btc_krw\""
   ]
  },
  {
   "cell_type": "code",
   "execution_count": 13,
   "id": "857c1acf",
   "metadata": {},
   "outputs": [
    {
     "data": {
      "text/plain": [
       "['btc', 'krw']"
      ]
     },
     "execution_count": 13,
     "metadata": {},
     "output_type": "execute_result"
    }
   ],
   "source": [
    "ticker = \"btc_krw\"\n",
    "ticker.split('_')"
   ]
  },
  {
   "cell_type": "markdown",
   "id": "5a128782",
   "metadata": {},
   "source": [
    "**049 split 메서드**\n",
    "\n",
    "다음과 같이 날짜를 표현하는 문자열이 있을 때 연도, 월, 일로 나눠보세요.\n",
    "\n",
    "date = \"2020-05-01\""
   ]
  },
  {
   "cell_type": "code",
   "execution_count": 14,
   "id": "3352aa83",
   "metadata": {},
   "outputs": [
    {
     "data": {
      "text/plain": [
       "['2020', '05', '01']"
      ]
     },
     "execution_count": 14,
     "metadata": {},
     "output_type": "execute_result"
    }
   ],
   "source": [
    "date = \"2020-05-01\"\n",
    "date.split('-')"
   ]
  },
  {
   "cell_type": "markdown",
   "id": "b6db75f6",
   "metadata": {},
   "source": [
    "**050 rstrip 메서드**\n",
    "\n",
    "문자열의 오른쪽에 공백이 있을 때 이를 제거해보세요.\n",
    "\n",
    "data = \"039490     \""
   ]
  },
  {
   "cell_type": "code",
   "execution_count": 16,
   "id": "6f6a0e24",
   "metadata": {},
   "outputs": [
    {
     "data": {
      "text/plain": [
       "'039490'"
      ]
     },
     "execution_count": 16,
     "metadata": {},
     "output_type": "execute_result"
    }
   ],
   "source": [
    "data = \"039490    \"\n",
    "data.rstrip(' ')"
   ]
  }
 ],
 "metadata": {
  "kernelspec": {
   "display_name": "Python 3 (ipykernel)",
   "language": "python",
   "name": "python3"
  },
  "language_info": {
   "codemirror_mode": {
    "name": "ipython",
    "version": 3
   },
   "file_extension": ".py",
   "mimetype": "text/x-python",
   "name": "python",
   "nbconvert_exporter": "python",
   "pygments_lexer": "ipython3",
   "version": "3.9.7"
  }
 },
 "nbformat": 4,
 "nbformat_minor": 5
}
