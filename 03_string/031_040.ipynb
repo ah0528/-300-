{
 "cells": [
  {
   "cell_type": "markdown",
   "id": "af1c019e",
   "metadata": {},
   "source": [
    "**031 문자열 합치기**\n",
    "\n",
    "아래 코드의 실행 결과를 예상해보세요.\n",
    "\n",
    "`>> a = \"3\"`\n",
    "\n",
    "`>> b = \"4\"`\n",
    "\n",
    "`>> print(a + b)`"
   ]
  },
  {
   "cell_type": "markdown",
   "id": "db8b2189",
   "metadata": {},
   "source": [
    "34"
   ]
  },
  {
   "cell_type": "markdown",
   "id": "ff1f5ab4",
   "metadata": {},
   "source": [
    "**032 문자열 곱하기**\n",
    "\n",
    "아래 코드의 실행 결과를 예상해보세요.\n",
    "\n",
    "`>> print(\"Hi\" * 3)`"
   ]
  },
  {
   "cell_type": "markdown",
   "id": "2863566a",
   "metadata": {},
   "source": [
    "HiHiHi"
   ]
  },
  {
   "cell_type": "markdown",
   "id": "d011b0bb",
   "metadata": {},
   "source": [
    "**033 문자열 곱하기**\n",
    "\n",
    "화면에 '-'를 80개 출력하세요.\n",
    "\n",
    "`실행 예:\n",
    "--------------------------------------------------------------------------------`"
   ]
  },
  {
   "cell_type": "code",
   "execution_count": 2,
   "id": "af06a4e8",
   "metadata": {},
   "outputs": [
    {
     "name": "stdout",
     "output_type": "stream",
     "text": [
      "--------------------------------------------------------------------------------\n"
     ]
    }
   ],
   "source": [
    "print('-'*80)"
   ]
  },
  {
   "cell_type": "markdown",
   "id": "2e55a6fd",
   "metadata": {},
   "source": [
    "**034 문자열 곱하기**\n",
    "\n",
    "변수에 다음과 같은 문자열이 바인딩되어 있습니다.\n",
    "\n",
    "`>>> t1 = 'python'`\n",
    "\n",
    "`>>> t2 = 'java'`\n",
    "\n",
    "변수에 문자열 더하기와 문자열 곱하기를 사용해서 아래와 같이 출력해보세요.\n",
    "\n",
    "`실행 예:\n",
    "python java python java python java python java`"
   ]
  },
  {
   "cell_type": "code",
   "execution_count": 4,
   "id": "293b59ed",
   "metadata": {},
   "outputs": [
    {
     "name": "stdout",
     "output_type": "stream",
     "text": [
      "python java python java python java python java \n"
     ]
    }
   ],
   "source": [
    "t1 = 'python'\n",
    "t2 = 'java'\n",
    "result = t1 + ' ' + t2 + ' '\n",
    "print(result*4)"
   ]
  },
  {
   "cell_type": "markdown",
   "id": "74cec645",
   "metadata": {},
   "source": [
    "**035 문자열 출력**\n",
    "\n",
    "변수에 다음과 같이 문자열과 정수가 바인딩되어 있을 때 % formatting을 사용해서 다음과 같이 출력해보세요.\n",
    "\n",
    "`name1 = \"김민수\" \n",
    "age1 = 10\n",
    "name2 = \"이철희\"\n",
    "age2 = 13\n",
    "이름: 김민수 나이: 10\n",
    "이름: 이철희 나이: 13`"
   ]
  },
  {
   "cell_type": "code",
   "execution_count": 6,
   "id": "c2ba1701",
   "metadata": {},
   "outputs": [
    {
     "name": "stdout",
     "output_type": "stream",
     "text": [
      "이름: 김민수 나이: 10\n",
      "이름: 이철희 나이: 13\n"
     ]
    }
   ],
   "source": [
    "name1 = \"김민수\" \n",
    "age1 = 10\n",
    "name2 = \"이철희\"\n",
    "age2 = 13\n",
    "\n",
    "print('이름: %s 나이: %d' % (name1, age1))\n",
    "print('이름: %s 나이: %d' % (name2, age2))"
   ]
  },
  {
   "cell_type": "markdown",
   "id": "9a90884e",
   "metadata": {},
   "source": [
    "**036 문자열 출력**\n",
    "\n",
    "문자열의 format( ) 메서드를 사용해서 035번 문제를 다시 풀어보세요."
   ]
  },
  {
   "cell_type": "code",
   "execution_count": 10,
   "id": "5325a67a",
   "metadata": {},
   "outputs": [
    {
     "name": "stdout",
     "output_type": "stream",
     "text": [
      "이름: 김민수 나이: 10\n",
      "이름: 이철희 나이: 13\n"
     ]
    }
   ],
   "source": [
    "name1 = \"김민수\" \n",
    "age1 = 10\n",
    "name2 = \"이철희\"\n",
    "age2 = 13\n",
    "\n",
    "print('이름: {} 나이: {}'.format(name1, age1))\n",
    "print('이름: {} 나이: {}'.format(name2, age2))"
   ]
  },
  {
   "cell_type": "markdown",
   "id": "a37d8993",
   "metadata": {},
   "source": [
    "**037 문자열 출력**\n",
    "\n",
    "파이썬 3.6부터 지원하는 f-string을 사용해서 035번 문제를 다시 풀어보세요."
   ]
  },
  {
   "cell_type": "code",
   "execution_count": 11,
   "id": "e6e6bdd2",
   "metadata": {},
   "outputs": [
    {
     "name": "stdout",
     "output_type": "stream",
     "text": [
      "이름: 김민수 나이: 10\n",
      "이름: 이철희 나이: 13\n"
     ]
    }
   ],
   "source": [
    "name1 = \"김민수\" \n",
    "age1 = 10\n",
    "name2 = \"이철희\"\n",
    "age2 = 13\n",
    "\n",
    "print(f'이름: {name1} 나이: {age1}')\n",
    "print(f'이름: {name2} 나이: {age2}')"
   ]
  },
  {
   "cell_type": "markdown",
   "id": "79086bfa",
   "metadata": {},
   "source": [
    "**038 컴마 제거하기**\n",
    "\n",
    "삼성전자의 상장주식수가 다음과 같습니다. 컴마를 제거한 후 이를 정수 타입으로 변환해보세요.\n",
    "\n",
    "`상장주식수 = \"5,969,782,550\"`"
   ]
  },
  {
   "cell_type": "code",
   "execution_count": 13,
   "id": "615907ac",
   "metadata": {},
   "outputs": [
    {
     "data": {
      "text/plain": [
       "(5969782550, int)"
      ]
     },
     "execution_count": 13,
     "metadata": {},
     "output_type": "execute_result"
    }
   ],
   "source": [
    "samsung = \"5,969,782,550\"\n",
    "sam = samsung.replace(',','')\n",
    "sung = int(sam)\n",
    "sung, type(sung)"
   ]
  },
  {
   "cell_type": "markdown",
   "id": "e7995461",
   "metadata": {},
   "source": [
    "**039 문자열 슬라이싱**\n",
    "\n",
    "다음과 같은 문자열에서 '2020/03'만 출력하세요.\n",
    "\n",
    "`분기 = \"2020/03(E) (IFRS연결)\"`"
   ]
  },
  {
   "cell_type": "code",
   "execution_count": 15,
   "id": "ed359f00",
   "metadata": {},
   "outputs": [
    {
     "data": {
      "text/plain": [
       "'2020/03'"
      ]
     },
     "execution_count": 15,
     "metadata": {},
     "output_type": "execute_result"
    }
   ],
   "source": [
    "s = \"2020/03(E) (IFRS연결)\"\n",
    "s[:7]"
   ]
  },
  {
   "cell_type": "markdown",
   "id": "0758f95c",
   "metadata": {},
   "source": [
    "**040 strip 메서드**\n",
    "\n",
    "문자열의 좌우의 공백이 있을 때 이를 제거해보세요.\n",
    "\n",
    "`data = \"   삼성전자    \"`"
   ]
  },
  {
   "cell_type": "code",
   "execution_count": 16,
   "id": "d16362f2",
   "metadata": {},
   "outputs": [
    {
     "data": {
      "text/plain": [
       "'삼성전자'"
      ]
     },
     "execution_count": 16,
     "metadata": {},
     "output_type": "execute_result"
    }
   ],
   "source": [
    "data = \"   삼성전자    \"\n",
    "data_strip = data.strip()\n",
    "data_strip"
   ]
  }
 ],
 "metadata": {
  "kernelspec": {
   "display_name": "Python 3 (ipykernel)",
   "language": "python",
   "name": "python3"
  },
  "language_info": {
   "codemirror_mode": {
    "name": "ipython",
    "version": 3
   },
   "file_extension": ".py",
   "mimetype": "text/x-python",
   "name": "python",
   "nbconvert_exporter": "python",
   "pygments_lexer": "ipython3",
   "version": "3.9.7"
  }
 },
 "nbformat": 4,
 "nbformat_minor": 5
}
