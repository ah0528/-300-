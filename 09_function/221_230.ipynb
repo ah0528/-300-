{
 "cells": [
  {
   "cell_type": "markdown",
   "id": "e096645b",
   "metadata": {},
   "source": [
    "**221**\n",
    "\n",
    "입력된 문자열을 역순으로 출력하는 print_reverse 함수를 정의하라.\n",
    "\n",
    "print_reverse(\"python\")"
   ]
  },
  {
   "cell_type": "code",
   "execution_count": null,
   "id": "855a96e8",
   "metadata": {},
   "outputs": [],
   "source": [
    "def print_reverse(string):\n",
    "    print(string[::-1])"
   ]
  },
  {
   "cell_type": "markdown",
   "id": "d3d96e11",
   "metadata": {},
   "source": [
    "**222**\n",
    "\n",
    "성적 리스트를 입력 받아 평균을 출력하는 print_score 함수를 정의하라.\n",
    "\n",
    "print_score ([1, 2, 3])"
   ]
  },
  {
   "cell_type": "code",
   "execution_count": null,
   "id": "5cc6f174",
   "metadata": {},
   "outputs": [],
   "source": [
    "def print_score(scoreList):\n",
    "    print(sum(scoreList)/len(scoreList))"
   ]
  },
  {
   "cell_type": "markdown",
   "id": "e7dace72",
   "metadata": {},
   "source": [
    "**223**\n",
    "\n",
    "하나의 리스트를 입력받아 짝수만 화면에 출력하는 print_even 함수를 정의하라.\n",
    "\n",
    "print_even ([1, 3, 2, 10, 12, 11, 15])"
   ]
  },
  {
   "cell_type": "code",
   "execution_count": null,
   "id": "3df137b9",
   "metadata": {},
   "outputs": [],
   "source": [
    "def print_even(numList):\n",
    "    for i in numList:\n",
    "        if i%2==0:\n",
    "            print(i)"
   ]
  },
  {
   "cell_type": "markdown",
   "id": "9f7121fb",
   "metadata": {},
   "source": [
    "**224**\n",
    "\n",
    "하나의 딕셔너리를 입력받아 딕셔너리의 key 값을 화면에 출력하는 print_keys 함수를 정의하라.\n",
    "\n",
    "print_keys ({\"이름\":\"김말똥\", \"나이\":30, \"성별\":0})"
   ]
  },
  {
   "cell_type": "code",
   "execution_count": null,
   "id": "9381aa6e",
   "metadata": {},
   "outputs": [],
   "source": [
    "def print_keys(dic):\n",
    "    for keys in dic.keys():\n",
    "        print(keys)"
   ]
  },
  {
   "cell_type": "markdown",
   "id": "f15073f6",
   "metadata": {},
   "source": [
    "**225**\n",
    "\n",
    "my_dict에는 날짜를 키값으로 OHLC가 리스트로 저장돼 있다.\n",
    "\n",
    "my_dict = {\"10/26\" : [100, 130, 100, 100],\n",
    "           \"10/27\" : [10, 12, 10, 11]}\n",
    "           \n",
    "my_dict와 날짜 키값을 입력받아 OHLC 리스트를 출력하는 print_value_by_key 함수를 정의하라."
   ]
  },
  {
   "cell_type": "code",
   "execution_count": 1,
   "id": "76f759eb",
   "metadata": {},
   "outputs": [
    {
     "name": "stdout",
     "output_type": "stream",
     "text": [
      "[100, 130, 100, 100]\n"
     ]
    }
   ],
   "source": [
    "def print_value_by_key(my_dict, key):\n",
    "    print(my_dict[key])\n",
    "\n",
    "my_dict = {\"10/26\" : [100, 130, 100, 100],\n",
    "           \"10/27\" : [10, 12, 10, 11]}\n",
    "\n",
    "print_value_by_key(my_dict, \"10/26\")"
   ]
  },
  {
   "cell_type": "markdown",
   "id": "226825a7",
   "metadata": {},
   "source": [
    "**226**\n",
    "\n",
    "입력 문자열을 한 줄에 다섯글자씩 출력하는 print_5xn(string) 함수를 작성하라.\n",
    "\n",
    "print_5xn(\"아이엠어보이유알어걸\")"
   ]
  },
  {
   "cell_type": "code",
   "execution_count": null,
   "id": "dc4cf206",
   "metadata": {},
   "outputs": [],
   "source": [
    "def print_5xn(string):\n",
    "    print(string[:5])\n",
    "    print(string[5:])"
   ]
  },
  {
   "cell_type": "markdown",
   "id": "6b00e163",
   "metadata": {},
   "source": [
    "**227**\n",
    "\n",
    "문자열과 한줄에 출력될 글자 수를 입력을 받아 한 줄에 입력된 글자 수만큼 출력하는 print_mxn(string) 함수를 작성하라.\n",
    "\n",
    "printmxn(\"아이엠어보이유알어걸\", 3)"
   ]
  },
  {
   "cell_type": "code",
   "execution_count": null,
   "id": "90bdaed0",
   "metadata": {},
   "outputs": [],
   "source": [
    "def print_mxn(string, num):\n",
    "    a = int(len(string) / num)\n",
    "    for x in range(a + 1) :\n",
    "        print(string[x * num: x * num + num])"
   ]
  },
  {
   "cell_type": "markdown",
   "id": "28d6e2a8",
   "metadata": {},
   "source": [
    "**228**\n",
    "\n",
    "연봉을 입력받아 월급을 계산하는 calc_monthly_salary(annual_salary) 함수를 정의하라. 회사는 연봉을 12개월로 나누어 분할 지급하며, 이 때 1원 미만은 버림한다."
   ]
  },
  {
   "cell_type": "code",
   "execution_count": null,
   "id": "7a1b9122",
   "metadata": {},
   "outputs": [],
   "source": [
    "def calc_monthly_salary(annual_salary):\n",
    "    print(round(annual_salary/12))"
   ]
  },
  {
   "cell_type": "markdown",
   "id": "fa9268d3",
   "metadata": {},
   "source": [
    "**229**\n",
    "\n",
    "아래 코드의 실행 결과를 예측하라."
   ]
  },
  {
   "cell_type": "raw",
   "id": "86acb1d4",
   "metadata": {},
   "source": [
    "def my_print (a, b) :\n",
    "    print(\"왼쪽:\", a)\n",
    "    print(\"오른쪽:\", b)\n",
    "\n",
    "my_print(a=100, b=200)"
   ]
  },
  {
   "cell_type": "code",
   "execution_count": null,
   "id": "afa21e51",
   "metadata": {},
   "outputs": [],
   "source": [
    "왼쪽: 100\n",
    "오른쪽 : 200"
   ]
  },
  {
   "cell_type": "markdown",
   "id": "05a8544e",
   "metadata": {},
   "source": [
    "**230**\n",
    "\n",
    "아래 코드의 실행 결과를 예측하라."
   ]
  },
  {
   "cell_type": "raw",
   "id": "fa505da0",
   "metadata": {},
   "source": [
    "def my_print (a, b) :\n",
    "    print(\"왼쪽:\", a)\n",
    "    print(\"오른쪽:\", b)\n",
    "\n",
    "my_print(b=100, a=200)"
   ]
  },
  {
   "cell_type": "code",
   "execution_count": null,
   "id": "ca828d9f",
   "metadata": {},
   "outputs": [],
   "source": [
    "왼쪽: 200\n",
    "오른쪽: 100"
   ]
  }
 ],
 "metadata": {
  "kernelspec": {
   "display_name": "Python 3 (ipykernel)",
   "language": "python",
   "name": "python3"
  },
  "language_info": {
   "codemirror_mode": {
    "name": "ipython",
    "version": 3
   },
   "file_extension": ".py",
   "mimetype": "text/x-python",
   "name": "python",
   "nbconvert_exporter": "python",
   "pygments_lexer": "ipython3",
   "version": "3.9.7"
  }
 },
 "nbformat": 4,
 "nbformat_minor": 5
}
