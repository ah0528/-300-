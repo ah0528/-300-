{
 "cells": [
  {
   "cell_type": "markdown",
   "id": "14ac7677",
   "metadata": {},
   "source": [
    "**211**\n",
    "\n",
    "함수의 호출 결과를 예측하라."
   ]
  },
  {
   "cell_type": "raw",
   "id": "b36678ad",
   "metadata": {},
   "source": [
    "def 함수(문자열) :\n",
    "    print(문자열)\n",
    "\n",
    "함수(\"안녕\")\n",
    "함수(\"Hi\")"
   ]
  },
  {
   "cell_type": "code",
   "execution_count": null,
   "id": "b36cdab2",
   "metadata": {},
   "outputs": [],
   "source": [
    "안녕\n",
    "Hi"
   ]
  },
  {
   "cell_type": "markdown",
   "id": "6f70f04d",
   "metadata": {},
   "source": [
    "**212**\n",
    "\n",
    "함수의 호출 결과를 예측하라."
   ]
  },
  {
   "cell_type": "raw",
   "id": "de8f6619",
   "metadata": {},
   "source": [
    "def 함수(a, b) :\n",
    "    print(a + b)\n",
    "\n",
    "함수(3, 4)\n",
    "함수(7, 8)"
   ]
  },
  {
   "cell_type": "code",
   "execution_count": null,
   "id": "85e91a07",
   "metadata": {},
   "outputs": [],
   "source": [
    "7\n",
    "15"
   ]
  },
  {
   "cell_type": "markdown",
   "id": "a293fb9c",
   "metadata": {},
   "source": [
    "**213**\n",
    "\n",
    "아래와 같은 에러가 발생하는 원인을 설명하라."
   ]
  },
  {
   "cell_type": "raw",
   "id": "137f8394",
   "metadata": {},
   "source": [
    "def 함수(문자열) :\n",
    "    print(문자열)\n",
    "함수()\n",
    "TypeError: 함수() missing 1 required positional argument: '문자열'"
   ]
  },
  {
   "cell_type": "code",
   "execution_count": null,
   "id": "54eb5616",
   "metadata": {},
   "outputs": [],
   "source": [
    "정의된 함수에는 매개변수가 설정되어 있는데, 함수를 호출할 때 괄호 안에 매개변수를 넣지 않아서 오류가 발생했다."
   ]
  },
  {
   "cell_type": "markdown",
   "id": "56a19c16",
   "metadata": {},
   "source": [
    "**214**\n",
    "\n",
    "아래와 같은 에러가 발생하는 원인을 설명하라.\n",
    "\n",
    "def 함수(a, b) :\n",
    "\n",
    "    print(a + b)\n",
    "\n",
    "함수(\"안녕\", 3)\n",
    "\n",
    "TypeError: must be str, not int"
   ]
  },
  {
   "cell_type": "code",
   "execution_count": null,
   "id": "6faac642",
   "metadata": {},
   "outputs": [],
   "source": [
    "정의된 함수는 매개변수 2개를 받고, 그 2개를 더한 값을 출력하는 함수인데, 함수를 호출했을 때 문자열인 '안녕'과 정수형인 3은 더할 수 없기 때문에 오류가 발생했다."
   ]
  },
  {
   "cell_type": "markdown",
   "id": "2ceab5cb",
   "metadata": {},
   "source": [
    "**215**\n",
    "\n",
    "하나의 문자를 입력받아 문자열 끝에 \":D\" 스마일 문자열을 이어 붙여 출력하는 print_with_smile 함수를 정의하라."
   ]
  },
  {
   "cell_type": "code",
   "execution_count": 1,
   "id": "b90d273b",
   "metadata": {},
   "outputs": [],
   "source": [
    "def print_with_smile(str1):\n",
    "    print(str1+':D')"
   ]
  },
  {
   "cell_type": "markdown",
   "id": "2f31792f",
   "metadata": {},
   "source": [
    "**216**\n",
    "\n",
    "215에서 정의한 함수를 호출하라. 파라미터는 \"안녕하세요\"로 입력하라."
   ]
  },
  {
   "cell_type": "code",
   "execution_count": 2,
   "id": "ce032d27",
   "metadata": {},
   "outputs": [
    {
     "name": "stdout",
     "output_type": "stream",
     "text": [
      "안녕하세요:D\n"
     ]
    }
   ],
   "source": [
    "print_with_smile('안녕하세요')"
   ]
  },
  {
   "cell_type": "markdown",
   "id": "c9e49796",
   "metadata": {},
   "source": [
    "**217**\n",
    "\n",
    "현재 가격을 입력 받아 상한가 (30%)를 출력하는 print_upper_price 함수를 정의하라."
   ]
  },
  {
   "cell_type": "code",
   "execution_count": 3,
   "id": "48da5908",
   "metadata": {},
   "outputs": [],
   "source": [
    "def print_upper_price(cost):\n",
    "    print(cost*1.3)"
   ]
  },
  {
   "cell_type": "markdown",
   "id": "4de613ff",
   "metadata": {},
   "source": [
    "**218**\n",
    "\n",
    "두 개의 숫자를 입력받아 두 수의 합을 출력하는 print_sum 함수를 정의하라."
   ]
  },
  {
   "cell_type": "code",
   "execution_count": 4,
   "id": "49a31b6f",
   "metadata": {},
   "outputs": [],
   "source": [
    "def print_sum(a,b):\n",
    "    print(a+b)"
   ]
  },
  {
   "cell_type": "markdown",
   "id": "bbf7d795",
   "metadata": {},
   "source": [
    "**219**\n",
    "\n",
    "두 개의 숫자를 입력받아 합/차/곱/나눗셈을 출력하는 print_arithmetic_operation 함수를 작성하라."
   ]
  },
  {
   "cell_type": "code",
   "execution_count": null,
   "id": "5a1037e9",
   "metadata": {},
   "outputs": [],
   "source": [
    "def print_arithmetic_operation(a,b):\n",
    "    print(f'{a} + {b} = {a+b}\\n{a} - {b} = {a-b}\\n{a} * {b} = {a*b}\\n{a} / {b} = {a/b}')"
   ]
  },
  {
   "cell_type": "markdown",
   "id": "32272c78",
   "metadata": {},
   "source": [
    "**220**\n",
    "\n",
    "세 개의 숫자를 입력받아 가장 큰수를 출력하는 print_max 함수를 정의하라. 단 if 문을 사용해서 수를 비교하라."
   ]
  },
  {
   "cell_type": "code",
   "execution_count": null,
   "id": "2512b1bf",
   "metadata": {},
   "outputs": [],
   "source": [
    "def print_max(a,b,c):\n",
    "    if (a>=b) and (a>=c):\n",
    "        print(a)\n",
    "    elif b<=c:\n",
    "        print(c)\n",
    "    else:\n",
    "        print(b)"
   ]
  }
 ],
 "metadata": {
  "kernelspec": {
   "display_name": "Python 3 (ipykernel)",
   "language": "python",
   "name": "python3"
  },
  "language_info": {
   "codemirror_mode": {
    "name": "ipython",
    "version": 3
   },
   "file_extension": ".py",
   "mimetype": "text/x-python",
   "name": "python",
   "nbconvert_exporter": "python",
   "pygments_lexer": "ipython3",
   "version": "3.9.7"
  }
 },
 "nbformat": 4,
 "nbformat_minor": 5
}
