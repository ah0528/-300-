{
 "cells": [
  {
   "cell_type": "markdown",
   "id": "9894c3d4",
   "metadata": {},
   "source": [
    "**241 현재시간**\n",
    "\n",
    "datetime 모듈을 사용해서 현재 시간을 화면에 출력해보세요."
   ]
  },
  {
   "cell_type": "code",
   "execution_count": 3,
   "id": "6f608842",
   "metadata": {},
   "outputs": [
    {
     "name": "stdout",
     "output_type": "stream",
     "text": [
      "2022-01-15 15:24:44.607347\n"
     ]
    }
   ],
   "source": [
    "import datetime\n",
    "now = datetime.datetime.now()\n",
    "print(now)"
   ]
  },
  {
   "cell_type": "markdown",
   "id": "12782c8f",
   "metadata": {},
   "source": [
    "**242 현재시간의 타입**\n",
    "\n",
    "datetime 모듈의 now 함수의 리턴 값의 타입을 화면에 출력해보세요."
   ]
  },
  {
   "cell_type": "code",
   "execution_count": 4,
   "id": "abb82d72",
   "metadata": {},
   "outputs": [
    {
     "name": "stdout",
     "output_type": "stream",
     "text": [
      "<class 'datetime.datetime'>\n"
     ]
    }
   ],
   "source": [
    "now = datetime.datetime.now()\n",
    "print(type(now))"
   ]
  },
  {
   "cell_type": "markdown",
   "id": "0ccd6cf0",
   "metadata": {},
   "source": [
    "**243 timedelta**\n",
    "\n",
    "datetime 모듈의 timedelta를 사용해서 오늘로부터 5일, 4일, 3일, 2일, 1일 전의 날짜를 화면에 출력해보세요."
   ]
  },
  {
   "cell_type": "code",
   "execution_count": 12,
   "id": "2a3258a2",
   "metadata": {},
   "outputs": [
    {
     "name": "stdout",
     "output_type": "stream",
     "text": [
      "2022-01-10 15:31:20.594128\n",
      "2022-01-11 15:31:20.594128\n",
      "2022-01-12 15:31:20.594128\n",
      "2022-01-13 15:31:20.594128\n",
      "2022-01-14 15:31:20.594128\n"
     ]
    }
   ],
   "source": [
    "import datetime\n",
    "\n",
    "now = datetime.datetime.now()\n",
    "for i in range(5,0,-1):\n",
    "    delta = datetime.timedelta(days=i)\n",
    "    result = now-delta\n",
    "    print(result)"
   ]
  },
  {
   "cell_type": "markdown",
   "id": "d73de622",
   "metadata": {},
   "source": [
    "**244 strftime**\n",
    "\n",
    "현재시간을 얻어온 후 다음과 같은 포맷으로 시간을 출력해보세요. strftime 메서드를 사용하세요.\n",
    "\n",
    "18:35:01 "
   ]
  },
  {
   "cell_type": "code",
   "execution_count": 15,
   "id": "455407ea",
   "metadata": {},
   "outputs": [
    {
     "name": "stdout",
     "output_type": "stream",
     "text": [
      "15:33:26\n"
     ]
    }
   ],
   "source": [
    "now = datetime.datetime.now()\n",
    "print(now.strftime('%H:%M:%S'))"
   ]
  },
  {
   "cell_type": "markdown",
   "id": "27e1753d",
   "metadata": {},
   "source": [
    "**245 strptime**\n",
    "\n",
    "datetime.datetime.strptime 메서드를 사용하면 문자열 형식의 시간을 datetime.datetime 타입의 시간 값으로 만들어줍니다. \"2020-05-04\"의 문자열을 시간 타입으로 변환해보세요."
   ]
  },
  {
   "cell_type": "code",
   "execution_count": 19,
   "id": "8815188a",
   "metadata": {},
   "outputs": [
    {
     "name": "stdout",
     "output_type": "stream",
     "text": [
      "2020-05-04 00:00:00\n"
     ]
    }
   ],
   "source": [
    "import datetime\n",
    "before = '2020-05-04'\n",
    "now = datetime.datetime.strptime(before,'%Y-%m-%d')\n",
    "print(now)"
   ]
  },
  {
   "cell_type": "markdown",
   "id": "90412e6c",
   "metadata": {},
   "source": [
    "**246 sleep 함수**\n",
    "\n",
    "time 모듈, datetime 모듈을 사용해서 1초에 한 번 현재 시간을 출력하는 코드를 작성하세요."
   ]
  },
  {
   "cell_type": "code",
   "execution_count": null,
   "id": "711b9b24",
   "metadata": {},
   "outputs": [],
   "source": [
    "import time\n",
    "import datetime\n",
    "\n",
    "while True:\n",
    "    now = datetime.datetime.now()\n",
    "    print(now)\n",
    "    time.sleep(1)"
   ]
  },
  {
   "cell_type": "markdown",
   "id": "87c9fd08",
   "metadata": {},
   "source": [
    "**247 모듈 임포트**\n",
    "\n",
    "모듈을 임포트하는 4가지 방식에 대해 설명해보세요."
   ]
  },
  {
   "cell_type": "raw",
   "id": "a5773281",
   "metadata": {},
   "source": [
    "import 모듈명\n",
    "import 모듈명 as 별칭\n",
    "from 모듈명 import 함수명\n",
    "from 모듈명 import *"
   ]
  },
  {
   "cell_type": "markdown",
   "id": "a4ba4d32",
   "metadata": {},
   "source": [
    "**248 os 모듈**\n",
    "\n",
    "os 모듈의 getcwd 함수를 호출하여 현재 디렉터리의 경로를 화면에 출력해보세요."
   ]
  },
  {
   "cell_type": "code",
   "execution_count": 16,
   "id": "60177020",
   "metadata": {},
   "outputs": [
    {
     "name": "stdout",
     "output_type": "stream",
     "text": [
      "c:\\project\\Python-for-Novice\\10_module\n"
     ]
    }
   ],
   "source": [
    "import os\n",
    "a = os.getcwd()\n",
    "print(a)"
   ]
  },
  {
   "cell_type": "markdown",
   "id": "fa654a90",
   "metadata": {},
   "source": [
    "**249 rename 함수**\n",
    "\n",
    "바탕화면에 텍스트 파일을 하나 생성한 후 os 모듈의 rename 함수를 호출하여 해당 파일의 이름을 변경해보세요."
   ]
  },
  {
   "cell_type": "raw",
   "id": "6abcf3b7",
   "metadata": {},
   "source": [
    "import os\n",
    "os.rename(\"C:/Users/Desktop/before.txt\", \"C:/Users/Desktop/after.txt\")"
   ]
  },
  {
   "cell_type": "markdown",
   "id": "f642863c",
   "metadata": {},
   "source": [
    "**250 numpy**\n",
    "\n",
    "numpy 모듈의 arange 함수를 사용해서 0.0 부터 5.0까지 0.1씩 증가하는 값을 화면에 출력해보세요."
   ]
  },
  {
   "cell_type": "code",
   "execution_count": null,
   "id": "e7dd3cd9",
   "metadata": {},
   "outputs": [],
   "source": [
    "import numpy\n",
    "for i in numpy.arange(0,5,0.1):\n",
    "    print(i)"
   ]
  }
 ],
 "metadata": {
  "kernelspec": {
   "display_name": "Python 3 (ipykernel)",
   "language": "python",
   "name": "python3"
  },
  "language_info": {
   "codemirror_mode": {
    "name": "ipython",
    "version": 3
   },
   "file_extension": ".py",
   "mimetype": "text/x-python",
   "name": "python",
   "nbconvert_exporter": "python",
   "pygments_lexer": "ipython3",
   "version": "3.9.7"
  }
 },
 "nbformat": 4,
 "nbformat_minor": 5
}
