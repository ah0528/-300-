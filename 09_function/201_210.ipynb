{
 "cells": [
  {
   "cell_type": "markdown",
   "id": "09a5c801",
   "metadata": {},
   "source": [
    "**201**\n",
    "\n",
    "\"비트코인\" 문자열을 화면에 출력하는 print_coin() 함수를 정의하라."
   ]
  },
  {
   "cell_type": "code",
   "execution_count": 1,
   "id": "dcdd0bfe",
   "metadata": {},
   "outputs": [],
   "source": [
    "def print_coin():\n",
    "    print('비트코인')"
   ]
  },
  {
   "cell_type": "markdown",
   "id": "3da0cee7",
   "metadata": {},
   "source": [
    "**202**\n",
    "\n",
    "201번에서 정의한 함수를 호출하라."
   ]
  },
  {
   "cell_type": "code",
   "execution_count": 2,
   "id": "44496513",
   "metadata": {},
   "outputs": [
    {
     "name": "stdout",
     "output_type": "stream",
     "text": [
      "비트코인\n"
     ]
    }
   ],
   "source": [
    "print_coin()"
   ]
  },
  {
   "cell_type": "markdown",
   "id": "1733d2b0",
   "metadata": {},
   "source": [
    "**203**\n",
    "\n",
    "201번에서 정의한 print_coin 함수를 100번호출하라."
   ]
  },
  {
   "cell_type": "code",
   "execution_count": 3,
   "id": "866bef28",
   "metadata": {},
   "outputs": [
    {
     "name": "stdout",
     "output_type": "stream",
     "text": [
      "비트코인\n",
      "비트코인\n",
      "비트코인\n",
      "비트코인\n",
      "비트코인\n",
      "비트코인\n",
      "비트코인\n",
      "비트코인\n",
      "비트코인\n",
      "비트코인\n",
      "비트코인\n",
      "비트코인\n",
      "비트코인\n",
      "비트코인\n",
      "비트코인\n",
      "비트코인\n",
      "비트코인\n",
      "비트코인\n",
      "비트코인\n",
      "비트코인\n",
      "비트코인\n",
      "비트코인\n",
      "비트코인\n",
      "비트코인\n",
      "비트코인\n",
      "비트코인\n",
      "비트코인\n",
      "비트코인\n",
      "비트코인\n",
      "비트코인\n",
      "비트코인\n",
      "비트코인\n",
      "비트코인\n",
      "비트코인\n",
      "비트코인\n",
      "비트코인\n",
      "비트코인\n",
      "비트코인\n",
      "비트코인\n",
      "비트코인\n",
      "비트코인\n",
      "비트코인\n",
      "비트코인\n",
      "비트코인\n",
      "비트코인\n",
      "비트코인\n",
      "비트코인\n",
      "비트코인\n",
      "비트코인\n",
      "비트코인\n",
      "비트코인\n",
      "비트코인\n",
      "비트코인\n",
      "비트코인\n",
      "비트코인\n",
      "비트코인\n",
      "비트코인\n",
      "비트코인\n",
      "비트코인\n",
      "비트코인\n",
      "비트코인\n",
      "비트코인\n",
      "비트코인\n",
      "비트코인\n",
      "비트코인\n",
      "비트코인\n",
      "비트코인\n",
      "비트코인\n",
      "비트코인\n",
      "비트코인\n",
      "비트코인\n",
      "비트코인\n",
      "비트코인\n",
      "비트코인\n",
      "비트코인\n",
      "비트코인\n",
      "비트코인\n",
      "비트코인\n",
      "비트코인\n",
      "비트코인\n",
      "비트코인\n",
      "비트코인\n",
      "비트코인\n",
      "비트코인\n",
      "비트코인\n",
      "비트코인\n",
      "비트코인\n",
      "비트코인\n",
      "비트코인\n",
      "비트코인\n",
      "비트코인\n",
      "비트코인\n",
      "비트코인\n",
      "비트코인\n",
      "비트코인\n",
      "비트코인\n",
      "비트코인\n",
      "비트코인\n",
      "비트코인\n",
      "비트코인\n"
     ]
    }
   ],
   "source": [
    "for _ in range(100):\n",
    "    print_coin()"
   ]
  },
  {
   "cell_type": "markdown",
   "id": "a3b022fd",
   "metadata": {},
   "source": [
    "**204**\n",
    "\n",
    "\"비트코인\" 문자열을 100번 화면에 출력하는 print_coins() 함수를 정의하라."
   ]
  },
  {
   "cell_type": "code",
   "execution_count": null,
   "id": "1b64cab8",
   "metadata": {},
   "outputs": [],
   "source": [
    "def print_coins():\n",
    "    for _ in range(100):\n",
    "        print_coin()"
   ]
  },
  {
   "cell_type": "markdown",
   "id": "b203ad5a",
   "metadata": {},
   "source": [
    "**205**\n",
    "아래의 에러가 발생하는 이유에 대해 설명하라."
   ]
  },
  {
   "cell_type": "raw",
   "id": "3b2bae36",
   "metadata": {},
   "source": [
    "hello()\n",
    "def hello():\n",
    "    print(\"Hi\")\n",
    "실행 예\n",
    "\n",
    "NameError: name 'hello' is not defined"
   ]
  },
  {
   "cell_type": "code",
   "execution_count": null,
   "id": "698d9991",
   "metadata": {},
   "outputs": [],
   "source": [
    "함수가 정의되기 전에 함수를 호출했기 때문에 에러가 난다."
   ]
  },
  {
   "cell_type": "markdown",
   "id": "8648e4ba",
   "metadata": {},
   "source": [
    "**206**\n",
    "\n",
    "아래 코드의 실행 결과를 예측하라."
   ]
  },
  {
   "cell_type": "raw",
   "id": "eaec027c",
   "metadata": {},
   "source": [
    "def message() :\n",
    "    print(\"A\")\n",
    "    print(\"B\")\n",
    "\n",
    "message()\n",
    "print(\"C\")\n",
    "message()"
   ]
  },
  {
   "cell_type": "code",
   "execution_count": null,
   "id": "d6739dbc",
   "metadata": {},
   "outputs": [],
   "source": [
    "A\n",
    "B\n",
    "C\n",
    "A\n",
    "B"
   ]
  },
  {
   "cell_type": "markdown",
   "id": "baed04ba",
   "metadata": {},
   "source": [
    "**207**\n",
    "\n",
    "아래 코드의 실행 결과를 예측하라. (읽기 어려운 코드의 예입니다.)"
   ]
  },
  {
   "cell_type": "raw",
   "id": "7247f1de",
   "metadata": {},
   "source": [
    "print(\"A\")\n",
    "\n",
    "def message() :\n",
    "    print(\"B\")\n",
    "\n",
    "print(\"C\")\n",
    "message()"
   ]
  },
  {
   "cell_type": "code",
   "execution_count": null,
   "id": "2d05cc4d",
   "metadata": {},
   "outputs": [],
   "source": [
    "A\n",
    "C\n",
    "B"
   ]
  },
  {
   "cell_type": "markdown",
   "id": "cab3cc1c",
   "metadata": {},
   "source": [
    "**208**\n",
    "\n",
    "아래 코드의 실행 결과를 예측하라. (읽기 어려운 코드의 예입니다.)"
   ]
  },
  {
   "cell_type": "raw",
   "id": "0074aaa4",
   "metadata": {},
   "source": [
    "print(\"A\")\n",
    "def message1() :\n",
    "    print(\"B\")\n",
    "print(\"C\")\n",
    "def message2() :\n",
    "    print(\"D\")\n",
    "message1()\n",
    "print(\"E\")\n",
    "message2()"
   ]
  },
  {
   "cell_type": "code",
   "execution_count": null,
   "id": "f1320141",
   "metadata": {},
   "outputs": [],
   "source": [
    "A\n",
    "C\n",
    "B\n",
    "E\n",
    "D"
   ]
  },
  {
   "cell_type": "markdown",
   "id": "c89bfdc5",
   "metadata": {},
   "source": [
    "**209**\n",
    "\n",
    "아래 코드의 실행 결과를 예측하라."
   ]
  },
  {
   "cell_type": "raw",
   "id": "879dab03",
   "metadata": {},
   "source": [
    "def message1():\n",
    "    print(\"A\")\n",
    "\n",
    "def message2():\n",
    "    print(\"B\")\n",
    "    message1()\n",
    "\n",
    "message2()"
   ]
  },
  {
   "cell_type": "code",
   "execution_count": null,
   "id": "ac246546",
   "metadata": {},
   "outputs": [],
   "source": [
    "B\n",
    "A"
   ]
  },
  {
   "cell_type": "markdown",
   "id": "e33edf1e",
   "metadata": {},
   "source": [
    "**210**\n",
    "\n",
    "아래 코드의 실행 결과를 예측하라."
   ]
  },
  {
   "cell_type": "raw",
   "id": "fdf9effc",
   "metadata": {},
   "source": [
    "def message1():\n",
    "    print(\"A\")\n",
    "\n",
    "def message2():\n",
    "    print(\"B\")\n",
    "\n",
    "def message3():\n",
    "    for i in range (3) :\n",
    "        message2()\n",
    "        print(\"C\")\n",
    "    message1()\n",
    "\n",
    "message3()"
   ]
  },
  {
   "cell_type": "code",
   "execution_count": null,
   "id": "bdb8144f",
   "metadata": {},
   "outputs": [],
   "source": [
    "B\n",
    "C\n",
    "B\n",
    "C\n",
    "B\n",
    "C\n",
    "A"
   ]
  }
 ],
 "metadata": {
  "kernelspec": {
   "display_name": "Python 3 (ipykernel)",
   "language": "python",
   "name": "python3"
  },
  "language_info": {
   "codemirror_mode": {
    "name": "ipython",
    "version": 3
   },
   "file_extension": ".py",
   "mimetype": "text/x-python",
   "name": "python",
   "nbconvert_exporter": "python",
   "pygments_lexer": "ipython3",
   "version": "3.9.7"
  }
 },
 "nbformat": 4,
 "nbformat_minor": 5
}
