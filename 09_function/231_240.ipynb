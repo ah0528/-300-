{
 "cells": [
  {
   "cell_type": "markdown",
   "id": "d4ddc1a9",
   "metadata": {},
   "source": [
    "**231**\n",
    "\n",
    "아래 코드를 실행한 결과를 예상하라."
   ]
  },
  {
   "cell_type": "raw",
   "id": "9e25f564",
   "metadata": {},
   "source": [
    "def n_plus_1 (n) :\n",
    "    result = n + 1\n",
    "\n",
    "n_plus_1(3)\n",
    "print (result)"
   ]
  },
  {
   "cell_type": "raw",
   "id": "9e8eca26",
   "metadata": {},
   "source": [
    "에러가 발생한다. n_plus_1에 있는 변수 result는 지역변수이기 때문에 함수 밖에서 호출할 수 없다."
   ]
  },
  {
   "cell_type": "markdown",
   "id": "c232c152",
   "metadata": {},
   "source": [
    "**232**\n",
    "\n",
    "문자열 하나를 입력받아 인터넷 주소를 반환하는 make_url 함수를 정의하라.\n",
    "\n",
    "make_url(\"naver\")\n",
    "\n",
    "www.naver.com"
   ]
  },
  {
   "cell_type": "code",
   "execution_count": null,
   "id": "c7600502",
   "metadata": {},
   "outputs": [],
   "source": [
    "def make_url(url):\n",
    "    result = 'www.'+url+'.com'\n",
    "    return result"
   ]
  },
  {
   "cell_type": "markdown",
   "id": "6adf5543",
   "metadata": {},
   "source": [
    "**233**\n",
    "\n",
    "문자열을 입력받아 각 문자들로 구성된 리스트로 반환하는 make_list 함수를 정의하라.\n",
    "\n",
    "make_list(\"abcd\")\n",
    "\n",
    "['a', 'b', 'c', 'd']"
   ]
  },
  {
   "cell_type": "code",
   "execution_count": null,
   "id": "0a64085d",
   "metadata": {},
   "outputs": [],
   "source": [
    "def make_list(string):\n",
    "    return list(string)"
   ]
  },
  {
   "cell_type": "markdown",
   "id": "2c169ac6",
   "metadata": {},
   "source": [
    "**234**\n",
    "\n",
    "숫자로 구성된 하나의 리스트를 입력받아, 짝수들을 추출하여 리스트로 반환하는 pickup_even 함수를 구현하라.\n",
    "\n",
    "pickup_even([3, 4, 5, 6, 7, 8])\n",
    "\n",
    "[4, 6, 8]"
   ]
  },
  {
   "cell_type": "code",
   "execution_count": 2,
   "id": "413eeece",
   "metadata": {},
   "outputs": [
    {
     "name": "stdout",
     "output_type": "stream",
     "text": [
      "[4, 6, 8]\n"
     ]
    }
   ],
   "source": [
    "def pickup_even(numList):\n",
    "    result = []\n",
    "    for i in numList:\n",
    "        if i%2==0:\n",
    "            result.append(i)\n",
    "    return result\n",
    "\n",
    "a = pickup_even([3, 4, 5, 6, 7, 8])\n",
    "print(a)"
   ]
  },
  {
   "cell_type": "markdown",
   "id": "41b2ba16",
   "metadata": {},
   "source": [
    "**235**\n",
    "\n",
    "콤마가 포함된 문자열 숫자를 입력받아 정수로 변환하는 convert_int 함수를 정의하라.\n",
    "\n",
    "convert_int(\"1,234,567\")\n",
    "\n",
    "1234567"
   ]
  },
  {
   "cell_type": "code",
   "execution_count": 1,
   "id": "ed48ba77",
   "metadata": {},
   "outputs": [
    {
     "name": "stdout",
     "output_type": "stream",
     "text": [
      "1234567\n"
     ]
    }
   ],
   "source": [
    "def convert_int(strNum):\n",
    "    return int(strNum.replace(',',''))\n",
    "\n",
    "result = convert_int(\"1,234,567\")\n",
    "\n",
    "print(result)"
   ]
  },
  {
   "cell_type": "markdown",
   "id": "6222b6e1",
   "metadata": {},
   "source": [
    "**236**\n",
    "\n",
    "아래 코드의 실행 결과를 예측하라."
   ]
  },
  {
   "cell_type": "raw",
   "id": "7e5fcb76",
   "metadata": {},
   "source": [
    "def 함수(num) :\n",
    "    return num + 4\n",
    "\n",
    "a = 함수(10)\n",
    "b = 함수(a)\n",
    "c = 함수(b)\n",
    "print(c)"
   ]
  },
  {
   "cell_type": "code",
   "execution_count": null,
   "id": "13017bee",
   "metadata": {},
   "outputs": [],
   "source": [
    "22"
   ]
  },
  {
   "cell_type": "markdown",
   "id": "1bb0f820",
   "metadata": {},
   "source": [
    "**237**\n",
    "\n",
    "아래 코드의 실행 결과를 예측하라."
   ]
  },
  {
   "cell_type": "raw",
   "id": "9c2b9eaf",
   "metadata": {},
   "source": [
    "def 함수(num) :\n",
    "    return num + 4\n",
    "\n",
    "c = 함수(함수(함수(10)))\n",
    "print(c)"
   ]
  },
  {
   "cell_type": "code",
   "execution_count": null,
   "id": "107df160",
   "metadata": {},
   "outputs": [],
   "source": [
    "22"
   ]
  },
  {
   "cell_type": "markdown",
   "id": "d8ee27c2",
   "metadata": {},
   "source": [
    "**238**\n",
    "\n",
    "아래 코드의 실행 결과를 예측하라."
   ]
  },
  {
   "cell_type": "raw",
   "id": "71ce61da",
   "metadata": {},
   "source": [
    "def 함수1(num) :\n",
    "    return num + 4\n",
    "\n",
    "def 함수2(num) :\n",
    "    return num * 10\n",
    "\n",
    "a = 함수1(10)\n",
    "c = 함수2(a)\n",
    "print(c)"
   ]
  },
  {
   "cell_type": "code",
   "execution_count": null,
   "id": "b8ad4645",
   "metadata": {},
   "outputs": [],
   "source": [
    "140"
   ]
  },
  {
   "cell_type": "markdown",
   "id": "28af8cb6",
   "metadata": {},
   "source": [
    "**239**\n",
    "\n",
    "아래 코드의 실행 결과를 예측하라."
   ]
  },
  {
   "cell_type": "raw",
   "id": "73142b90",
   "metadata": {},
   "source": [
    "def 함수1(num) :\n",
    "    return num + 4\n",
    "\n",
    "def 함수2(num) :\n",
    "    num = num + 2\n",
    "    return 함수1(num)\n",
    "\n",
    "c = 함수2(10)\n",
    "print(c)"
   ]
  },
  {
   "cell_type": "code",
   "execution_count": null,
   "id": "d6b856bd",
   "metadata": {},
   "outputs": [],
   "source": [
    "16"
   ]
  },
  {
   "cell_type": "markdown",
   "id": "3fc6323c",
   "metadata": {},
   "source": [
    "**240**\n",
    "\n",
    "아래 코드의 실행 결과를 예측하라."
   ]
  },
  {
   "cell_type": "raw",
   "id": "9d83d3ff",
   "metadata": {},
   "source": [
    "def 함수0(num) :\n",
    "    return num * 2\n",
    "\n",
    "def 함수1(num) :\n",
    "    return 함수0(num + 2)\n",
    "\n",
    "def 함수2(num) :\n",
    "    num = num + 10\n",
    "    return 함수1(num)\n",
    "\n",
    "c = 함수2(2)\n",
    "print(c)"
   ]
  },
  {
   "cell_type": "code",
   "execution_count": null,
   "id": "8245f4d0",
   "metadata": {},
   "outputs": [],
   "source": [
    "28"
   ]
  }
 ],
 "metadata": {
  "kernelspec": {
   "display_name": "Python 3 (ipykernel)",
   "language": "python",
   "name": "python3"
  },
  "language_info": {
   "codemirror_mode": {
    "name": "ipython",
    "version": 3
   },
   "file_extension": ".py",
   "mimetype": "text/x-python",
   "name": "python",
   "nbconvert_exporter": "python",
   "pygments_lexer": "ipython3",
   "version": "3.9.7"
  }
 },
 "nbformat": 4,
 "nbformat_minor": 5
}
