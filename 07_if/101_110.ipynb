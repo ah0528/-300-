{
 "cells": [
  {
   "cell_type": "markdown",
   "id": "c043d23d",
   "metadata": {},
   "source": [
    "**101**\n",
    "\n",
    "파이썬에서 True 혹은 False를 갖는 데이터 타입은 무엇인가?"
   ]
  },
  {
   "cell_type": "raw",
   "id": "1491e31a",
   "metadata": {},
   "source": [
    "bool타입"
   ]
  },
  {
   "cell_type": "markdown",
   "id": "1faa2300",
   "metadata": {},
   "source": [
    "**102**\n",
    "\n",
    "아래 코드의 출력 결과를 예상하라\n",
    "\n",
    "print(3 == 5)"
   ]
  },
  {
   "cell_type": "raw",
   "id": "ec5a1f5a",
   "metadata": {},
   "source": [
    "False"
   ]
  },
  {
   "cell_type": "markdown",
   "id": "42a07fcd",
   "metadata": {},
   "source": [
    "**103**\n",
    "\n",
    "아래 코드의 출력 결과를 예상하라\n",
    "\n",
    "print(3 < 5)"
   ]
  },
  {
   "cell_type": "raw",
   "id": "4b27af57",
   "metadata": {},
   "source": [
    "True"
   ]
  },
  {
   "cell_type": "markdown",
   "id": "1e2b8ce8",
   "metadata": {},
   "source": [
    "**104**\n",
    "\n",
    "아래 코드의 결과를 예상하라.\n",
    "\n",
    "x = 4\n",
    "\n",
    "print(1 < x < 5)"
   ]
  },
  {
   "cell_type": "raw",
   "id": "2e6f501f",
   "metadata": {},
   "source": [
    "True"
   ]
  },
  {
   "cell_type": "markdown",
   "id": "00665cc2",
   "metadata": {},
   "source": [
    "**105**\n",
    "\n",
    "아래 코드의 결과를 예상하라.\n",
    "\n",
    "print ((3 == 3) and (4 != 3))"
   ]
  },
  {
   "cell_type": "raw",
   "id": "316db992",
   "metadata": {},
   "source": [
    "True"
   ]
  },
  {
   "cell_type": "markdown",
   "id": "9761f8eb",
   "metadata": {},
   "source": [
    "**106**\n",
    "\n",
    "아래 코드에서 에러가 발생하는 원인에 대해 설명하라.\n",
    "\n",
    "print(3 => 4)"
   ]
  },
  {
   "cell_type": "raw",
   "id": "e2fc9985",
   "metadata": {},
   "source": [
    "연산자를 사용하는 순서가 잘못되었다.\n",
    "print(3>=4) 이렇게 사용하면 에러가 발생하지 않는다.\n",
    "결과는 False가 나온다."
   ]
  },
  {
   "cell_type": "markdown",
   "id": "d0f22b5a",
   "metadata": {},
   "source": [
    "**107**\n",
    "\n",
    "아래 코드의 출력 결과를 예상하라\n",
    "\n",
    "if 4 < 3:\n",
    "\n",
    "    print(\"Hello World\")"
   ]
  },
  {
   "cell_type": "markdown",
   "id": "068ff6d0",
   "metadata": {},
   "source": [
    "아무 결과도 출력되지 않는다. "
   ]
  },
  {
   "cell_type": "markdown",
   "id": "75b30e0d",
   "metadata": {},
   "source": [
    "**108**\n",
    "\n",
    "아래 코드의 출력 결과를 예상하라\n",
    "\n",
    "if 4 < 3:\n",
    "\n",
    "    print(\"Hello World.\")\n",
    "    \n",
    "else:\n",
    "\n",
    "    print(\"Hi, there.\")"
   ]
  },
  {
   "cell_type": "raw",
   "id": "8b2f0c79",
   "metadata": {},
   "source": [
    " Hi, there."
   ]
  },
  {
   "cell_type": "markdown",
   "id": "8b4adfcc",
   "metadata": {},
   "source": [
    "**109**\n",
    "\n",
    "아래 코드의 출력 결과를 예상하라"
   ]
  },
  {
   "cell_type": "raw",
   "id": "2640c241",
   "metadata": {},
   "source": [
    "if True :\n",
    "    print (\"1\")\n",
    "    print (\"2\")\n",
    "else :\n",
    "    print(\"3\")\n",
    "print(\"4\")"
   ]
  },
  {
   "cell_type": "raw",
   "id": "03fdd143",
   "metadata": {},
   "source": [
    "1\n",
    "2\n",
    "4"
   ]
  },
  {
   "cell_type": "markdown",
   "id": "1688c8b7",
   "metadata": {},
   "source": [
    "110\n",
    "아래 코드의 출력 결과를 예상하라"
   ]
  },
  {
   "cell_type": "raw",
   "id": "9a79f223",
   "metadata": {},
   "source": [
    "if True :\n",
    "    if False:\n",
    "        print(\"1\")\n",
    "        print(\"2\")\n",
    "    else:\n",
    "        print(\"3\")\n",
    "else :\n",
    "    print(\"4\")\n",
    "print(\"5\")"
   ]
  },
  {
   "cell_type": "raw",
   "id": "40f9d8e4",
   "metadata": {},
   "source": [
    "3\n",
    "5"
   ]
  }
 ],
 "metadata": {
  "kernelspec": {
   "display_name": "Python 3 (ipykernel)",
   "language": "python",
   "name": "python3"
  },
  "language_info": {
   "codemirror_mode": {
    "name": "ipython",
    "version": 3
   },
   "file_extension": ".py",
   "mimetype": "text/x-python",
   "name": "python",
   "nbconvert_exporter": "python",
   "pygments_lexer": "ipython3",
   "version": "3.9.7"
  }
 },
 "nbformat": 4,
 "nbformat_minor": 5
}
