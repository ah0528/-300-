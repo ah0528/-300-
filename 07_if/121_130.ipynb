{
 "cells": [
  {
   "cell_type": "markdown",
   "id": "340e700b",
   "metadata": {},
   "source": [
    "**121**\n",
    "\n",
    "사용자로부터 문자 한 개를 입력 받고, 소문자일 경우 대문자로, 대문자 일 경우, 소문자로 변경해서 출력하라."
   ]
  },
  {
   "cell_type": "raw",
   "id": "66290b55",
   "metadata": {},
   "source": [
    ">> a\n",
    "A\n",
    "힌트-1 : islower() 함수는 문자의 소문자 여부를 판별합니다. 만약 소문자일 경우 True, 대문자일 경우 False를 반환합니다. 힌트-2 : upper() 함수는 대문자로, lower() 함수는 소문자로 변경합니다."
   ]
  },
  {
   "cell_type": "code",
   "execution_count": 1,
   "id": "4b937da9",
   "metadata": {
    "scrolled": true
   },
   "outputs": [
    {
     "name": "stdout",
     "output_type": "stream",
     "text": [
      "\n"
     ]
    }
   ],
   "source": [
    "import sys\n",
    "n = sys.stdin.readline()\n",
    "\n",
    "if n.lower():\n",
    "    print(n.upper())\n",
    "else:\n",
    "    print(n.lower())"
   ]
  },
  {
   "cell_type": "markdown",
   "id": "051890a1",
   "metadata": {},
   "source": [
    "**122**\n",
    "\n",
    "점수 구간에 해당하는 학점이 아래와 같이 정의되어 있다. 사용자로부터 score를 입력받아 학점을 출력하라.\n",
    "\n",
    "|점수|학점|\n",
    "|----|----|\n",
    "|81~100|A|\n",
    "|61~80|B|\n",
    "|41~60|C|\n",
    "|21~40|D|\n",
    "|0~20|E|"
   ]
  },
  {
   "cell_type": "raw",
   "id": "0a40e2e8",
   "metadata": {},
   "source": [
    ">> score: 83\n",
    "grade is A"
   ]
  },
  {
   "cell_type": "code",
   "execution_count": null,
   "id": "0c23434a",
   "metadata": {},
   "outputs": [],
   "source": [
    "score = int(input('score: '))\n",
    "\n",
    "if score >= 81:\n",
    "    print('grade is A')\n",
    "elif score >= 61:\n",
    "    print('grade is B')\n",
    "elif score >= 41:\n",
    "    print('grade is C')\n",
    "elif score >= 21:\n",
    "    print('grade is D')\n",
    "else:\n",
    "    print('grade is E')"
   ]
  },
  {
   "cell_type": "markdown",
   "id": "dfc9fccb",
   "metadata": {},
   "source": [
    "**123**\n",
    "\n",
    "사용자로부터 달러, 엔, 유로, 또는 위안 금액을 입력받은 후 이를 원으로 변환하는 프로그램을 작성하라. 각 통화별 환율은 다음과 같다. 사용자는 100 달러, 1000 엔, 13 유로, 100 위안과 같이 금액과 통화명 사이에 공백을 넣어 입력한다고 가정한다.\n",
    "\n",
    "|통화명\t|환율|\n",
    "|------|-----|\n",
    "|달러\t|1167|\n",
    "|엔\t|1.096|\n",
    "|유로\t|1268|\n",
    "|위안\t|171|"
   ]
  },
  {
   "cell_type": "raw",
   "id": "40a9849c",
   "metadata": {},
   "source": [
    ">> 입력: 100 달러\n",
    "116700.00 원"
   ]
  },
  {
   "cell_type": "code",
   "execution_count": null,
   "id": "3e2bc001",
   "metadata": {},
   "outputs": [],
   "source": [
    "money = input('score: ')\n",
    "krw = {'달러':1167,'엔':1.096,'유로':1268,'위안':171}\n",
    "\n",
    "num, cash = money.split()\n",
    "print(float(num)*krw[cash],'원')"
   ]
  },
  {
   "cell_type": "markdown",
   "id": "9af8aef1",
   "metadata": {},
   "source": [
    "**124**\n",
    "\n",
    "사용자로부터 세 개의 숫자를 입력 받은 후 가장 큰 숫자를 출력하라."
   ]
  },
  {
   "cell_type": "raw",
   "id": "cbe4e57f",
   "metadata": {},
   "source": [
    ">> input number1: 10\n",
    ">> input number2: 9\n",
    ">> input number3: 20\n",
    "20"
   ]
  },
  {
   "cell_type": "code",
   "execution_count": null,
   "id": "98b103f1",
   "metadata": {},
   "outputs": [],
   "source": [
    "a = input('input number1: ')\n",
    "b = input('input number2: ')\n",
    "c = input('input number3: ')\n",
    "\n",
    "maxNum = 0\n",
    "\n",
    "if a<=b:\n",
    "    maxNum = b\n",
    "else:\n",
    "    maxNum = a\n",
    "\n",
    "if maxNum<=c:\n",
    "    maxNum = c\n",
    "    print(c)\n",
    "else:\n",
    "    print(maxNum)"
   ]
  },
  {
   "cell_type": "markdown",
   "id": "bc7776de",
   "metadata": {},
   "source": [
    "**125**\n",
    "\n",
    "휴대폰 번호 앞자리에 따라 통신사는 아래와 같이 구분된다. 사용자로부터 휴대전화 번호를 입력 받고, 통신사를 출력하는 프로그램을 작성하라.\n",
    "\n",
    "|번호|\t통신사|\n",
    "|----|----|\n",
    "|011|\tSKT|\n",
    "|016|\tKT|\n",
    "|019|\tLGU|\n",
    "|010|\t알수없음|"
   ]
  },
  {
   "cell_type": "raw",
   "id": "ce3e1d2a",
   "metadata": {},
   "source": [
    ">> 휴대전화 번호 입력: 011-345-1922\n",
    "당신은 SKT 사용자입니다."
   ]
  },
  {
   "cell_type": "code",
   "execution_count": null,
   "id": "26759777",
   "metadata": {},
   "outputs": [],
   "source": [
    "num = input('input number1: ')\n",
    "phone = num.split('-')\n",
    "\n",
    "if phone[0] == '011':\n",
    "    telecom = 'SKT'\n",
    "elif phone[0] == '016':\n",
    "    telecom = 'KT'\n",
    "elif phone[0] == '019':\n",
    "    telecom = 'LGU'\n",
    "elif phone[0] == '010':\n",
    "    telecom = '알수없음'\n",
    "\n",
    "print(f'당신은 {telecom} 사용자입니다.')"
   ]
  },
  {
   "cell_type": "markdown",
   "id": "c3fadcb6",
   "metadata": {},
   "source": [
    "**126**\n",
    "\n",
    "우편번호는 5자리로 구성되는데, 앞의 세자리는 구를 나타낸다. 예를들어, 강북구의 경우 010, 011, 012 세 자리로 시작한다.\n",
    "\n",
    "사용자로 부터 5자리 우편번호를 입력받고 구를 판별하라"
   ]
  },
  {
   "cell_type": "raw",
   "id": "5fd3ca95",
   "metadata": {},
   "source": [
    ">> 우편번호: 01400\n",
    "도봉구"
   ]
  },
  {
   "cell_type": "code",
   "execution_count": null,
   "id": "50706556",
   "metadata": {},
   "outputs": [],
   "source": [
    "방법1.\n",
    "num = input('우편번호: ')\n",
    "\n",
    "if num[:3] == '010' or num[:3] == '011' or num[:3] == '012':\n",
    "    print('강북구')\n",
    "elif num[:3] == '013' or num[:3] == '014' or num[:3] == '015':\n",
    "    print('도봉구')\n",
    "elif num[:3] == '016' or num[:3] == '017' or num[:3] == '018' or num[:3] == '019':\n",
    "    print('노원구')"
   ]
  },
  {
   "cell_type": "code",
   "execution_count": null,
   "id": "c3a5d3a9",
   "metadata": {},
   "outputs": [],
   "source": [
    "방법2.\n",
    "num = input('우편번호: ')\n",
    "\n",
    "if num[:3] in [\"010\", \"011\", \"012\"]:\n",
    "    print(\"강북구\")\n",
    "elif num[:3] in [\"014\", \"015\", \"016\"]:\n",
    "    print(\"도봉구\")\n",
    "else:\n",
    "    print(\"노원구\")"
   ]
  },
  {
   "cell_type": "markdown",
   "id": "f88d7929",
   "metadata": {},
   "source": [
    "**127**\n",
    "\n",
    "주민등록번호 뒷 자리 7자리 중 첫째 자리는 성별을 나타내는데, 1, 3은 남자 2, 4는 여자를 의미한다. 사용자로부터 13자리의 주민등록번호를 입력 받은 후 성별 (남자, 여자)를 출력하는 프로그램을 작성하라."
   ]
  },
  {
   "cell_type": "raw",
   "id": "28f78585",
   "metadata": {},
   "source": [
    ">> 주민등록번호: 821010-1635210\n",
    "남자"
   ]
  },
  {
   "cell_type": "code",
   "execution_count": null,
   "id": "7beea7f2",
   "metadata": {},
   "outputs": [],
   "source": [
    "num = input('주민등록번호: ')\n",
    "\n",
    "if num[7] in ['1','3']:\n",
    "    print('남자')\n",
    "else:\n",
    "    print('여자')"
   ]
  },
  {
   "cell_type": "markdown",
   "id": "05ff20fd",
   "metadata": {},
   "source": [
    "**128**\n",
    "\n",
    "주민등록번호의 뒷 자리 7자리 중 두번째와 세번째는 지역코드를 의미한다. 주민 등록 번호를 입력 받은 후 출생지가 서울인지 아닌지 판단하는 코드를 작성하라\n",
    "\n",
    "지역코드\t출생지\n",
    "\n",
    "00 ~ 08\t     서울\n",
    "\n",
    "09 ~ 12\t     부산"
   ]
  },
  {
   "cell_type": "raw",
   "id": "facbf612",
   "metadata": {},
   "source": [
    ">> 주민등록번호: 821010-1635210\n",
    "서울이 아닙니다.\n",
    ">> 주민등록번호: 861010-1015210\n",
    "서울 입니다."
   ]
  },
  {
   "cell_type": "code",
   "execution_count": null,
   "id": "4e32d5eb",
   "metadata": {},
   "outputs": [],
   "source": [
    "num = input('주민등록번호: ')\n",
    "\n",
    "if num[8:10] in ['00','01','02','03','04','05','06','07','08']:\n",
    "    print('서울 입니다.')\n",
    "elif num[8:10] in ['09','10','11','12']:\n",
    "    print('부산 입니다.')\n",
    "else:\n",
    "    print('서울이 아닙니다.')"
   ]
  },
  {
   "cell_type": "markdown",
   "id": "6d268132",
   "metadata": {},
   "source": [
    "**129**\n",
    "\n",
    "주민등록번호는 13자리로 구성되는데 마지막 자리수는 주민등록번호의 유효성을 체크하는데 사용된다. 먼저 앞에서부터 12자리의 숫자에 2, 3, 4, 5, 6, 7, 8, 9, 2, 3, 4, 5를 차례로 곱한 뒤 그 값을 전부 더한다. 연산 결과 값을 11로 나누면 나머지가 나오는데 11에서 나머지를 뺀 값이 주민등록번호의 마지막 번호가 된다."
   ]
  },
  {
   "cell_type": "raw",
   "id": "f2935d51",
   "metadata": {},
   "source": [
    "  8 2 1 0 1 0 - 1 6 3 5 2 1 0\n",
    "x 2 3 4 5 6 7   8 9 2 3 4 5 \n",
    "-----------------------------\n",
    "1차 계산: (8*2 + 2*3 + 1*4 + 0*5 + 1*6 + 0*7 + 1*8 + 6*9 + 3*2 + 5*3 + 2*4 + 1*5) = (128 % 11) = 7\n",
    "2차 계산: 11 -7 = 4"
   ]
  },
  {
   "cell_type": "markdown",
   "id": "c85be855",
   "metadata": {},
   "source": [
    "위와 같이 821010-1635210에 대해서 계산을 해보면 마지막 자리는 4가 되어야 함을 알 수 있다. 즉, 821010-1635210은 유효하지 않은 주민등록번호임을 알 수 있다.\n",
    "\n",
    "다음과 같이 사용자로부터 주민등록번호를 입력받은 후 주민등록번호가 유효한지를 출력하는 프로그램을 작성하라."
   ]
  },
  {
   "cell_type": "raw",
   "id": "5487f913",
   "metadata": {},
   "source": [
    ">> 주민등록번호: 821010-1635210\n",
    "유효하지 않은 주민등록번호입니다. "
   ]
  },
  {
   "cell_type": "code",
   "execution_count": null,
   "id": "f21e93b9",
   "metadata": {},
   "outputs": [],
   "source": [
    "num = input(\"주민등록번호: \")\n",
    "계산1 = int(num[0]) * 2 + int(num[1]) * 3 + int(num[2]) * 4 + int(num[3]) * 5 + int(num[4]) * 6 + \\\n",
    "        int(num[5]) * 7 + int(num[7]) * 8 + int(num[8]) * 9 + int(num[9]) * 2 + int(num[10])* 3 + \\\n",
    "        int(num[11])* 4 + int(num[12]) * 5\n",
    "계산2 = 11 - (계산1 % 11)\n",
    "계산3 = str(계산2)\n",
    "\n",
    "if num[-1] == 계산3[-1]:\n",
    "    print(\"유효한 주민등록번호입니다.\")\n",
    "else:\n",
    "    print(\"유효하지 않은 주민등록번호입니다.\")"
   ]
  },
  {
   "cell_type": "markdown",
   "id": "a6798dd0",
   "metadata": {},
   "source": [
    "**130**\n",
    "\n",
    "아래 코드는 비트코인의 가격 정보를 딕셔너리로 가져오는 코드이다."
   ]
  },
  {
   "cell_type": "raw",
   "id": "362b594b",
   "metadata": {},
   "source": [
    "import requests\n",
    "btc= requests.get(\"https://api.bithumb.com/public/ticker/\").json()['data']"
   ]
  },
  {
   "cell_type": "markdown",
   "id": "1443ebc0",
   "metadata": {},
   "source": [
    "btc 딕셔너리 안에는 시가, 종가, 최고가, 최저가 등이 저장되어 있다. 최고가와 최저가의 차이를 변동폭으로 정의할 때 (시가 + 변동폭)이 최고가 보다 높을 경우 \"상승장\", 그렇지 않은 경우 \"하락장\" 문자열을 출력하라.\n",
    "\n",
    "|Key Name|\tDescription|\n",
    "|--------|-------------|\n",
    "|opening_price|\t최근 24시간 내 시작 거래금액|\n",
    "|closing_price|\t최근 24시간 내 마지막 거래금액|\n",
    "|min_price|\t최근 24시간 내 최저 거래금액|\n",
    "|max_price|\t최근 24시간 내 최고 거래금액|"
   ]
  },
  {
   "cell_type": "code",
   "execution_count": null,
   "id": "1ae663b6",
   "metadata": {},
   "outputs": [],
   "source": [
    "import requests\n",
    "btc = requests.get(\"https://api.bithumb.com/public/ticker/\").json()['data']\n",
    "\n",
    "변동폭 = float(btc['max_price']) - float(btc['min_price'])\n",
    "시가 = float(btc['opening_price'])\n",
    "최고가 = float(btc['max_price'])\n",
    "\n",
    "if (시가+변동폭) > 최고가:\n",
    "    print(\"상승장\")\n",
    "else:\n",
    "    print(\"하락장\")"
   ]
  }
 ],
 "metadata": {
  "kernelspec": {
   "display_name": "Python 3 (ipykernel)",
   "language": "python",
   "name": "python3"
  },
  "language_info": {
   "codemirror_mode": {
    "name": "ipython",
    "version": 3
   },
   "file_extension": ".py",
   "mimetype": "text/x-python",
   "name": "python",
   "nbconvert_exporter": "python",
   "pygments_lexer": "ipython3",
   "version": "3.9.7"
  }
 },
 "nbformat": 4,
 "nbformat_minor": 5
}
