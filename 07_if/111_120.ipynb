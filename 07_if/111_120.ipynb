{
 "cells": [
  {
   "cell_type": "markdown",
   "id": "53fe661c",
   "metadata": {},
   "source": [
    "**111**\n",
    "\n",
    "사용자로부터 입력받은 문자열을 두 번 출력하라. 아래는 사용자가 \"안녕하세요\"를 입력한 경우의 출력 결과이다."
   ]
  },
  {
   "cell_type": "raw",
   "id": "28ba715e",
   "metadata": {},
   "source": [
    ">> 안녕하세요\n",
    "안녕하세요안녕하세요"
   ]
  },
  {
   "cell_type": "code",
   "execution_count": null,
   "id": "d97fef05",
   "metadata": {},
   "outputs": [],
   "source": [
    "str1 = input()\n",
    "\n",
    "print(str1*2,end='')"
   ]
  },
  {
   "cell_type": "markdown",
   "id": "d7f4fc77",
   "metadata": {},
   "source": [
    "**112**\n",
    "\n",
    "사용자로부터 하나의 숫자를 입력받고, 입력 받은 숫자에 10을 더해 출력하라."
   ]
  },
  {
   "cell_type": "raw",
   "id": "b7fc6b09",
   "metadata": {},
   "source": [
    ">> 숫자를 입력하세요: 30\n",
    "40"
   ]
  },
  {
   "cell_type": "code",
   "execution_count": null,
   "id": "0c333c8d",
   "metadata": {},
   "outputs": [],
   "source": [
    "n = int(input('숫자를 입력하세요: '))\n",
    "              \n",
    "print(n+10)"
   ]
  },
  {
   "cell_type": "markdown",
   "id": "b82116a3",
   "metadata": {},
   "source": [
    "**113**\n",
    "\n",
    "사용자로부터 하나의 숫자를 입력 받고 짝수/홀수를 판별하라."
   ]
  },
  {
   "cell_type": "raw",
   "id": "9ace7bd5",
   "metadata": {},
   "source": [
    ">> 30\n",
    "짝수"
   ]
  },
  {
   "cell_type": "code",
   "execution_count": null,
   "id": "06a978e3",
   "metadata": {},
   "outputs": [],
   "source": [
    "n = int(input())\n",
    "if n %2 == 0:\n",
    "    print('짝수')\n",
    "else:\n",
    "    print('홀수')"
   ]
  },
  {
   "cell_type": "markdown",
   "id": "8c6ee487",
   "metadata": {},
   "source": [
    "**114**\n",
    "\n",
    "사용자로부터 값을 입력받은 후 해당 값에 20을 더한 값을 출력하라. 단 사용자가 입력한 값과 20을 더한 계산 값이 255를 초과하는 경우 255를 출력해야 한다."
   ]
  },
  {
   "cell_type": "raw",
   "id": "b81d04aa",
   "metadata": {},
   "source": [
    ">> 입력값: 200\n",
    "출력값: 220\n",
    ">> 입력값: 240\n",
    "출력값: 255"
   ]
  },
  {
   "cell_type": "code",
   "execution_count": null,
   "id": "3ad2ac49",
   "metadata": {},
   "outputs": [],
   "source": [
    "n = int(input())\n",
    "result = n+20\n",
    "\n",
    "if result > 255:\n",
    "    print(255)\n",
    "else:\n",
    "    print(result)"
   ]
  },
  {
   "cell_type": "markdown",
   "id": "a302f043",
   "metadata": {},
   "source": [
    "**115**\n",
    "\n",
    "사용자로부터 하나의 값을 입력받은 후 해당 값에 20을 뺀 값을 출력하라. 단 출력 값의 범위는 0~255이다. 예를 들어 결괏값이 0보다 작은 값이되는 경우 0을 출력하고 255보다 큰 값이 되는 경우 255를 출력해야 한다."
   ]
  },
  {
   "cell_type": "raw",
   "id": "e179651b",
   "metadata": {},
   "source": [
    ">> 입력값: 200\n",
    "출력값: 180\n",
    ">> 입력값: 15\n",
    "출력값: 0"
   ]
  },
  {
   "cell_type": "code",
   "execution_count": null,
   "id": "853a05a4",
   "metadata": {},
   "outputs": [],
   "source": [
    "n = int(input())\n",
    "result = n-20\n",
    "\n",
    "if result < 0:\n",
    "    print(0)\n",
    "elif result > 255:\n",
    "    print(255)\n",
    "else:\n",
    "    print(result)"
   ]
  },
  {
   "cell_type": "markdown",
   "id": "8ad92109",
   "metadata": {},
   "source": [
    "**116**\n",
    "\n",
    "사용자로부터 입력 받은 시간이 정각인지 판별하라."
   ]
  },
  {
   "cell_type": "raw",
   "id": "ee1b6ee5",
   "metadata": {},
   "source": [
    ">> 현재시간:02:00\n",
    "정각 입니다.\n",
    ">> 현재시간:03:10\n",
    "정각이 아닙니다"
   ]
  },
  {
   "cell_type": "code",
   "execution_count": null,
   "id": "fd5d1d3d",
   "metadata": {},
   "outputs": [],
   "source": [
    "time = input('현재시간:')\n",
    "\n",
    "if time[-2]=='00':\n",
    "    print('정각 입니다.')\n",
    "else:\n",
    "    print('정각이 아닙니다.')"
   ]
  },
  {
   "cell_type": "markdown",
   "id": "19790f42",
   "metadata": {},
   "source": [
    "**117**\n",
    "\n",
    "사용자로 입력받은 단어가 아래 fruit 리스트에 포함되어 있는지를 확인하라. 포함되었다면 \"정답입니다\"를 아닐 경우 \"오답입니다\" 출력하라."
   ]
  },
  {
   "cell_type": "raw",
   "id": "6ac28fa5",
   "metadata": {},
   "source": [
    "fruit = [\"사과\", \"포도\", \"홍시\"]\n",
    ">> 좋아하는 과일은? 사과\n",
    "정답입니다."
   ]
  },
  {
   "cell_type": "code",
   "execution_count": null,
   "id": "505422a4",
   "metadata": {},
   "outputs": [],
   "source": [
    "a = input('좋아하는 과일은? ')\n",
    "\n",
    "fruit = [\"사과\", \"포도\", \"홍시\"]\n",
    "\n",
    "if a in fruit:\n",
    "    print('정답입니다.')\n",
    "else:\n",
    "    print('오답입니다.')"
   ]
  },
  {
   "cell_type": "markdown",
   "id": "9d613d9f",
   "metadata": {},
   "source": [
    "**118**\n",
    "\n",
    "투자 경고 종목 리스트가 있을 때 사용자로부터 종목명을 입력 받은 후 해당 종목이 투자 경고 종목이라면 '투자 경고 종목입니다'를 아니면 \"투자 경고 종목이 아닙니다.\"를 출력하는 프로그램을 작성하라.\n",
    "\n",
    "warn_investment_list = [\"Microsoft\", \"Google\", \"Naver\", \"Kakao\", \"SAMSUNG\", \"LG\"]"
   ]
  },
  {
   "cell_type": "code",
   "execution_count": null,
   "id": "b98b213b",
   "metadata": {},
   "outputs": [],
   "source": [
    "a = input('종목명을 입력해주세요. ')\n",
    "\n",
    "warn_investment_list = [\"Microsoft\", \"Google\", \"Naver\", \"Kakao\", \"SAMSUNG\", \"LG\"]\n",
    "\n",
    "if a in warn_investment_list:\n",
    "    print('투자 경고 종목입니다.')\n",
    "else:\n",
    "    print('투자 경고 종목이 아닙니다.')"
   ]
  },
  {
   "cell_type": "markdown",
   "id": "1cda14d0",
   "metadata": {},
   "source": [
    "**119**\n",
    "\n",
    "아래와 같이 fruit 딕셔너리가 정의되어 있다. 사용자가 입력한 값이 딕셔너리 키 (key) 값에 포함되었다면 \"정답입니다\"를 아닐 경우 \"오답입니다\" 출력하라."
   ]
  },
  {
   "cell_type": "raw",
   "id": "13eacdb0",
   "metadata": {},
   "source": [
    "fruit = {\"봄\" : \"딸기\", \"여름\" : \"토마토\", \"가을\" : \"사과\"}\n",
    ">> 제가좋아하는계절은: 봄\n",
    "정답입니다."
   ]
  },
  {
   "cell_type": "code",
   "execution_count": null,
   "id": "c9318b73",
   "metadata": {},
   "outputs": [],
   "source": [
    "a = input('제가좋아하는계절은: ')\n",
    "fruit = {\"봄\" : \"딸기\", \"여름\" : \"토마토\", \"가을\" : \"사과\"}\n",
    "\n",
    "if a in fruit.keys():\n",
    "    print('정답입니다.')\n",
    "else:\n",
    "    print('오답입니다.')"
   ]
  },
  {
   "cell_type": "markdown",
   "id": "1c0f7bd8",
   "metadata": {},
   "source": [
    "**120**\n",
    "\n",
    "아래와 같이 fruit 딕셔너리가 정의되어 있다. 사용자가 입력한 값이 딕셔너리 값 (value)에 포함되었다면 \"정답입니다\"를 아닐 경우 \"오답입니다\" 출력하라."
   ]
  },
  {
   "cell_type": "raw",
   "id": "9b223a9c",
   "metadata": {},
   "source": [
    "fruit = {\"봄\" : \"딸기\", \"여름\" : \"토마토\", \"가을\" : \"사과\"}\n",
    ">> 좋아하는과일은? 한라봉\n",
    "오답입니다."
   ]
  },
  {
   "cell_type": "code",
   "execution_count": null,
   "id": "8166b309",
   "metadata": {},
   "outputs": [],
   "source": [
    "a = input('좋아하는과일은? ')\n",
    "fruit = {\"봄\" : \"딸기\", \"여름\" : \"토마토\", \"가을\" : \"사과\"}\n",
    "\n",
    "if a in fruit.values():\n",
    "    print('정답입니다.')\n",
    "else:\n",
    "    print('오답입니다.')"
   ]
  }
 ],
 "metadata": {
  "kernelspec": {
   "display_name": "Python 3 (ipykernel)",
   "language": "python",
   "name": "python3"
  },
  "language_info": {
   "codemirror_mode": {
    "name": "ipython",
    "version": 3
   },
   "file_extension": ".py",
   "mimetype": "text/x-python",
   "name": "python",
   "nbconvert_exporter": "python",
   "pygments_lexer": "ipython3",
   "version": "3.9.7"
  }
 },
 "nbformat": 4,
 "nbformat_minor": 5
}
