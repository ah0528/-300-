{
 "cells": [
  {
   "cell_type": "markdown",
   "id": "fbe55073",
   "metadata": {},
   "source": [
    "**291 파일 쓰기**\n",
    "\n",
    "바탕화면에 '매수종목1.txt' 파일을 생성한 후 다음과 같이 종목코드를 파일에 써보세요."
   ]
  },
  {
   "cell_type": "raw",
   "id": "a9efbba3",
   "metadata": {},
   "source": [
    "005930\n",
    "005380\n",
    "035420"
   ]
  },
  {
   "cell_type": "code",
   "execution_count": null,
   "id": "16cd34c8",
   "metadata": {},
   "outputs": [],
   "source": [
    "with open('C:/Desktop/매수종목.txt','w') as f:\n",
    "    f.write('005930\\n005380\\n035420)'"
   ]
  },
  {
   "cell_type": "markdown",
   "id": "1e4d0f68",
   "metadata": {},
   "source": [
    "**292 파일 쓰기**\n",
    "\n",
    "바탕화면에 '매수종목2.txt' 파일을 생성한 후 다음과 같이 종목코드와 종목명을 파일에 써보세요."
   ]
  },
  {
   "cell_type": "raw",
   "id": "8ce7b12d",
   "metadata": {},
   "source": [
    "005930 삼성전자\n",
    "005380 현대차\n",
    "035420 NAVER"
   ]
  },
  {
   "cell_type": "code",
   "execution_count": null,
   "id": "09657081",
   "metadata": {},
   "outputs": [],
   "source": [
    "with open('C:/Desktop/매수종목.txt','w') as f:\n",
    "    f.write(\"005930 삼성전자\\n\")\n",
    "    f.write(\"005380 현대차\\n\")\n",
    "    f.write(\"035420 NAVER\\n\")"
   ]
  },
  {
   "cell_type": "markdown",
   "id": "b9cc50f6",
   "metadata": {},
   "source": [
    "**293 CSV 파일 쓰기**\n",
    "\n",
    "바탕화면에 '매수종목.csv' 파일을 생성한 후 다음과 같이 종목코드와 종목명을 파일에 써보세요. 인코딩은 'cp949'를 사용해야합니다."
   ]
  },
  {
   "cell_type": "code",
   "execution_count": null,
   "id": "26d76b93",
   "metadata": {},
   "outputs": [],
   "source": [
    "import csv\n",
    "\n",
    "f = open(\"C:/Users/hyunh/Desktop/매수종목.csv\", mode=\"wt\", encoding=\"cp949\", newline='')\n",
    "writer = csv.writer(f)\n",
    "writer.writerow([\"종목명\", \"종목코드\", \"PER\"])\n",
    "writer.writerow([\"삼성전자\", \"005930\", 15.59])\n",
    "writer.writerow([\"NAVER\", \"035420\", 55.82])\n",
    "f.close()"
   ]
  },
  {
   "cell_type": "markdown",
   "id": "dc75d430",
   "metadata": {},
   "source": [
    "**294 파일 읽기**\n",
    "\n",
    "바탕화면에 생성한 '매수종목1.txt' 파일을 읽은 후 종목코드를 리스트에 저장해보세요."
   ]
  },
  {
   "cell_type": "raw",
   "id": "49c51836",
   "metadata": {},
   "source": [
    "005930\n",
    "005380\n",
    "035420"
   ]
  },
  {
   "cell_type": "code",
   "execution_count": null,
   "id": "ee52382a",
   "metadata": {},
   "outputs": [],
   "source": [
    "with open('C:/Desktop/매수종목1.txt','r') as f:\n",
    "    code = []\n",
    "    lines = f.readlines()\n",
    "    \n",
    "    for i in lines:\n",
    "        code.append(i.strip())\n",
    "\n",
    "print(code)"
   ]
  },
  {
   "cell_type": "markdown",
   "id": "2f83eb4d",
   "metadata": {},
   "source": [
    "**295 파일 읽기**\n",
    "\n",
    "바탕화면에 생성한 '매수종목2.txt' 파일을 읽은 후 종목코드와 종목명을 딕셔너리로 저장해보세요. 종목명을 key로 종목명을 value로 저장합니다."
   ]
  },
  {
   "cell_type": "raw",
   "id": "66d0f328",
   "metadata": {},
   "source": [
    "005930 삼성전자\n",
    "005380 현대차\n",
    "035420 NAVER"
   ]
  },
  {
   "cell_type": "code",
   "execution_count": null,
   "id": "57921c88",
   "metadata": {},
   "outputs": [],
   "source": [
    "with open('C:/Desktop/매수종목2.txt','r') as f:\n",
    "    stock = {}\n",
    "    line = f.readlines()\n",
    "    \n",
    "    for i in line:\n",
    "        i = i.strip()\n",
    "        k, v = i.split()\n",
    "        line[k] = v"
   ]
  },
  {
   "cell_type": "markdown",
   "id": "9ed614eb",
   "metadata": {},
   "source": [
    "**296 예외처리**\n",
    "\n",
    "문자열 PER (Price to Earning Ratio) 값을 실수로 변환할 때 에러가 발생합니다. 예외처리를 통해 에러가 발생하는 PER은 0으로 출력하세요."
   ]
  },
  {
   "cell_type": "raw",
   "id": "94e41f2a",
   "metadata": {},
   "source": [
    "per = [\"10.31\", \"\", \"8.00\"]\n",
    "\n",
    "for i in per:\n",
    "    print(float(i))"
   ]
  },
  {
   "cell_type": "code",
   "execution_count": 2,
   "id": "82af9324",
   "metadata": {},
   "outputs": [
    {
     "name": "stdout",
     "output_type": "stream",
     "text": [
      "10.31\n",
      "0\n",
      "8.0\n"
     ]
    }
   ],
   "source": [
    "per = [\"10.31\", \"\", \"8.00\"]\n",
    "\n",
    "for i in per:\n",
    "    try:\n",
    "        print(float(i))\n",
    "    except:\n",
    "        print(0)"
   ]
  },
  {
   "cell_type": "markdown",
   "id": "4e3ad18a",
   "metadata": {},
   "source": [
    "**297 예외처리 및 리스트에 저장**\n",
    "\n",
    "문자열로 표현된 PER 값을 실수로 변환한 후 이를 새로운 리스트에 저장해보세요."
   ]
  },
  {
   "cell_type": "raw",
   "id": "92a5812a",
   "metadata": {},
   "source": [
    "per = [\"10.31\", \"\", \"8.00\"]\n",
    "\n",
    "for i in per:\n",
    "    print(float(per))"
   ]
  },
  {
   "cell_type": "code",
   "execution_count": 4,
   "id": "4eb7c846",
   "metadata": {},
   "outputs": [
    {
     "name": "stdout",
     "output_type": "stream",
     "text": [
      "[10.31, 0, 8.0]\n"
     ]
    }
   ],
   "source": [
    "per = [\"10.31\", \"\", \"8.00\"]\n",
    "\n",
    "a = []\n",
    "\n",
    "for i in per:\n",
    "    try:\n",
    "        b = float(i)\n",
    "    except:\n",
    "        b = 0\n",
    "    a.append(b)\n",
    "\n",
    "print(a)"
   ]
  },
  {
   "cell_type": "markdown",
   "id": "79317c21",
   "metadata": {},
   "source": [
    "**298 특정 예외만 처리하기**\n",
    "\n",
    "어떤 값을 0으로 나누면 ZeroDivisionError 에러가 발생합니다. try ~ except로 모든 에러에 대해 예외처리하지 말고 ZeroDivisionError 에러만 예외처리해보세요."
   ]
  },
  {
   "cell_type": "code",
   "execution_count": 5,
   "id": "2854af1a",
   "metadata": {},
   "outputs": [
    {
     "name": "stdout",
     "output_type": "stream",
     "text": [
      "오류발생\n"
     ]
    }
   ],
   "source": [
    "try:\n",
    "    a = 5/0\n",
    "except ZeroDivisionError:\n",
    "    print('오류발생')"
   ]
  },
  {
   "cell_type": "markdown",
   "id": "1b450de1",
   "metadata": {},
   "source": [
    "**299 예외의 메시지 출력하기**\n",
    "\n",
    "다음과 같은 코드 구조를 사용하면 예외 발생 시 에러 메시지를 변수로 바인딩할 수 있습니다."
   ]
  },
  {
   "cell_type": "raw",
   "id": "f5484e63",
   "metadata": {},
   "source": [
    "try:\n",
    "    실행코드\n",
    "except 예외 as 변수:\n",
    "    예외처리코드 \n",
    "    "
   ]
  },
  {
   "cell_type": "markdown",
   "id": "b6e613d4",
   "metadata": {},
   "source": [
    "리스트의 인덱싱에 대해 에러를 출력해보세요."
   ]
  },
  {
   "cell_type": "raw",
   "id": "bc59ae78",
   "metadata": {},
   "source": [
    "data = [1, 2, 3]\n",
    "\n",
    "for i in range(5)\n",
    "    print(data[i])"
   ]
  },
  {
   "cell_type": "code",
   "execution_count": 7,
   "id": "164436fe",
   "metadata": {},
   "outputs": [
    {
     "name": "stdout",
     "output_type": "stream",
     "text": [
      "1\n",
      "2\n",
      "3\n",
      "list index out of range\n",
      "list index out of range\n"
     ]
    }
   ],
   "source": [
    "data = [1, 2, 3]\n",
    "\n",
    "for i in range(5):\n",
    "    try:\n",
    "        print(data[i])\n",
    "    except IndexError as e:\n",
    "        print(e)"
   ]
  },
  {
   "cell_type": "markdown",
   "id": "1d9e0d61",
   "metadata": {},
   "source": [
    "**300 try, except, else, finally 구조 사용해보기**\n",
    "\n",
    "파이썬 예외처리는 다음과 같은 구조를 가질 수 있습니다."
   ]
  },
  {
   "cell_type": "raw",
   "id": "1363892c",
   "metadata": {},
   "source": [
    "try:\n",
    "    실행 코드\n",
    "except:\n",
    "    예외가 발생했을 때 수행할 코드\n",
    "else:\n",
    "    예외가 발생하지 않았을 때 수행할 코드\n",
    "finally:\n",
    "    예외 발생 여부와 상관없이 항상 수행할 코드"
   ]
  },
  {
   "cell_type": "markdown",
   "id": "0c01aab2",
   "metadata": {},
   "source": [
    "아래의 코드에 대해서 예외처리를 사용하고 try, except, else, finally에 적당한 코드를 작성해봅시다. else와 finally는 적당한 문구를 print하시면 됩니다."
   ]
  },
  {
   "cell_type": "raw",
   "id": "8419fc8c",
   "metadata": {},
   "source": [
    "per = [\"10.31\", \"\", \"8.00\"]\n",
    "\n",
    "for i in per:\n",
    "    print(float(per))"
   ]
  },
  {
   "cell_type": "code",
   "execution_count": null,
   "id": "3c8f5680",
   "metadata": {},
   "outputs": [],
   "source": [
    "per = [\"10.31\", \"\", \"8.00\"]\n",
    "\n",
    "for i in per:\n",
    "    try:\n",
    "        print(float(per))\n",
    "    else:\n",
    "        print(\"clean data\")\n",
    "    finally:\n",
    "        print(\"변환 완료\")"
   ]
  }
 ],
 "metadata": {
  "kernelspec": {
   "display_name": "Python 3 (ipykernel)",
   "language": "python",
   "name": "python3"
  },
  "language_info": {
   "codemirror_mode": {
    "name": "ipython",
    "version": 3
   },
   "file_extension": ".py",
   "mimetype": "text/x-python",
   "name": "python",
   "nbconvert_exporter": "python",
   "pygments_lexer": "ipython3",
   "version": "3.9.7"
  }
 },
 "nbformat": 4,
 "nbformat_minor": 5
}
