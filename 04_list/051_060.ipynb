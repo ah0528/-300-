{
 "cells": [
  {
   "cell_type": "markdown",
   "id": "8afd50a9",
   "metadata": {},
   "source": [
    "**051 리스트 생성**\n",
    "\n",
    "2016년 11월 영화 예매 순위 기준 top3는 다음과 같습니다. 영화 제목을 movie_rank 이름의 리스트에 저장해보세요. (순위 정보는 저장하지 않습니다.)\n",
    "\n",
    "|순위|영화|\n",
    "|---|-----|\n",
    "|1|닥터 스트레인지|\n",
    "|2|스플릿|\n",
    "|3|럭키|"
   ]
  },
  {
   "cell_type": "code",
   "execution_count": 1,
   "id": "64d77a93",
   "metadata": {},
   "outputs": [
    {
     "data": {
      "text/plain": [
       "['닥터 스트레인지', '스플릿', '럭키']"
      ]
     },
     "execution_count": 1,
     "metadata": {},
     "output_type": "execute_result"
    }
   ],
   "source": [
    "movie_rank = ['닥터 스트레인지', '스플릿', '럭키']\n",
    "movie_rank"
   ]
  },
  {
   "cell_type": "markdown",
   "id": "f9214f03",
   "metadata": {},
   "source": [
    "**052 리스트에 원소 추가**\n",
    "\n",
    "051의 movie_rank 리스트에 \"배트맨\"을 추가하라."
   ]
  },
  {
   "cell_type": "code",
   "execution_count": 2,
   "id": "69ff2399",
   "metadata": {},
   "outputs": [
    {
     "data": {
      "text/plain": [
       "['닥터 스트레인지', '스플릿', '럭키', '배트맨']"
      ]
     },
     "execution_count": 2,
     "metadata": {},
     "output_type": "execute_result"
    }
   ],
   "source": [
    "movie_rank.append('배트맨')\n",
    "movie_rank"
   ]
  },
  {
   "cell_type": "markdown",
   "id": "e3a1b205",
   "metadata": {},
   "source": [
    "**053**\n",
    "\n",
    "movie_rank 리스트에는 아래와 같이 네 개의 영화 제목이 바인딩되어 있다. \"슈퍼맨\"을 \"닥터 스트레인지\"와 \"스플릿\" 사이에 추가하라.\n",
    "\n",
    "movie_rank = ['닥터 스트레인지', '스플릿', '럭키', '배트맨']"
   ]
  },
  {
   "cell_type": "code",
   "execution_count": 4,
   "id": "53afc303",
   "metadata": {},
   "outputs": [
    {
     "data": {
      "text/plain": [
       "['닥터 스트레인지', '슈퍼맨', '스플릿', '럭키', '배트맨']"
      ]
     },
     "execution_count": 4,
     "metadata": {},
     "output_type": "execute_result"
    }
   ],
   "source": [
    "movie_rank.insert(1,'슈퍼맨')\n",
    "movie_rank"
   ]
  },
  {
   "cell_type": "markdown",
   "id": "e801fc8a",
   "metadata": {},
   "source": [
    "**054**\n",
    "\n",
    "movie_rank 리스트에서 '럭키'를 삭제하라.\n",
    "\n",
    "`movie_rank = ['닥터 스트레인지', '슈퍼맨', '스플릿', '럭키', '배트맨']`"
   ]
  },
  {
   "cell_type": "code",
   "execution_count": 5,
   "id": "3bde7b49",
   "metadata": {},
   "outputs": [
    {
     "data": {
      "text/plain": [
       "['닥터 스트레인지', '슈퍼맨', '스플릿', '배트맨']"
      ]
     },
     "execution_count": 5,
     "metadata": {},
     "output_type": "execute_result"
    }
   ],
   "source": [
    "del(movie_rank[3])\n",
    "movie_rank"
   ]
  },
  {
   "cell_type": "markdown",
   "id": "98c916f7",
   "metadata": {},
   "source": [
    "**055**\n",
    "\n",
    "movie_rank 리스트에서 '스플릿' 과 '배트맨'을 를 삭제하라.\n",
    "\n",
    "`movie_rank = ['닥터 스트레인지', '슈퍼맨', '스플릿', '배트맨']`"
   ]
  },
  {
   "cell_type": "code",
   "execution_count": 6,
   "id": "ec889ee5",
   "metadata": {},
   "outputs": [
    {
     "data": {
      "text/plain": [
       "['닥터 스트레인지', '슈퍼맨']"
      ]
     },
     "execution_count": 6,
     "metadata": {},
     "output_type": "execute_result"
    }
   ],
   "source": [
    "del(movie_rank[2:])\n",
    "movie_rank"
   ]
  },
  {
   "cell_type": "markdown",
   "id": "6a6a2e17",
   "metadata": {},
   "source": [
    "**056**\n",
    "\n",
    "lang1과 lang2 리스트가 있을 때 lang1과 lang2의 원소를 모두 갖고 있는 langs 리스트를 만들어라.\n",
    "\n",
    "`>> lang1 = [\"C\", \"C++\", \"JAVA\"]`\n",
    "\n",
    "`>> lang2 = [\"Python\", \"Go\", \"C#\"]`\n",
    "\n",
    "`실행 예:`\n",
    "\n",
    "`>> langs`\n",
    "\n",
    "`['C', 'C++', 'JAVA', 'Python', 'Go', 'C#']`"
   ]
  },
  {
   "cell_type": "code",
   "execution_count": 8,
   "id": "24300400",
   "metadata": {},
   "outputs": [
    {
     "data": {
      "text/plain": [
       "['C', 'C++', 'JAVA', 'Python', 'Go', 'C#']"
      ]
     },
     "execution_count": 8,
     "metadata": {},
     "output_type": "execute_result"
    }
   ],
   "source": [
    "lang1 = [\"C\", \"C++\", \"JAVA\"]\n",
    "lang2 = [\"Python\", \"Go\", \"C#\"]\n",
    "\n",
    "lang1 + lang2"
   ]
  },
  {
   "cell_type": "markdown",
   "id": "05117d32",
   "metadata": {},
   "source": [
    "**057**\n",
    "\n",
    "다음 리스트에서 최댓값과 최솟값을 출력하라. (힌트: min(), max() 함수 사용)\n",
    "\n",
    "`nums = [1, 2, 3, 4, 5, 6, 7]`\n",
    "\n",
    "`실행 예:`\n",
    "\n",
    "`max:  7`\n",
    "\n",
    "`min:  1`"
   ]
  },
  {
   "cell_type": "code",
   "execution_count": 12,
   "id": "7e80765a",
   "metadata": {},
   "outputs": [
    {
     "name": "stdout",
     "output_type": "stream",
     "text": [
      "최댓값: 7\n",
      "최솟값: 1\n"
     ]
    }
   ],
   "source": [
    "nums = [1, 2, 3, 4, 5, 6, 7]\n",
    "print(f'최댓값: {max(nums)}\\n최솟값: {min(nums)}')"
   ]
  },
  {
   "cell_type": "markdown",
   "id": "c7d349cb",
   "metadata": {},
   "source": [
    "**058**\n",
    "\n",
    "다음 리스트의 합을 출력하라.\n",
    "\n",
    "`nums = [1, 2, 3, 4, 5]`\n",
    "\n",
    "`실행 예:`\n",
    "\n",
    "`15`"
   ]
  },
  {
   "cell_type": "code",
   "execution_count": 14,
   "id": "47659102",
   "metadata": {},
   "outputs": [
    {
     "data": {
      "text/plain": [
       "15"
      ]
     },
     "execution_count": 14,
     "metadata": {},
     "output_type": "execute_result"
    }
   ],
   "source": [
    "nums = [1, 2, 3, 4, 5]\n",
    "sum(nums)"
   ]
  },
  {
   "cell_type": "markdown",
   "id": "d66598f6",
   "metadata": {},
   "source": [
    "**059**\n",
    "\n",
    "다음 리스트에 저장된 데이터의 개수를 화면에 구하하라.\n",
    "\n",
    "`cook = [\"피자\", \"김밥\", \"만두\", \"양념치킨\", \"족발\", \"피자\", \"김치만두\", \"쫄면\", \"소시지\", \"라면\", \"팥빙수\", \"김치전\"]`"
   ]
  },
  {
   "cell_type": "code",
   "execution_count": 19,
   "id": "9ade570d",
   "metadata": {},
   "outputs": [
    {
     "data": {
      "text/plain": [
       "12"
      ]
     },
     "execution_count": 19,
     "metadata": {},
     "output_type": "execute_result"
    }
   ],
   "source": [
    "cook = [\"피자\", \"김밥\", \"만두\", \"양념치킨\", \"족발\", \"피자\", \"김치만두\", \"쫄면\", \"소시지\", \"라면\", \"팥빙수\", \"김치전\"]\n",
    "len(cook)"
   ]
  },
  {
   "cell_type": "markdown",
   "id": "a8e84126",
   "metadata": {},
   "source": [
    "**060**\n",
    "\n",
    "다음 리스트의 평균을 출력하라.\n",
    "\n",
    "`nums = [1, 2, 3, 4, 5]`\n",
    "\n",
    "`실행 예:`\n",
    "\n",
    "`3.0`"
   ]
  },
  {
   "cell_type": "code",
   "execution_count": 24,
   "id": "b2dd3a2b",
   "metadata": {},
   "outputs": [
    {
     "data": {
      "text/plain": [
       "3.0"
      ]
     },
     "execution_count": 24,
     "metadata": {},
     "output_type": "execute_result"
    }
   ],
   "source": [
    "nums = [1, 2, 3, 4, 5]\n",
    "sum(nums)/len(nums)"
   ]
  }
 ],
 "metadata": {
  "kernelspec": {
   "display_name": "Python 3 (ipykernel)",
   "language": "python",
   "name": "python3"
  },
  "language_info": {
   "codemirror_mode": {
    "name": "ipython",
    "version": 3
   },
   "file_extension": ".py",
   "mimetype": "text/x-python",
   "name": "python",
   "nbconvert_exporter": "python",
   "pygments_lexer": "ipython3",
   "version": "3.9.7"
  }
 },
 "nbformat": 4,
 "nbformat_minor": 5
}
