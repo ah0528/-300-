{
 "cells": [
  {
   "cell_type": "markdown",
   "id": "68655a74",
   "metadata": {},
   "source": [
    "**071**\n",
    "\n",
    "my_variable 이름의 비어있는 튜플을 만들라."
   ]
  },
  {
   "cell_type": "code",
   "execution_count": 1,
   "id": "8f89bb57",
   "metadata": {},
   "outputs": [],
   "source": [
    "my_variable = ()"
   ]
  },
  {
   "cell_type": "markdown",
   "id": "711249c2",
   "metadata": {},
   "source": [
    "**072**\n",
    "\n",
    "2016년 11월 영화 예매 순위 기준 top3는 다음과 같다. 영화 제목을 movie_rank 이름의 튜플에 저장하라. (순위 정보는 저장하지 않는다.)\n",
    "\n",
    "|순위|영화|\n",
    "|----|----|\n",
    "|1|닥터 스트레인지|\n",
    "|2|스플릿|\n",
    "|3|럭키|"
   ]
  },
  {
   "cell_type": "code",
   "execution_count": 2,
   "id": "48dd7452",
   "metadata": {},
   "outputs": [],
   "source": [
    "movie_rank = ('닥터 스트레인지', '스플릿', '릭키')"
   ]
  },
  {
   "cell_type": "markdown",
   "id": "7c39b935",
   "metadata": {},
   "source": [
    "**073**\n",
    "\n",
    "숫자 1 이 저장된 튜플을 생성하라."
   ]
  },
  {
   "cell_type": "code",
   "execution_count": 3,
   "id": "ba7c984a",
   "metadata": {},
   "outputs": [],
   "source": [
    "tuple1 = (1,)"
   ]
  },
  {
   "cell_type": "markdown",
   "id": "1de9d834",
   "metadata": {},
   "source": [
    "**074**\n",
    "다음 코드를 실행해보고 오류가 발생하는 원인을 설명하라.\n",
    "\n",
    "`>> t = (1, 2, 3)`\n",
    "\n",
    "`>> t[0] = 'a'`\n",
    "\n",
    "Traceback (most recent call last):\n",
    "\n",
    "  File \"<pyshell#46>\", line 1, in <module>\n",
    "    \n",
    "    t[0] = 'a'\n",
    "    \n",
    "TypeError: 'tuple' object does not support item \n",
    "    assignment"
   ]
  },
  {
   "cell_type": "raw",
   "id": "f56a80dc",
   "metadata": {},
   "source": [
    "튜플은 원소의 값을 변경할 수 없다."
   ]
  },
  {
   "cell_type": "markdown",
   "id": "d79f8418",
   "metadata": {},
   "source": [
    "**075**\n",
    "\n",
    "아래와 같이 t에는 1, 2, 3, 4 데이터가 바인딩되어 있다. t가 바인딩하는 데이터 타입은 무엇인가?\n",
    "\n",
    "t = 1, 2, 3, 4"
   ]
  },
  {
   "cell_type": "raw",
   "id": "696041ec",
   "metadata": {},
   "source": [
    "튜플"
   ]
  },
  {
   "cell_type": "code",
   "execution_count": 6,
   "id": "3118de84",
   "metadata": {},
   "outputs": [
    {
     "data": {
      "text/plain": [
       "tuple"
      ]
     },
     "execution_count": 6,
     "metadata": {},
     "output_type": "execute_result"
    }
   ],
   "source": [
    "t = 1, 2, 3, 4\n",
    "type(t)"
   ]
  },
  {
   "cell_type": "markdown",
   "id": "392dc6d1",
   "metadata": {},
   "source": [
    "**076**\n",
    "\n",
    "변수 t에는 아래와 같은 값이 저장되어 있다. 변수 t가 ('A', 'b', 'c') 튜플을 가리키도록 수정 하라.\n",
    "\n",
    "t = ('a', 'b', 'c')"
   ]
  },
  {
   "cell_type": "code",
   "execution_count": 8,
   "id": "7a80cfda",
   "metadata": {},
   "outputs": [
    {
     "data": {
      "text/plain": [
       "('A', 'b', 'c')"
      ]
     },
     "execution_count": 8,
     "metadata": {},
     "output_type": "execute_result"
    }
   ],
   "source": [
    "t = ('a', 'b', 'c')\n",
    "t = ('A', 'b', 'c')\n",
    "t"
   ]
  },
  {
   "cell_type": "markdown",
   "id": "d4036901",
   "metadata": {},
   "source": [
    "**077**\n",
    "\n",
    "다음 튜플을 리스트로 변환하라.\n",
    "\n",
    "interest = ('삼성전자', 'LG전자', 'SK Hynix')"
   ]
  },
  {
   "cell_type": "code",
   "execution_count": 10,
   "id": "b4391563",
   "metadata": {},
   "outputs": [
    {
     "data": {
      "text/plain": [
       "['삼성전자', 'LG전자', 'SK Hynix']"
      ]
     },
     "execution_count": 10,
     "metadata": {},
     "output_type": "execute_result"
    }
   ],
   "source": [
    "interest = ('삼성전자', 'LG전자', 'SK Hynix')\n",
    "list(interest)"
   ]
  },
  {
   "cell_type": "markdown",
   "id": "f6e80230",
   "metadata": {},
   "source": [
    "**078**\n",
    "\n",
    "다음 리스트를 튜플로 변경하라.\n",
    "\n",
    "interest = ['삼성전자', 'LG전자', 'SK Hynix']"
   ]
  },
  {
   "cell_type": "code",
   "execution_count": 11,
   "id": "be70b519",
   "metadata": {},
   "outputs": [
    {
     "data": {
      "text/plain": [
       "('삼성전자', 'LG전자', 'SK Hynix')"
      ]
     },
     "execution_count": 11,
     "metadata": {},
     "output_type": "execute_result"
    }
   ],
   "source": [
    "interest = ['삼성전자', 'LG전자', 'SK Hynix']\n",
    "tuple(interest)"
   ]
  },
  {
   "cell_type": "markdown",
   "id": "d7a6672a",
   "metadata": {},
   "source": [
    "**079 튜플 언팩킹**\n",
    "\n",
    "다음 코드의 실행 결과를 예상하라.\n",
    "\n",
    "temp = ('apple', 'banana', 'cake')\n",
    "\n",
    "a, b, c = temp\n",
    "\n",
    "print(a, b, c)"
   ]
  },
  {
   "cell_type": "markdown",
   "id": "72145332",
   "metadata": {},
   "source": [
    "apple banana cake"
   ]
  },
  {
   "cell_type": "markdown",
   "id": "19509528",
   "metadata": {},
   "source": [
    "**080 range 함수**\n",
    "\n",
    "1 부터 99까지의 정수 중 짝수만 저장된 튜플을 생성하라.\n",
    "\n",
    "(2, 4, 6, 8 ... 98)"
   ]
  },
  {
   "cell_type": "code",
   "execution_count": 15,
   "id": "ee0f83d0",
   "metadata": {},
   "outputs": [
    {
     "name": "stdout",
     "output_type": "stream",
     "text": [
      "(2, 4, 6, 8, 10, 12, 14, 16, 18, 20, 22, 24, 26, 28, 30, 32, 34, 36, 38, 40, 42, 44, 46, 48, 50, 52, 54, 56, 58, 60, 62, 64, 66, 68, 70, 72, 74, 76, 78, 80, 82, 84, 86, 88, 90, 92, 94, 96, 98)\n"
     ]
    }
   ],
   "source": [
    "t1 = tuple(range(2, 100, 2))\n",
    "print(t1)"
   ]
  }
 ],
 "metadata": {
  "kernelspec": {
   "display_name": "Python 3 (ipykernel)",
   "language": "python",
   "name": "python3"
  },
  "language_info": {
   "codemirror_mode": {
    "name": "ipython",
    "version": 3
   },
   "file_extension": ".py",
   "mimetype": "text/x-python",
   "name": "python",
   "nbconvert_exporter": "python",
   "pygments_lexer": "ipython3",
   "version": "3.9.7"
  }
 },
 "nbformat": 4,
 "nbformat_minor": 5
}
